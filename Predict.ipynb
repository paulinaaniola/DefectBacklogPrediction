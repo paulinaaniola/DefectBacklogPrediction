{
 "cells": [
  {
   "cell_type": "code",
   "execution_count": 200,
   "metadata": {},
   "outputs": [
    {
     "name": "stderr",
     "output_type": "stream",
     "text": [
      "Warning message:\n",
      "“package ‘stats’ is not available (for R version 3.5.1)”Warning message:\n",
      "“package ‘stats’ is a base package, and should not be updated”"
     ]
    }
   ],
   "source": [
    "source(\"arima_prediction.R\")\n",
    "source(\"naive_prediction.R\")\n",
    "source(\"ericsson_prediction.R\")\n",
    "source(\"ets_prediction.R\")\n",
    "\n",
    "if (!require(forecast)){\n",
    "    installed <- T\n",
    "    install.packages(\"forecast\")\n",
    "}\n",
    "if (!require(dplyr)){\n",
    "    install.packages(\"dplyr\")\n",
    "    require(dplyr)\n",
    "}\n",
    "install.packages(\"stats\")\n",
    "require(stats)"
   ]
  },
  {
   "cell_type": "code",
   "execution_count": 203,
   "metadata": {},
   "outputs": [],
   "source": [
    "training_history = c(4)\n",
    "weeks_to_predict = c(1, 2, 3, 4)\n",
    "methods = c(\"ets\")\n",
    "io_storage = c(\"kernel\", \"IO_Storage\")\n",
    "networking = c(\"kernel\", \"networking\")\n",
    "calendar = c(\"mozilla\", \"calendar\")\n",
    "products = rbind(networking)\n",
    "\n",
    "for(i in 1:nrow(products)){\n",
    "    for(j in 1:length(methods)){\n",
    "        if(methods[j] == \"arima\") {\n",
    "            for(k in 1:length(training_history)){\n",
    "                arima_prediction(products[i,], training_history[k], 2)\n",
    "            }\n",
    "        } else if(methods[j] == \"ets\") {\n",
    "            for(k in 1:length(training_history)){\n",
    "                ets_prediction(products[i,], training_history[k], 3)\n",
    "            }\n",
    "        } else if (methods[j] == \"naive\"){\n",
    "            naive_prediction(products[i,])\n",
    "        } else if (methods[j] == \"ericsson\"){\n",
    "            ericsson_prediction(products[i,])\n",
    "        }\n",
    "    }\n",
    "}\n"
   ]
  }
 ],
 "metadata": {
  "kernelspec": {
   "display_name": "R 3.3",
   "language": "R",
   "name": "ir33"
  },
  "language_info": {
   "codemirror_mode": "r",
   "file_extension": ".r",
   "mimetype": "text/x-r-source",
   "name": "R",
   "pygments_lexer": "r",
   "version": "3.5.1"
  }
 },
 "nbformat": 4,
 "nbformat_minor": 2
}
