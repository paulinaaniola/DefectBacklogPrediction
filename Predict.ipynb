{
 "cells": [
  {
   "cell_type": "code",
   "execution_count": 300,
   "metadata": {},
   "outputs": [
    {
     "name": "stderr",
     "output_type": "stream",
     "text": [
      "Warning message:\n",
      "“package ‘stats’ is not available (for R version 3.5.1)”Warning message:\n",
      "“package ‘stats’ is a base package, and should not be updated”"
     ]
    }
   ],
   "source": [
    "source(\"arima_prediction.R\")\n",
    "source(\"naive_prediction.R\")\n",
    "source(\"ericsson_prediction.R\")\n",
    "source(\"ets_prediction.R\")\n",
    "\n",
    "if (!require(forecast)){\n",
    "    installed <- T\n",
    "    install.packages(\"forecast\")\n",
    "}\n",
    "if (!require(dplyr)){\n",
    "    install.packages(\"dplyr\")\n",
    "    require(dplyr)\n",
    "}\n",
    "install.packages(\"stats\")\n",
    "require(stats)"
   ]
  },
  {
   "cell_type": "code",
   "execution_count": null,
   "metadata": {},
   "outputs": [],
   "source": [
    "# training history = 0 means that all past data will be used for training\n",
    "training_history = c(0, 2, 4, 8, 16, 32)\n",
    "number_of_weeks_to_predict = 3\n",
    "#methods = c(\"ets\", \"arima\", \"naive\", \"ericsson\")\n",
    "\n",
    "eclipse_data_tools = c(\"eclipse\", \"data_tools\")\n",
    "eclipse_platform = c(\"eclipse\", \"platform\")\n",
    "eclipse_birt = c(\"eclipse\", \"birt\")\n",
    "eclipse_jdt = c(\"eclipse\", \"jdt\")\n",
    "eclipse_pde = c(\"eclipse\", \"pde\")\n",
    "\n",
    "mozilla_calendar = c(\"mozilla\", \"calendar\")\n",
    "mozilla_firefox = c(\"mozilla\", \"firefox\")\n",
    "mozilla_core = c(\"mozilla\", \"core\")\n",
    "mozilla_thunderbirt = c(\"mozilla\", \"thunderbirt\")\n",
    "\n",
    "kernel_io_storage = c(\"kernel\", \"IO_Storage\")\n",
    "kernel_networking = c(\"kernel\", \"networking\")\n",
    "kernel_file_system = c(\"kernel\", \"file_system\")\n",
    "\n",
    "open_office_writer = c(\"open_office\", \"writer\")\n",
    "open_office_calc = c(\"open_office\", \"calc\")\n",
    "open_office_draw = c(\"open_office\", \"draw\")\n",
    "\n",
    "apache_ant = c(\"apache\", \"ant\")\n",
    "apache_apache2 = c(\"apache\", \"apache2\")\n",
    "\n",
    "libre_office_writer = c(\"libre_office\", \"writer\")\n",
    "libre_office_calc = c(\"libre_office\", \"calc\")\n",
    "libre_office_draw = c(\"libre_office\", \"draw\")\n",
    "\n",
    "products = rbind(libre_office_draw)\n",
    "\n",
    "for(i in 1:nrow(products)){\n",
    "    for(j in 1:length(methods)){\n",
    "        if(methods[j] == \"arima\") {\n",
    "            for(k in 1:length(training_history)){\n",
    "                arima_prediction(products[i,], training_history[k], number_of_weeks_to_predict)\n",
    "            }\n",
    "        } else if(methods[j] == \"ets\") {\n",
    "            for(k in 1:length(training_history)){\n",
    "                ets_prediction(products[i,], training_history[k], number_of_weeks_to_predict)\n",
    "            }\n",
    "        } else if (methods[j] == \"naive\"){\n",
    "            naive_prediction(products[i,])\n",
    "        } else if (methods[j] == \"ericsson\"){\n",
    "            ericsson_prediction(products[i,])\n",
    "        }\n",
    "    }\n",
    "}\n"
   ]
  }
 ],
 "metadata": {
  "kernelspec": {
   "display_name": "R 3.3",
   "language": "R",
   "name": "ir33"
  },
  "language_info": {
   "codemirror_mode": "r",
   "file_extension": ".r",
   "mimetype": "text/x-r-source",
   "name": "R",
   "pygments_lexer": "r",
   "version": "3.5.1"
  }
 },
 "nbformat": 4,
 "nbformat_minor": 2
}
