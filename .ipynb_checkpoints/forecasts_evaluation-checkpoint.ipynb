{
 "cells": [
  {
   "cell_type": "code",
   "execution_count": 5,
   "metadata": {},
   "outputs": [],
   "source": [
    "evaluate_forecasts <- function(errors_paths, raport_drop_path){\n",
    "    summary <- data.frame()\n",
    "    mean_error <- c()\n",
    "    method_name <- c()\n",
    "    for(i in 1:length(errors_paths)){\n",
    "        forecasts <- read.csv(file=errors_paths[i], header=TRUE, sep=\",\")\n",
    "        method_name[i] = as.character(forecasts$Method[1])\n",
    "        mean_error[i] = mean(forecasts$Absolute_error)\n",
    "    }\n",
    "summary = cbind(method_name, mean_error)\n",
    "colnames(summary) <- c(\"Method\", \"Mean error\")\n",
    "write.table(summary, file = raport_drop_path, sep=\",\")\n",
    "}"
   ]
  },
  {
   "cell_type": "code",
   "execution_count": 6,
   "metadata": {},
   "outputs": [
    {
     "name": "stderr",
     "output_type": "stream",
     "text": [
      "Warning message in mean.default(forecasts$Absolute_error):\n",
      "“argument is not numeric or logical: returning NA”Warning message in mean.default(forecasts$Absolute_error):\n",
      "“argument is not numeric or logical: returning NA”Warning message in mean.default(forecasts$Absolute_error):\n",
      "“argument is not numeric or logical: returning NA”"
     ]
    }
   ],
   "source": [
    "evaluate_forecasts(c(\"/Users/paulina/magisterka/eclipse/forecasts/ericsson_30_12_12-4_1_16.csv\",\n",
    "                     \"/Users/paulina/magisterka/eclipse/forecasts/auto_arima_30_12_12-4_1_16.csv\",\n",
    "                     \"/Users/paulina/magisterka/eclipse/forecasts/naive_30_12_12-4_1_16.csv\"),\n",
    "                     \"/Users/paulina/magisterka/eclipse/forecasts_evaluations/evaluation_30_12_12-4_1_16.csv\"\n",
    "                    )"
   ]
  },
  {
   "cell_type": "code",
   "execution_count": 124,
   "metadata": {},
   "outputs": [
    {
     "data": {
      "text/html": [
       "<table>\n",
       "<thead><tr><th scope=col>Method</th><th scope=col>Mean.error</th></tr></thead>\n",
       "<tbody>\n",
       "\t<tr><td>ericsson  </td><td> 1.115    </td></tr>\n",
       "\t<tr><td>auto_arima</td><td>21.345    </td></tr>\n",
       "\t<tr><td>naive     </td><td>20.810    </td></tr>\n",
       "</tbody>\n",
       "</table>\n"
      ],
      "text/latex": [
       "\\begin{tabular}{r|ll}\n",
       " Method & Mean.error\\\\\n",
       "\\hline\n",
       "\t ericsson   &  1.115    \\\\\n",
       "\t auto\\_arima & 21.345      \\\\\n",
       "\t naive      & 20.810    \\\\\n",
       "\\end{tabular}\n"
      ],
      "text/markdown": [
       "\n",
       "Method | Mean.error | \n",
       "|---|---|---|\n",
       "| ericsson   |  1.115     | \n",
       "| auto_arima | 21.345     | \n",
       "| naive      | 20.810     | \n",
       "\n",
       "\n"
      ],
      "text/plain": [
       "  Method     Mean.error\n",
       "1 ericsson    1.115    \n",
       "2 auto_arima 21.345    \n",
       "3 naive      20.810    "
      ]
     },
     "metadata": {},
     "output_type": "display_data"
    }
   ],
   "source": [
    "read.csv(file=\"/Users/paulina/magisterka/eclipse/forecasts_evaluations/evaluation_30_12_12-4_1_16.csv\", header=TRUE, sep=\",\")"
   ]
  }
 ],
 "metadata": {
  "kernelspec": {
   "display_name": "R 3.3",
   "language": "R",
   "name": "ir33"
  },
  "language_info": {
   "codemirror_mode": "r",
   "file_extension": ".r",
   "mimetype": "text/x-r-source",
   "name": "R",
   "pygments_lexer": "r",
   "version": "3.5.1"
  }
 },
 "nbformat": 4,
 "nbformat_minor": 2
}
