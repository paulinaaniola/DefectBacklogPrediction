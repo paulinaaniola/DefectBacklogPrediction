{
 "cells": [
  {
   "cell_type": "code",
   "execution_count": 202,
   "metadata": {},
   "outputs": [
    {
     "name": "stderr",
     "output_type": "stream",
     "text": [
      "Warning message:\n",
      "“package ‘stats’ is not available (for R version 3.5.1)”Warning message:\n",
      "“package ‘stats’ is a base package, and should not be updated”"
     ]
    }
   ],
   "source": [
    "source(\"arima_prediction.R\")\n",
    "source(\"naive_prediction.R\")\n",
    "source(\"ericsson_prediction.R\")\n",
    "source(\"ets_prediction.R\")\n",
    "\n",
    "if (!require(forecast)){\n",
    "    installed <- T\n",
    "    install.packages(\"forecast\")\n",
    "}\n",
    "if (!require(dplyr)){\n",
    "    install.packages(\"dplyr\")\n",
    "    require(dplyr)\n",
    "}\n",
    "install.packages(\"stats\")\n",
    "require(stats)"
   ]
  },
  {
   "cell_type": "code",
   "execution_count": 184,
   "metadata": {},
   "outputs": [
    {
     "data": {
      "text/html": [
       "0"
      ],
      "text/latex": [
       "0"
      ],
      "text/markdown": [
       "0"
      ],
      "text/plain": [
       "[1] 0"
      ]
     },
     "metadata": {},
     "output_type": "display_data"
    }
   ],
   "source": [
    "defect_backlog = read.csv(file=paste(\"data/mozilla/calendar/mozilla_calendar_backlog.csv\", sep=\"\"), header=TRUE, sep=\",\")\n",
    "backlog_all = ts(defect_backlog$backlog_all)\n",
    "\n",
    "defect_backlog$number[1]\n",
    "\n"
   ]
  },
  {
   "cell_type": "code",
   "execution_count": 210,
   "metadata": {},
   "outputs": [
    {
     "name": "stdout",
     "output_type": "stream",
     "text": [
      "[1] 1\n",
      "[1] 4\n",
      "[1] 9\n",
      "[1] 15\n",
      "[1] 17\n",
      "[1] 22\n",
      "[1] 27\n",
      "[1] 33\n",
      "[1] 34\n",
      "[1] 41\n",
      "[1] 44\n",
      "[1] 47\n",
      "[1] 52\n",
      "[1] 59\n",
      "[1] 63\n",
      "[1] 65\n",
      "[1] 72\n",
      "[1] 75\n",
      "[1] 78\n",
      "[1] 85\n",
      "[1] 89\n",
      "[1] 94\n",
      "[1] 96\n",
      "[1] 102\n",
      "[1] 107\n",
      "[1] 110\n",
      "[1] 116\n",
      "[1] 120\n",
      "[1] 123\n",
      "[1] 125\n",
      "[1] 130\n",
      "[1] 135\n",
      "[1] 141\n",
      "[1] 145\n",
      "[1] 149\n",
      "[1] 154\n",
      "[1] 157\n",
      "[1] 161\n",
      "[1] 168\n",
      "[1] 172\n",
      "[1] 174\n",
      "[1] 180\n",
      "[1] 185\n",
      "[1] 187\n",
      "[1] 191\n",
      "[1] 197\n",
      "[1] 200\n",
      "[1] 204\n",
      "[1] 210\n",
      "[1] 212\n",
      "[1] 218\n",
      "[1] 224\n",
      "[1] 227\n",
      "[1] 233\n",
      "[1] 234\n",
      "[1] 241\n",
      "[1] 244\n",
      "[1] 249\n",
      "[1] 255\n",
      "[1] 256\n",
      "[1] 262\n",
      "[1] 264\n",
      "[1] 269\n",
      "[1] 273\n",
      "[1] 278\n",
      "[1] 284\n",
      "[1] 288\n",
      "[1] 290\n",
      "[1] 297\n",
      "[1] 299\n",
      "[1] 305\n",
      "[1] 308\n",
      "[1] 314\n",
      "[1] 319\n",
      "[1] 321\n",
      "[1] 327\n",
      "[1] 330\n",
      "[1] 336\n",
      "[1] 342\n",
      "[1] 343\n",
      "[1] 349\n",
      "[1] 352\n",
      "[1] 357\n",
      "[1] 363\n",
      "[1] 368\n",
      "[1] 370\n",
      "[1] 375\n",
      "[1] 381\n",
      "[1] 384\n",
      "[1] 388\n",
      "[1] 390\n",
      "[1] 396\n",
      "[1] 401\n",
      "[1] 404\n",
      "[1] 408\n",
      "[1] 414\n",
      "[1] 420\n",
      "[1] 424\n",
      "[1] 429\n",
      "[1] 430\n",
      "[1] 436\n",
      "[1] 440\n",
      "[1] 443\n",
      "[1] 449\n",
      "[1] 455\n",
      "[1] 456\n",
      "[1] 460\n",
      "[1] 468\n",
      "[1] 472\n",
      "[1] 476\n",
      "[1] 481\n",
      "[1] 484\n",
      "[1] 489\n",
      "[1] 491\n",
      "[1] 498\n",
      "[1] 501\n",
      "[1] 506\n",
      "[1] 510\n",
      "[1] 513\n",
      "[1] 518\n",
      "[1] 524\n",
      "[1] 528\n",
      "[1] 531\n",
      "[1] 537\n",
      "[1] 540\n",
      "[1] 546\n",
      "[1] 547\n",
      "[1] 553\n",
      "[1] 559\n",
      "[1] 562\n",
      "[1] 565\n",
      "[1] 569\n",
      "[1] 574\n",
      "[1] 577\n",
      "[1] 583\n",
      "[1] 587\n",
      "[1] 594\n",
      "[1] 595\n",
      "[1] 603\n",
      "[1] 606\n",
      "[1] 611\n",
      "[1] 616\n",
      "[1] 619\n",
      "[1] 624\n",
      "[1] 626\n",
      "[1] 631\n",
      "[1] 637\n",
      "[1] 639\n",
      "[1] 646\n",
      "[1] 649\n",
      "[1] 654\n",
      "[1] 656\n",
      "[1] 663\n",
      "[1] 667\n",
      "[1] 670\n",
      "[1] 673\n",
      "[1] 679\n",
      "[1] 683\n",
      "[1] 690\n",
      "[1] 691\n",
      "[1] 698\n",
      "[1] 701\n",
      "[1] 705\n",
      "[1] 710\n",
      "[1] 716\n",
      "[1] 717\n",
      "[1] 722\n",
      "[1] 728\n",
      "[1] 733\n",
      "[1] 735\n",
      "[1] 738\n",
      "[1] 744\n",
      "[1] 749\n",
      "[1] 754\n",
      "[1] 759\n",
      "[1] 762\n",
      "[1] 765\n",
      "[1] 771\n",
      "[1] 776\n",
      "[1] 780\n",
      "[1] 783\n",
      "[1] 789\n",
      "[1] 793\n",
      "[1] 795\n",
      "[1] 803\n",
      "[1] 804\n",
      "[1] 811\n",
      "[1] 816\n",
      "[1] 817\n",
      "[1] 824\n",
      "[1] 826\n",
      "[1] 831\n",
      "[1] 834\n",
      "[1] 841\n",
      "[1] 844\n",
      "[1] 849\n",
      "[1] 853\n",
      "[1] 859\n",
      "[1] 863\n",
      "[1] 865\n",
      "[1] 869\n",
      "[1] 874\n",
      "[1] 878\n",
      "[1] 885\n",
      "[1] 888\n",
      "[1] 893\n",
      "[1] 896\n",
      "[1] 901\n",
      "[1] 903\n",
      "[1] 909\n",
      "[1] 914\n",
      "[1] 918\n",
      "[1] 921\n",
      "[1] 925\n",
      "[1] 932\n",
      "[1] 937\n",
      "[1] 942\n",
      "[1] 943\n",
      "[1] 1\n",
      "[1] 4\n",
      "[1] 9\n",
      "[1] 15\n",
      "[1] 17\n",
      "[1] 22\n",
      "[1] 27\n",
      "[1] 33\n",
      "[1] 34\n",
      "[1] 41\n",
      "[1] 44\n",
      "[1] 47\n",
      "[1] 52\n",
      "[1] 59\n",
      "[1] 63\n",
      "[1] 65\n",
      "[1] 72\n",
      "[1] 75\n",
      "[1] 78\n",
      "[1] 85\n",
      "[1] 89\n",
      "[1] 94\n",
      "[1] 96\n",
      "[1] 102\n",
      "[1] 107\n",
      "[1] 110\n",
      "[1] 116\n",
      "[1] 120\n",
      "[1] 123\n",
      "[1] 125\n",
      "[1] 130\n",
      "[1] 135\n",
      "[1] 141\n",
      "[1] 145\n",
      "[1] 149\n",
      "[1] 154\n",
      "[1] 157\n",
      "[1] 161\n",
      "[1] 168\n",
      "[1] 172\n",
      "[1] 174\n",
      "[1] 180\n",
      "[1] 185\n",
      "[1] 187\n",
      "[1] 191\n",
      "[1] 197\n",
      "[1] 200\n",
      "[1] 204\n",
      "[1] 210\n",
      "[1] 212\n",
      "[1] 218\n",
      "[1] 224\n",
      "[1] 227\n",
      "[1] 233\n",
      "[1] 234\n",
      "[1] 241\n",
      "[1] 244\n",
      "[1] 249\n",
      "[1] 255\n",
      "[1] 256\n",
      "[1] 262\n",
      "[1] 264\n",
      "[1] 269\n",
      "[1] 273\n",
      "[1] 278\n",
      "[1] 284\n",
      "[1] 288\n",
      "[1] 290\n",
      "[1] 297\n",
      "[1] 299\n",
      "[1] 305\n",
      "[1] 308\n",
      "[1] 314\n",
      "[1] 319\n",
      "[1] 321\n",
      "[1] 327\n",
      "[1] 330\n",
      "[1] 336\n",
      "[1] 342\n",
      "[1] 343\n",
      "[1] 349\n",
      "[1] 352\n",
      "[1] 357\n",
      "[1] 363\n",
      "[1] 368\n",
      "[1] 370\n",
      "[1] 375\n",
      "[1] 381\n",
      "[1] 384\n",
      "[1] 388\n",
      "[1] 390\n",
      "[1] 396\n",
      "[1] 401\n",
      "[1] 404\n",
      "[1] 408\n",
      "[1] 414\n",
      "[1] 420\n",
      "[1] 424\n",
      "[1] 429\n",
      "[1] 430\n",
      "[1] 436\n",
      "[1] 440\n",
      "[1] 443\n",
      "[1] 449\n",
      "[1] 455\n",
      "[1] 456\n",
      "[1] 460\n",
      "[1] 468\n",
      "[1] 472\n",
      "[1] 476\n",
      "[1] 481\n",
      "[1] 484\n",
      "[1] 489\n",
      "[1] 491\n",
      "[1] 498\n",
      "[1] 501\n",
      "[1] 506\n",
      "[1] 510\n",
      "[1] 513\n",
      "[1] 518\n",
      "[1] 524\n",
      "[1] 528\n",
      "[1] 531\n",
      "[1] 537\n",
      "[1] 540\n",
      "[1] 546\n",
      "[1] 547\n",
      "[1] 553\n",
      "[1] 559\n",
      "[1] 562\n",
      "[1] 565\n",
      "[1] 569\n",
      "[1] 574\n",
      "[1] 577\n",
      "[1] 583\n",
      "[1] 587\n",
      "[1] 594\n",
      "[1] 595\n",
      "[1] 603\n",
      "[1] 606\n",
      "[1] 611\n",
      "[1] 616\n",
      "[1] 619\n",
      "[1] 624\n",
      "[1] 626\n",
      "[1] 631\n",
      "[1] 637\n",
      "[1] 639\n",
      "[1] 646\n",
      "[1] 649\n",
      "[1] 654\n",
      "[1] 656\n",
      "[1] 663\n",
      "[1] 667\n",
      "[1] 670\n",
      "[1] 673\n",
      "[1] 679\n",
      "[1] 683\n",
      "[1] 690\n",
      "[1] 691\n",
      "[1] 698\n",
      "[1] 701\n",
      "[1] 705\n",
      "[1] 710\n",
      "[1] 716\n",
      "[1] 717\n",
      "[1] 722\n",
      "[1] 728\n",
      "[1] 733\n",
      "[1] 735\n",
      "[1] 738\n",
      "[1] 744\n",
      "[1] 749\n",
      "[1] 754\n",
      "[1] 759\n",
      "[1] 762\n",
      "[1] 765\n",
      "[1] 771\n",
      "[1] 776\n",
      "[1] 780\n",
      "[1] 783\n",
      "[1] 789\n",
      "[1] 793\n",
      "[1] 795\n",
      "[1] 803\n",
      "[1] 804\n",
      "[1] 811\n",
      "[1] 816\n",
      "[1] 817\n",
      "[1] 824\n",
      "[1] 826\n",
      "[1] 831\n",
      "[1] 834\n",
      "[1] 841\n",
      "[1] 844\n",
      "[1] 849\n",
      "[1] 853\n",
      "[1] 859\n",
      "[1] 863\n",
      "[1] 865\n",
      "[1] 869\n",
      "[1] 874\n",
      "[1] 878\n",
      "[1] 885\n",
      "[1] 888\n",
      "[1] 893\n",
      "[1] 896\n",
      "[1] 901\n",
      "[1] 903\n",
      "[1] 909\n",
      "[1] 914\n",
      "[1] 918\n",
      "[1] 921\n",
      "[1] 925\n",
      "[1] 932\n",
      "[1] 937\n",
      "[1] 942\n",
      "[1] 943\n",
      "[1] 1\n",
      "[1] 4\n",
      "[1] 9\n",
      "[1] 15\n",
      "[1] 17\n",
      "[1] 22\n",
      "[1] 27\n",
      "[1] 33\n",
      "[1] 34\n",
      "[1] 41\n",
      "[1] 44\n",
      "[1] 47\n",
      "[1] 52\n",
      "[1] 59\n",
      "[1] 63\n",
      "[1] 65\n",
      "[1] 72\n",
      "[1] 75\n",
      "[1] 78\n",
      "[1] 85\n",
      "[1] 89\n",
      "[1] 94\n",
      "[1] 96\n",
      "[1] 102\n",
      "[1] 107\n",
      "[1] 110\n",
      "[1] 116\n",
      "[1] 120\n",
      "[1] 123\n",
      "[1] 125\n",
      "[1] 130\n",
      "[1] 135\n",
      "[1] 141\n",
      "[1] 145\n",
      "[1] 149\n",
      "[1] 154\n",
      "[1] 157\n",
      "[1] 161\n",
      "[1] 168\n",
      "[1] 172\n",
      "[1] 174\n",
      "[1] 180\n",
      "[1] 185\n",
      "[1] 187\n",
      "[1] 191\n",
      "[1] 197\n",
      "[1] 200\n",
      "[1] 204\n",
      "[1] 210\n",
      "[1] 212\n",
      "[1] 218\n",
      "[1] 224\n",
      "[1] 227\n",
      "[1] 233\n",
      "[1] 234\n",
      "[1] 241\n",
      "[1] 244\n",
      "[1] 249\n",
      "[1] 255\n",
      "[1] 256\n",
      "[1] 262\n",
      "[1] 264\n",
      "[1] 269\n",
      "[1] 273\n",
      "[1] 278\n",
      "[1] 284\n",
      "[1] 288\n",
      "[1] 290\n",
      "[1] 297\n",
      "[1] 299\n",
      "[1] 305\n",
      "[1] 308\n",
      "[1] 314\n",
      "[1] 319\n",
      "[1] 321\n",
      "[1] 327\n",
      "[1] 330\n",
      "[1] 336\n",
      "[1] 342\n",
      "[1] 343\n",
      "[1] 349\n",
      "[1] 352\n",
      "[1] 357\n",
      "[1] 363\n",
      "[1] 368\n",
      "[1] 370\n",
      "[1] 375\n",
      "[1] 381\n",
      "[1] 384\n",
      "[1] 388\n",
      "[1] 390\n",
      "[1] 396\n",
      "[1] 401\n",
      "[1] 404\n",
      "[1] 408\n",
      "[1] 414\n",
      "[1] 420\n",
      "[1] 424\n",
      "[1] 429\n",
      "[1] 430\n",
      "[1] 436\n",
      "[1] 440\n",
      "[1] 443\n",
      "[1] 449\n",
      "[1] 455\n",
      "[1] 456\n",
      "[1] 460\n",
      "[1] 468\n",
      "[1] 472\n",
      "[1] 476\n",
      "[1] 481\n",
      "[1] 484\n",
      "[1] 489\n",
      "[1] 491\n",
      "[1] 498\n",
      "[1] 501\n",
      "[1] 506\n",
      "[1] 510\n",
      "[1] 513\n",
      "[1] 518\n",
      "[1] 524\n",
      "[1] 528\n",
      "[1] 531\n",
      "[1] 537\n",
      "[1] 540\n",
      "[1] 546\n",
      "[1] 547\n",
      "[1] 553\n",
      "[1] 559\n",
      "[1] 562\n",
      "[1] 565\n",
      "[1] 569\n",
      "[1] 574\n",
      "[1] 577\n",
      "[1] 583\n",
      "[1] 587\n",
      "[1] 594\n",
      "[1] 595\n",
      "[1] 603\n",
      "[1] 606\n",
      "[1] 611\n",
      "[1] 616\n",
      "[1] 619\n",
      "[1] 624\n",
      "[1] 626\n",
      "[1] 631\n",
      "[1] 637\n",
      "[1] 639\n",
      "[1] 646\n",
      "[1] 649\n",
      "[1] 654\n",
      "[1] 656\n",
      "[1] 663\n",
      "[1] 667\n",
      "[1] 670\n",
      "[1] 673\n",
      "[1] 679\n",
      "[1] 683\n",
      "[1] 690\n",
      "[1] 691\n",
      "[1] 698\n",
      "[1] 701\n",
      "[1] 705\n",
      "[1] 710\n",
      "[1] 716\n",
      "[1] 717\n",
      "[1] 722\n",
      "[1] 728\n",
      "[1] 733\n",
      "[1] 735\n",
      "[1] 738\n",
      "[1] 744\n",
      "[1] 749\n",
      "[1] 754\n",
      "[1] 759\n",
      "[1] 762\n",
      "[1] 765\n",
      "[1] 771\n",
      "[1] 776\n",
      "[1] 780\n",
      "[1] 783\n",
      "[1] 789\n",
      "[1] 793\n",
      "[1] 795\n",
      "[1] 803\n",
      "[1] 804\n",
      "[1] 811\n",
      "[1] 816\n",
      "[1] 817\n",
      "[1] 824\n",
      "[1] 826\n",
      "[1] 831\n",
      "[1] 834\n",
      "[1] 841\n",
      "[1] 844\n",
      "[1] 849\n",
      "[1] 853\n",
      "[1] 859\n",
      "[1] 863\n",
      "[1] 865\n",
      "[1] 869\n",
      "[1] 874\n",
      "[1] 878\n",
      "[1] 885\n",
      "[1] 888\n",
      "[1] 893\n",
      "[1] 896\n",
      "[1] 901\n",
      "[1] 903\n",
      "[1] 909\n",
      "[1] 914\n",
      "[1] 918\n",
      "[1] 921\n",
      "[1] 925\n",
      "[1] 932\n",
      "[1] 937\n",
      "[1] 942\n",
      "[1] 943\n",
      "[1] 1\n",
      "[1] 4\n",
      "[1] 9\n",
      "[1] 15\n",
      "[1] 17\n",
      "[1] 22\n",
      "[1] 27\n",
      "[1] 33\n",
      "[1] 34\n",
      "[1] 41\n",
      "[1] 44\n",
      "[1] 47\n",
      "[1] 52\n",
      "[1] 59\n",
      "[1] 63\n",
      "[1] 65\n",
      "[1] 72\n",
      "[1] 75\n",
      "[1] 78\n",
      "[1] 85\n",
      "[1] 89\n",
      "[1] 94\n",
      "[1] 96\n",
      "[1] 102\n",
      "[1] 107\n",
      "[1] 110\n",
      "[1] 116\n",
      "[1] 120\n",
      "[1] 123\n",
      "[1] 125\n",
      "[1] 130\n",
      "[1] 135\n",
      "[1] 141\n",
      "[1] 145\n",
      "[1] 149\n",
      "[1] 154\n",
      "[1] 157\n",
      "[1] 161\n",
      "[1] 168\n",
      "[1] 172\n",
      "[1] 174\n",
      "[1] 180\n",
      "[1] 185\n",
      "[1] 187\n",
      "[1] 191\n",
      "[1] 197\n",
      "[1] 200\n",
      "[1] 204\n",
      "[1] 210\n",
      "[1] 212\n",
      "[1] 218\n",
      "[1] 224\n",
      "[1] 227\n",
      "[1] 233\n",
      "[1] 234\n",
      "[1] 241\n",
      "[1] 244\n",
      "[1] 249\n",
      "[1] 255\n",
      "[1] 256\n",
      "[1] 262\n",
      "[1] 264\n",
      "[1] 269\n",
      "[1] 273\n",
      "[1] 278\n",
      "[1] 284\n",
      "[1] 288\n",
      "[1] 290\n",
      "[1] 297\n",
      "[1] 299\n",
      "[1] 305\n",
      "[1] 308\n",
      "[1] 314\n",
      "[1] 319\n",
      "[1] 321\n",
      "[1] 327\n",
      "[1] 330\n",
      "[1] 336\n",
      "[1] 342\n",
      "[1] 343\n",
      "[1] 349\n",
      "[1] 352\n",
      "[1] 357\n",
      "[1] 363\n",
      "[1] 368\n",
      "[1] 370\n",
      "[1] 375\n",
      "[1] 381\n",
      "[1] 384\n",
      "[1] 388\n",
      "[1] 390\n",
      "[1] 396\n",
      "[1] 401\n",
      "[1] 404\n",
      "[1] 408\n",
      "[1] 414\n",
      "[1] 420\n",
      "[1] 424\n",
      "[1] 429\n",
      "[1] 430\n",
      "[1] 436\n",
      "[1] 440\n",
      "[1] 443\n",
      "[1] 449\n",
      "[1] 455\n",
      "[1] 456\n",
      "[1] 460\n",
      "[1] 468\n",
      "[1] 472\n",
      "[1] 476\n",
      "[1] 481\n",
      "[1] 484\n",
      "[1] 489\n",
      "[1] 491\n",
      "[1] 498\n",
      "[1] 501\n",
      "[1] 506\n",
      "[1] 510\n",
      "[1] 513\n",
      "[1] 518\n",
      "[1] 524\n",
      "[1] 528\n",
      "[1] 531\n",
      "[1] 537\n",
      "[1] 540\n",
      "[1] 546\n",
      "[1] 547\n",
      "[1] 553\n",
      "[1] 559\n",
      "[1] 562\n",
      "[1] 565\n",
      "[1] 569\n",
      "[1] 574\n",
      "[1] 577\n",
      "[1] 583\n",
      "[1] 587\n",
      "[1] 594\n",
      "[1] 595\n",
      "[1] 603\n",
      "[1] 606\n",
      "[1] 611\n",
      "[1] 616\n",
      "[1] 619\n",
      "[1] 624\n",
      "[1] 626\n",
      "[1] 631\n",
      "[1] 637\n",
      "[1] 639\n",
      "[1] 646\n",
      "[1] 649\n",
      "[1] 654\n",
      "[1] 656\n",
      "[1] 663\n",
      "[1] 667\n",
      "[1] 670\n",
      "[1] 673\n",
      "[1] 679\n",
      "[1] 683\n",
      "[1] 690\n",
      "[1] 691\n",
      "[1] 698\n",
      "[1] 701\n",
      "[1] 705\n",
      "[1] 710\n",
      "[1] 716\n",
      "[1] 717\n",
      "[1] 722\n",
      "[1] 728\n",
      "[1] 733\n",
      "[1] 735\n",
      "[1] 738\n",
      "[1] 744\n",
      "[1] 749\n",
      "[1] 754\n",
      "[1] 759\n",
      "[1] 762\n",
      "[1] 765\n",
      "[1] 771\n",
      "[1] 776\n",
      "[1] 780\n",
      "[1] 783\n",
      "[1] 789\n",
      "[1] 793\n",
      "[1] 795\n",
      "[1] 803\n",
      "[1] 804\n",
      "[1] 811\n",
      "[1] 816\n",
      "[1] 817\n",
      "[1] 824\n",
      "[1] 826\n",
      "[1] 831\n",
      "[1] 834\n",
      "[1] 841\n",
      "[1] 844\n",
      "[1] 849\n",
      "[1] 853\n",
      "[1] 859\n",
      "[1] 863\n",
      "[1] 865\n",
      "[1] 869\n",
      "[1] 874\n",
      "[1] 878\n",
      "[1] 885\n",
      "[1] 888\n",
      "[1] 893\n",
      "[1] 896\n",
      "[1] 901\n",
      "[1] 903\n",
      "[1] 909\n",
      "[1] 914\n",
      "[1] 918\n",
      "[1] 921\n",
      "[1] 925\n",
      "[1] 932\n",
      "[1] 937\n",
      "[1] 942\n",
      "[1] 943\n",
      "[1] 1\n",
      "[1] 4\n"
     ]
    },
    {
     "name": "stderr",
     "output_type": "stream",
     "text": [
      "Warning message in forecasts[i] <- round(fc$mean):\n",
      "“liczba pozycji do zastąpienia nie jest wielokrotnością długości zamiany”"
     ]
    },
    {
     "name": "stdout",
     "output_type": "stream",
     "text": [
      "[1] 9\n"
     ]
    },
    {
     "name": "stderr",
     "output_type": "stream",
     "text": [
      "Warning message in forecasts[i] <- round(fc$mean):\n",
      "“liczba pozycji do zastąpienia nie jest wielokrotnością długości zamiany”"
     ]
    },
    {
     "name": "stdout",
     "output_type": "stream",
     "text": [
      "[1] 15\n"
     ]
    },
    {
     "name": "stderr",
     "output_type": "stream",
     "text": [
      "Warning message in forecasts[i] <- round(fc$mean):\n",
      "“liczba pozycji do zastąpienia nie jest wielokrotnością długości zamiany”"
     ]
    },
    {
     "name": "stdout",
     "output_type": "stream",
     "text": [
      "[1] 17\n"
     ]
    },
    {
     "name": "stderr",
     "output_type": "stream",
     "text": [
      "Warning message in forecasts[i] <- round(fc$mean):\n",
      "“liczba pozycji do zastąpienia nie jest wielokrotnością długości zamiany”"
     ]
    },
    {
     "name": "stdout",
     "output_type": "stream",
     "text": [
      "[1] 22\n"
     ]
    },
    {
     "name": "stderr",
     "output_type": "stream",
     "text": [
      "Warning message in forecasts[i] <- round(fc$mean):\n",
      "“liczba pozycji do zastąpienia nie jest wielokrotnością długości zamiany”"
     ]
    },
    {
     "name": "stdout",
     "output_type": "stream",
     "text": [
      "[1] 27\n"
     ]
    },
    {
     "name": "stderr",
     "output_type": "stream",
     "text": [
      "Warning message in forecasts[i] <- round(fc$mean):\n",
      "“liczba pozycji do zastąpienia nie jest wielokrotnością długości zamiany”"
     ]
    },
    {
     "name": "stdout",
     "output_type": "stream",
     "text": [
      "[1] 33\n"
     ]
    },
    {
     "name": "stderr",
     "output_type": "stream",
     "text": [
      "Warning message in forecasts[i] <- round(fc$mean):\n",
      "“liczba pozycji do zastąpienia nie jest wielokrotnością długości zamiany”"
     ]
    },
    {
     "name": "stdout",
     "output_type": "stream",
     "text": [
      "[1] 34\n"
     ]
    },
    {
     "name": "stderr",
     "output_type": "stream",
     "text": [
      "Warning message in forecasts[i] <- round(fc$mean):\n",
      "“liczba pozycji do zastąpienia nie jest wielokrotnością długości zamiany”"
     ]
    },
    {
     "name": "stdout",
     "output_type": "stream",
     "text": [
      "[1] 41\n"
     ]
    },
    {
     "name": "stderr",
     "output_type": "stream",
     "text": [
      "Warning message in forecasts[i] <- round(fc$mean):\n",
      "“liczba pozycji do zastąpienia nie jest wielokrotnością długości zamiany”"
     ]
    },
    {
     "name": "stdout",
     "output_type": "stream",
     "text": [
      "[1] 44\n"
     ]
    },
    {
     "name": "stderr",
     "output_type": "stream",
     "text": [
      "Warning message in forecasts[i] <- round(fc$mean):\n",
      "“liczba pozycji do zastąpienia nie jest wielokrotnością długości zamiany”"
     ]
    },
    {
     "name": "stdout",
     "output_type": "stream",
     "text": [
      "[1] 47\n"
     ]
    },
    {
     "name": "stderr",
     "output_type": "stream",
     "text": [
      "Warning message in forecasts[i] <- round(fc$mean):\n",
      "“liczba pozycji do zastąpienia nie jest wielokrotnością długości zamiany”"
     ]
    },
    {
     "name": "stdout",
     "output_type": "stream",
     "text": [
      "[1] 52\n"
     ]
    },
    {
     "name": "stderr",
     "output_type": "stream",
     "text": [
      "Warning message in forecasts[i] <- round(fc$mean):\n",
      "“liczba pozycji do zastąpienia nie jest wielokrotnością długości zamiany”"
     ]
    },
    {
     "name": "stdout",
     "output_type": "stream",
     "text": [
      "[1] 59\n"
     ]
    },
    {
     "name": "stderr",
     "output_type": "stream",
     "text": [
      "Warning message in forecasts[i] <- round(fc$mean):\n",
      "“liczba pozycji do zastąpienia nie jest wielokrotnością długości zamiany”"
     ]
    },
    {
     "name": "stdout",
     "output_type": "stream",
     "text": [
      "[1] 63\n"
     ]
    },
    {
     "name": "stderr",
     "output_type": "stream",
     "text": [
      "Warning message in forecasts[i] <- round(fc$mean):\n",
      "“liczba pozycji do zastąpienia nie jest wielokrotnością długości zamiany”"
     ]
    },
    {
     "name": "stdout",
     "output_type": "stream",
     "text": [
      "[1] 65\n"
     ]
    },
    {
     "name": "stderr",
     "output_type": "stream",
     "text": [
      "Warning message in forecasts[i] <- round(fc$mean):\n",
      "“liczba pozycji do zastąpienia nie jest wielokrotnością długości zamiany”"
     ]
    },
    {
     "name": "stdout",
     "output_type": "stream",
     "text": [
      "[1] 72\n"
     ]
    },
    {
     "name": "stderr",
     "output_type": "stream",
     "text": [
      "Warning message in forecasts[i] <- round(fc$mean):\n",
      "“liczba pozycji do zastąpienia nie jest wielokrotnością długości zamiany”"
     ]
    },
    {
     "name": "stdout",
     "output_type": "stream",
     "text": [
      "[1] 75\n"
     ]
    },
    {
     "name": "stderr",
     "output_type": "stream",
     "text": [
      "Warning message in forecasts[i] <- round(fc$mean):\n",
      "“liczba pozycji do zastąpienia nie jest wielokrotnością długości zamiany”"
     ]
    },
    {
     "name": "stdout",
     "output_type": "stream",
     "text": [
      "[1] 78\n"
     ]
    },
    {
     "name": "stderr",
     "output_type": "stream",
     "text": [
      "Warning message in forecasts[i] <- round(fc$mean):\n",
      "“liczba pozycji do zastąpienia nie jest wielokrotnością długości zamiany”"
     ]
    },
    {
     "name": "stdout",
     "output_type": "stream",
     "text": [
      "[1] 85\n"
     ]
    },
    {
     "name": "stderr",
     "output_type": "stream",
     "text": [
      "Warning message in forecasts[i] <- round(fc$mean):\n",
      "“liczba pozycji do zastąpienia nie jest wielokrotnością długości zamiany”"
     ]
    },
    {
     "name": "stdout",
     "output_type": "stream",
     "text": [
      "[1] 89\n"
     ]
    },
    {
     "name": "stderr",
     "output_type": "stream",
     "text": [
      "Warning message in forecasts[i] <- round(fc$mean):\n",
      "“liczba pozycji do zastąpienia nie jest wielokrotnością długości zamiany”"
     ]
    },
    {
     "name": "stdout",
     "output_type": "stream",
     "text": [
      "[1] 94\n"
     ]
    },
    {
     "name": "stderr",
     "output_type": "stream",
     "text": [
      "Warning message in forecasts[i] <- round(fc$mean):\n",
      "“liczba pozycji do zastąpienia nie jest wielokrotnością długości zamiany”"
     ]
    },
    {
     "name": "stdout",
     "output_type": "stream",
     "text": [
      "[1] 96\n"
     ]
    },
    {
     "name": "stderr",
     "output_type": "stream",
     "text": [
      "Warning message in forecasts[i] <- round(fc$mean):\n",
      "“liczba pozycji do zastąpienia nie jest wielokrotnością długości zamiany”"
     ]
    },
    {
     "name": "stdout",
     "output_type": "stream",
     "text": [
      "[1] 102\n"
     ]
    },
    {
     "name": "stderr",
     "output_type": "stream",
     "text": [
      "Warning message in forecasts[i] <- round(fc$mean):\n",
      "“liczba pozycji do zastąpienia nie jest wielokrotnością długości zamiany”"
     ]
    },
    {
     "name": "stdout",
     "output_type": "stream",
     "text": [
      "[1] 107\n"
     ]
    },
    {
     "name": "stderr",
     "output_type": "stream",
     "text": [
      "Warning message in forecasts[i] <- round(fc$mean):\n",
      "“liczba pozycji do zastąpienia nie jest wielokrotnością długości zamiany”"
     ]
    },
    {
     "name": "stdout",
     "output_type": "stream",
     "text": [
      "[1] 110\n"
     ]
    },
    {
     "name": "stderr",
     "output_type": "stream",
     "text": [
      "Warning message in forecasts[i] <- round(fc$mean):\n",
      "“liczba pozycji do zastąpienia nie jest wielokrotnością długości zamiany”"
     ]
    },
    {
     "name": "stdout",
     "output_type": "stream",
     "text": [
      "[1] 116\n"
     ]
    },
    {
     "name": "stderr",
     "output_type": "stream",
     "text": [
      "Warning message in forecasts[i] <- round(fc$mean):\n",
      "“liczba pozycji do zastąpienia nie jest wielokrotnością długości zamiany”"
     ]
    },
    {
     "name": "stdout",
     "output_type": "stream",
     "text": [
      "[1] 120\n"
     ]
    },
    {
     "name": "stderr",
     "output_type": "stream",
     "text": [
      "Warning message in forecasts[i] <- round(fc$mean):\n",
      "“liczba pozycji do zastąpienia nie jest wielokrotnością długości zamiany”"
     ]
    },
    {
     "name": "stdout",
     "output_type": "stream",
     "text": [
      "[1] 123\n"
     ]
    },
    {
     "name": "stderr",
     "output_type": "stream",
     "text": [
      "Warning message in forecasts[i] <- round(fc$mean):\n",
      "“liczba pozycji do zastąpienia nie jest wielokrotnością długości zamiany”"
     ]
    },
    {
     "name": "stdout",
     "output_type": "stream",
     "text": [
      "[1] 125\n"
     ]
    },
    {
     "name": "stderr",
     "output_type": "stream",
     "text": [
      "Warning message in forecasts[i] <- round(fc$mean):\n",
      "“liczba pozycji do zastąpienia nie jest wielokrotnością długości zamiany”"
     ]
    },
    {
     "name": "stdout",
     "output_type": "stream",
     "text": [
      "[1] 130\n"
     ]
    },
    {
     "name": "stderr",
     "output_type": "stream",
     "text": [
      "Warning message in forecasts[i] <- round(fc$mean):\n",
      "“liczba pozycji do zastąpienia nie jest wielokrotnością długości zamiany”"
     ]
    },
    {
     "name": "stdout",
     "output_type": "stream",
     "text": [
      "[1] 135\n"
     ]
    },
    {
     "name": "stderr",
     "output_type": "stream",
     "text": [
      "Warning message in forecasts[i] <- round(fc$mean):\n",
      "“liczba pozycji do zastąpienia nie jest wielokrotnością długości zamiany”"
     ]
    },
    {
     "name": "stdout",
     "output_type": "stream",
     "text": [
      "[1] 141\n"
     ]
    },
    {
     "name": "stderr",
     "output_type": "stream",
     "text": [
      "Warning message in forecasts[i] <- round(fc$mean):\n",
      "“liczba pozycji do zastąpienia nie jest wielokrotnością długości zamiany”"
     ]
    },
    {
     "name": "stdout",
     "output_type": "stream",
     "text": [
      "[1] 145\n"
     ]
    },
    {
     "name": "stderr",
     "output_type": "stream",
     "text": [
      "Warning message in forecasts[i] <- round(fc$mean):\n",
      "“liczba pozycji do zastąpienia nie jest wielokrotnością długości zamiany”"
     ]
    },
    {
     "name": "stdout",
     "output_type": "stream",
     "text": [
      "[1] 149\n"
     ]
    },
    {
     "name": "stderr",
     "output_type": "stream",
     "text": [
      "Warning message in forecasts[i] <- round(fc$mean):\n",
      "“liczba pozycji do zastąpienia nie jest wielokrotnością długości zamiany”"
     ]
    },
    {
     "name": "stdout",
     "output_type": "stream",
     "text": [
      "[1] 154\n"
     ]
    },
    {
     "name": "stderr",
     "output_type": "stream",
     "text": [
      "Warning message in forecasts[i] <- round(fc$mean):\n",
      "“liczba pozycji do zastąpienia nie jest wielokrotnością długości zamiany”"
     ]
    },
    {
     "name": "stdout",
     "output_type": "stream",
     "text": [
      "[1] 157\n"
     ]
    },
    {
     "name": "stderr",
     "output_type": "stream",
     "text": [
      "Warning message in forecasts[i] <- round(fc$mean):\n",
      "“liczba pozycji do zastąpienia nie jest wielokrotnością długości zamiany”"
     ]
    },
    {
     "name": "stdout",
     "output_type": "stream",
     "text": [
      "[1] 161\n"
     ]
    },
    {
     "name": "stderr",
     "output_type": "stream",
     "text": [
      "Warning message in forecasts[i] <- round(fc$mean):\n",
      "“liczba pozycji do zastąpienia nie jest wielokrotnością długości zamiany”"
     ]
    },
    {
     "name": "stdout",
     "output_type": "stream",
     "text": [
      "[1] 168\n"
     ]
    },
    {
     "name": "stderr",
     "output_type": "stream",
     "text": [
      "Warning message in forecasts[i] <- round(fc$mean):\n",
      "“liczba pozycji do zastąpienia nie jest wielokrotnością długości zamiany”"
     ]
    },
    {
     "name": "stdout",
     "output_type": "stream",
     "text": [
      "[1] 172\n"
     ]
    },
    {
     "name": "stderr",
     "output_type": "stream",
     "text": [
      "Warning message in forecasts[i] <- round(fc$mean):\n",
      "“liczba pozycji do zastąpienia nie jest wielokrotnością długości zamiany”"
     ]
    },
    {
     "name": "stdout",
     "output_type": "stream",
     "text": [
      "[1] 174\n"
     ]
    },
    {
     "name": "stderr",
     "output_type": "stream",
     "text": [
      "Warning message in forecasts[i] <- round(fc$mean):\n",
      "“liczba pozycji do zastąpienia nie jest wielokrotnością długości zamiany”"
     ]
    },
    {
     "name": "stdout",
     "output_type": "stream",
     "text": [
      "[1] 180\n"
     ]
    },
    {
     "name": "stderr",
     "output_type": "stream",
     "text": [
      "Warning message in forecasts[i] <- round(fc$mean):\n",
      "“liczba pozycji do zastąpienia nie jest wielokrotnością długości zamiany”"
     ]
    },
    {
     "name": "stdout",
     "output_type": "stream",
     "text": [
      "[1] 185\n"
     ]
    },
    {
     "name": "stderr",
     "output_type": "stream",
     "text": [
      "Warning message in forecasts[i] <- round(fc$mean):\n",
      "“liczba pozycji do zastąpienia nie jest wielokrotnością długości zamiany”"
     ]
    },
    {
     "name": "stdout",
     "output_type": "stream",
     "text": [
      "[1] 187\n"
     ]
    },
    {
     "name": "stderr",
     "output_type": "stream",
     "text": [
      "Warning message in forecasts[i] <- round(fc$mean):\n",
      "“liczba pozycji do zastąpienia nie jest wielokrotnością długości zamiany”"
     ]
    },
    {
     "name": "stdout",
     "output_type": "stream",
     "text": [
      "[1] 191\n"
     ]
    },
    {
     "name": "stderr",
     "output_type": "stream",
     "text": [
      "Warning message in forecasts[i] <- round(fc$mean):\n",
      "“liczba pozycji do zastąpienia nie jest wielokrotnością długości zamiany”"
     ]
    },
    {
     "name": "stdout",
     "output_type": "stream",
     "text": [
      "[1] 197\n"
     ]
    },
    {
     "name": "stderr",
     "output_type": "stream",
     "text": [
      "Warning message in forecasts[i] <- round(fc$mean):\n",
      "“liczba pozycji do zastąpienia nie jest wielokrotnością długości zamiany”"
     ]
    },
    {
     "name": "stdout",
     "output_type": "stream",
     "text": [
      "[1] 200\n"
     ]
    },
    {
     "name": "stderr",
     "output_type": "stream",
     "text": [
      "Warning message in forecasts[i] <- round(fc$mean):\n",
      "“liczba pozycji do zastąpienia nie jest wielokrotnością długości zamiany”"
     ]
    },
    {
     "name": "stdout",
     "output_type": "stream",
     "text": [
      "[1] 204\n"
     ]
    },
    {
     "name": "stderr",
     "output_type": "stream",
     "text": [
      "Warning message in forecasts[i] <- round(fc$mean):\n",
      "“liczba pozycji do zastąpienia nie jest wielokrotnością długości zamiany”"
     ]
    },
    {
     "name": "stdout",
     "output_type": "stream",
     "text": [
      "[1] 210\n"
     ]
    },
    {
     "name": "stderr",
     "output_type": "stream",
     "text": [
      "Warning message in forecasts[i] <- round(fc$mean):\n",
      "“liczba pozycji do zastąpienia nie jest wielokrotnością długości zamiany”"
     ]
    },
    {
     "name": "stdout",
     "output_type": "stream",
     "text": [
      "[1] 212\n"
     ]
    },
    {
     "name": "stderr",
     "output_type": "stream",
     "text": [
      "Warning message in forecasts[i] <- round(fc$mean):\n",
      "“liczba pozycji do zastąpienia nie jest wielokrotnością długości zamiany”"
     ]
    },
    {
     "name": "stdout",
     "output_type": "stream",
     "text": [
      "[1] 218\n"
     ]
    },
    {
     "name": "stderr",
     "output_type": "stream",
     "text": [
      "Warning message in forecasts[i] <- round(fc$mean):\n",
      "“liczba pozycji do zastąpienia nie jest wielokrotnością długości zamiany”"
     ]
    },
    {
     "name": "stdout",
     "output_type": "stream",
     "text": [
      "[1] 224\n"
     ]
    },
    {
     "name": "stderr",
     "output_type": "stream",
     "text": [
      "Warning message in forecasts[i] <- round(fc$mean):\n",
      "“liczba pozycji do zastąpienia nie jest wielokrotnością długości zamiany”"
     ]
    },
    {
     "name": "stdout",
     "output_type": "stream",
     "text": [
      "[1] 227\n"
     ]
    },
    {
     "name": "stderr",
     "output_type": "stream",
     "text": [
      "Warning message in forecasts[i] <- round(fc$mean):\n",
      "“liczba pozycji do zastąpienia nie jest wielokrotnością długości zamiany”"
     ]
    },
    {
     "name": "stdout",
     "output_type": "stream",
     "text": [
      "[1] 233\n"
     ]
    },
    {
     "name": "stderr",
     "output_type": "stream",
     "text": [
      "Warning message in forecasts[i] <- round(fc$mean):\n",
      "“liczba pozycji do zastąpienia nie jest wielokrotnością długości zamiany”"
     ]
    },
    {
     "name": "stdout",
     "output_type": "stream",
     "text": [
      "[1] 234\n"
     ]
    },
    {
     "name": "stderr",
     "output_type": "stream",
     "text": [
      "Warning message in forecasts[i] <- round(fc$mean):\n",
      "“liczba pozycji do zastąpienia nie jest wielokrotnością długości zamiany”"
     ]
    },
    {
     "name": "stdout",
     "output_type": "stream",
     "text": [
      "[1] 241\n"
     ]
    },
    {
     "name": "stderr",
     "output_type": "stream",
     "text": [
      "Warning message in forecasts[i] <- round(fc$mean):\n",
      "“liczba pozycji do zastąpienia nie jest wielokrotnością długości zamiany”"
     ]
    },
    {
     "name": "stdout",
     "output_type": "stream",
     "text": [
      "[1] 244\n"
     ]
    },
    {
     "name": "stderr",
     "output_type": "stream",
     "text": [
      "Warning message in forecasts[i] <- round(fc$mean):\n",
      "“liczba pozycji do zastąpienia nie jest wielokrotnością długości zamiany”"
     ]
    },
    {
     "name": "stdout",
     "output_type": "stream",
     "text": [
      "[1] 249\n"
     ]
    },
    {
     "name": "stderr",
     "output_type": "stream",
     "text": [
      "Warning message in forecasts[i] <- round(fc$mean):\n",
      "“liczba pozycji do zastąpienia nie jest wielokrotnością długości zamiany”"
     ]
    },
    {
     "name": "stdout",
     "output_type": "stream",
     "text": [
      "[1] 255\n"
     ]
    },
    {
     "name": "stderr",
     "output_type": "stream",
     "text": [
      "Warning message in forecasts[i] <- round(fc$mean):\n",
      "“liczba pozycji do zastąpienia nie jest wielokrotnością długości zamiany”"
     ]
    },
    {
     "name": "stdout",
     "output_type": "stream",
     "text": [
      "[1] 256\n"
     ]
    },
    {
     "name": "stderr",
     "output_type": "stream",
     "text": [
      "Warning message in forecasts[i] <- round(fc$mean):\n",
      "“liczba pozycji do zastąpienia nie jest wielokrotnością długości zamiany”"
     ]
    },
    {
     "name": "stdout",
     "output_type": "stream",
     "text": [
      "[1] 262\n"
     ]
    },
    {
     "name": "stderr",
     "output_type": "stream",
     "text": [
      "Warning message in forecasts[i] <- round(fc$mean):\n",
      "“liczba pozycji do zastąpienia nie jest wielokrotnością długości zamiany”"
     ]
    },
    {
     "name": "stdout",
     "output_type": "stream",
     "text": [
      "[1] 264\n"
     ]
    },
    {
     "name": "stderr",
     "output_type": "stream",
     "text": [
      "Warning message in forecasts[i] <- round(fc$mean):\n",
      "“liczba pozycji do zastąpienia nie jest wielokrotnością długości zamiany”"
     ]
    },
    {
     "name": "stdout",
     "output_type": "stream",
     "text": [
      "[1] 269\n"
     ]
    },
    {
     "name": "stderr",
     "output_type": "stream",
     "text": [
      "Warning message in forecasts[i] <- round(fc$mean):\n",
      "“liczba pozycji do zastąpienia nie jest wielokrotnością długości zamiany”"
     ]
    },
    {
     "name": "stdout",
     "output_type": "stream",
     "text": [
      "[1] 273\n"
     ]
    },
    {
     "name": "stderr",
     "output_type": "stream",
     "text": [
      "Warning message in forecasts[i] <- round(fc$mean):\n",
      "“liczba pozycji do zastąpienia nie jest wielokrotnością długości zamiany”"
     ]
    },
    {
     "name": "stdout",
     "output_type": "stream",
     "text": [
      "[1] 278\n"
     ]
    },
    {
     "name": "stderr",
     "output_type": "stream",
     "text": [
      "Warning message in forecasts[i] <- round(fc$mean):\n",
      "“liczba pozycji do zastąpienia nie jest wielokrotnością długości zamiany”"
     ]
    },
    {
     "name": "stdout",
     "output_type": "stream",
     "text": [
      "[1] 284\n"
     ]
    },
    {
     "name": "stderr",
     "output_type": "stream",
     "text": [
      "Warning message in forecasts[i] <- round(fc$mean):\n",
      "“liczba pozycji do zastąpienia nie jest wielokrotnością długości zamiany”"
     ]
    },
    {
     "name": "stdout",
     "output_type": "stream",
     "text": [
      "[1] 288\n"
     ]
    },
    {
     "name": "stderr",
     "output_type": "stream",
     "text": [
      "Warning message in forecasts[i] <- round(fc$mean):\n",
      "“liczba pozycji do zastąpienia nie jest wielokrotnością długości zamiany”"
     ]
    },
    {
     "name": "stdout",
     "output_type": "stream",
     "text": [
      "[1] 290\n"
     ]
    },
    {
     "name": "stderr",
     "output_type": "stream",
     "text": [
      "Warning message in forecasts[i] <- round(fc$mean):\n",
      "“liczba pozycji do zastąpienia nie jest wielokrotnością długości zamiany”"
     ]
    },
    {
     "name": "stdout",
     "output_type": "stream",
     "text": [
      "[1] 297\n"
     ]
    },
    {
     "name": "stderr",
     "output_type": "stream",
     "text": [
      "Warning message in forecasts[i] <- round(fc$mean):\n",
      "“liczba pozycji do zastąpienia nie jest wielokrotnością długości zamiany”"
     ]
    },
    {
     "name": "stdout",
     "output_type": "stream",
     "text": [
      "[1] 299\n"
     ]
    },
    {
     "name": "stderr",
     "output_type": "stream",
     "text": [
      "Warning message in forecasts[i] <- round(fc$mean):\n",
      "“liczba pozycji do zastąpienia nie jest wielokrotnością długości zamiany”"
     ]
    },
    {
     "name": "stdout",
     "output_type": "stream",
     "text": [
      "[1] 305\n"
     ]
    },
    {
     "name": "stderr",
     "output_type": "stream",
     "text": [
      "Warning message in forecasts[i] <- round(fc$mean):\n",
      "“liczba pozycji do zastąpienia nie jest wielokrotnością długości zamiany”"
     ]
    },
    {
     "name": "stdout",
     "output_type": "stream",
     "text": [
      "[1] 308\n"
     ]
    },
    {
     "name": "stderr",
     "output_type": "stream",
     "text": [
      "Warning message in forecasts[i] <- round(fc$mean):\n",
      "“liczba pozycji do zastąpienia nie jest wielokrotnością długości zamiany”"
     ]
    },
    {
     "name": "stdout",
     "output_type": "stream",
     "text": [
      "[1] 314\n"
     ]
    },
    {
     "name": "stderr",
     "output_type": "stream",
     "text": [
      "Warning message in forecasts[i] <- round(fc$mean):\n",
      "“liczba pozycji do zastąpienia nie jest wielokrotnością długości zamiany”"
     ]
    },
    {
     "name": "stdout",
     "output_type": "stream",
     "text": [
      "[1] 319\n"
     ]
    },
    {
     "name": "stderr",
     "output_type": "stream",
     "text": [
      "Warning message in forecasts[i] <- round(fc$mean):\n",
      "“liczba pozycji do zastąpienia nie jest wielokrotnością długości zamiany”"
     ]
    },
    {
     "name": "stdout",
     "output_type": "stream",
     "text": [
      "[1] 321\n"
     ]
    },
    {
     "name": "stderr",
     "output_type": "stream",
     "text": [
      "Warning message in forecasts[i] <- round(fc$mean):\n",
      "“liczba pozycji do zastąpienia nie jest wielokrotnością długości zamiany”"
     ]
    },
    {
     "name": "stdout",
     "output_type": "stream",
     "text": [
      "[1] 327\n"
     ]
    },
    {
     "name": "stderr",
     "output_type": "stream",
     "text": [
      "Warning message in forecasts[i] <- round(fc$mean):\n",
      "“liczba pozycji do zastąpienia nie jest wielokrotnością długości zamiany”"
     ]
    },
    {
     "name": "stdout",
     "output_type": "stream",
     "text": [
      "[1] 330\n"
     ]
    },
    {
     "name": "stderr",
     "output_type": "stream",
     "text": [
      "Warning message in forecasts[i] <- round(fc$mean):\n",
      "“liczba pozycji do zastąpienia nie jest wielokrotnością długości zamiany”"
     ]
    },
    {
     "name": "stdout",
     "output_type": "stream",
     "text": [
      "[1] 336\n"
     ]
    },
    {
     "name": "stderr",
     "output_type": "stream",
     "text": [
      "Warning message in forecasts[i] <- round(fc$mean):\n",
      "“liczba pozycji do zastąpienia nie jest wielokrotnością długości zamiany”"
     ]
    },
    {
     "name": "stdout",
     "output_type": "stream",
     "text": [
      "[1] 342\n"
     ]
    },
    {
     "name": "stderr",
     "output_type": "stream",
     "text": [
      "Warning message in forecasts[i] <- round(fc$mean):\n",
      "“liczba pozycji do zastąpienia nie jest wielokrotnością długości zamiany”"
     ]
    },
    {
     "name": "stdout",
     "output_type": "stream",
     "text": [
      "[1] 343\n"
     ]
    },
    {
     "name": "stderr",
     "output_type": "stream",
     "text": [
      "Warning message in forecasts[i] <- round(fc$mean):\n",
      "“liczba pozycji do zastąpienia nie jest wielokrotnością długości zamiany”"
     ]
    },
    {
     "name": "stdout",
     "output_type": "stream",
     "text": [
      "[1] 349\n"
     ]
    },
    {
     "name": "stderr",
     "output_type": "stream",
     "text": [
      "Warning message in forecasts[i] <- round(fc$mean):\n",
      "“liczba pozycji do zastąpienia nie jest wielokrotnością długości zamiany”"
     ]
    },
    {
     "name": "stdout",
     "output_type": "stream",
     "text": [
      "[1] 352\n"
     ]
    },
    {
     "name": "stderr",
     "output_type": "stream",
     "text": [
      "Warning message in forecasts[i] <- round(fc$mean):\n",
      "“liczba pozycji do zastąpienia nie jest wielokrotnością długości zamiany”"
     ]
    },
    {
     "name": "stdout",
     "output_type": "stream",
     "text": [
      "[1] 357\n"
     ]
    },
    {
     "name": "stderr",
     "output_type": "stream",
     "text": [
      "Warning message in forecasts[i] <- round(fc$mean):\n",
      "“liczba pozycji do zastąpienia nie jest wielokrotnością długości zamiany”"
     ]
    },
    {
     "name": "stdout",
     "output_type": "stream",
     "text": [
      "[1] 363\n"
     ]
    },
    {
     "name": "stderr",
     "output_type": "stream",
     "text": [
      "Warning message in forecasts[i] <- round(fc$mean):\n",
      "“liczba pozycji do zastąpienia nie jest wielokrotnością długości zamiany”"
     ]
    },
    {
     "name": "stdout",
     "output_type": "stream",
     "text": [
      "[1] 368\n"
     ]
    },
    {
     "name": "stderr",
     "output_type": "stream",
     "text": [
      "Warning message in forecasts[i] <- round(fc$mean):\n",
      "“liczba pozycji do zastąpienia nie jest wielokrotnością długości zamiany”"
     ]
    },
    {
     "name": "stdout",
     "output_type": "stream",
     "text": [
      "[1] 370\n"
     ]
    },
    {
     "name": "stderr",
     "output_type": "stream",
     "text": [
      "Warning message in forecasts[i] <- round(fc$mean):\n",
      "“liczba pozycji do zastąpienia nie jest wielokrotnością długości zamiany”"
     ]
    },
    {
     "name": "stdout",
     "output_type": "stream",
     "text": [
      "[1] 375\n"
     ]
    },
    {
     "name": "stderr",
     "output_type": "stream",
     "text": [
      "Warning message in forecasts[i] <- round(fc$mean):\n",
      "“liczba pozycji do zastąpienia nie jest wielokrotnością długości zamiany”"
     ]
    },
    {
     "name": "stdout",
     "output_type": "stream",
     "text": [
      "[1] 381\n"
     ]
    },
    {
     "name": "stderr",
     "output_type": "stream",
     "text": [
      "Warning message in forecasts[i] <- round(fc$mean):\n",
      "“liczba pozycji do zastąpienia nie jest wielokrotnością długości zamiany”"
     ]
    },
    {
     "name": "stdout",
     "output_type": "stream",
     "text": [
      "[1] 384\n"
     ]
    },
    {
     "name": "stderr",
     "output_type": "stream",
     "text": [
      "Warning message in forecasts[i] <- round(fc$mean):\n",
      "“liczba pozycji do zastąpienia nie jest wielokrotnością długości zamiany”"
     ]
    },
    {
     "name": "stdout",
     "output_type": "stream",
     "text": [
      "[1] 388\n"
     ]
    },
    {
     "name": "stderr",
     "output_type": "stream",
     "text": [
      "Warning message in forecasts[i] <- round(fc$mean):\n",
      "“liczba pozycji do zastąpienia nie jest wielokrotnością długości zamiany”"
     ]
    },
    {
     "name": "stdout",
     "output_type": "stream",
     "text": [
      "[1] 390\n"
     ]
    },
    {
     "name": "stderr",
     "output_type": "stream",
     "text": [
      "Warning message in forecasts[i] <- round(fc$mean):\n",
      "“liczba pozycji do zastąpienia nie jest wielokrotnością długości zamiany”"
     ]
    },
    {
     "name": "stdout",
     "output_type": "stream",
     "text": [
      "[1] 396\n"
     ]
    },
    {
     "name": "stderr",
     "output_type": "stream",
     "text": [
      "Warning message in forecasts[i] <- round(fc$mean):\n",
      "“liczba pozycji do zastąpienia nie jest wielokrotnością długości zamiany”"
     ]
    },
    {
     "name": "stdout",
     "output_type": "stream",
     "text": [
      "[1] 401\n"
     ]
    },
    {
     "name": "stderr",
     "output_type": "stream",
     "text": [
      "Warning message in forecasts[i] <- round(fc$mean):\n",
      "“liczba pozycji do zastąpienia nie jest wielokrotnością długości zamiany”"
     ]
    },
    {
     "name": "stdout",
     "output_type": "stream",
     "text": [
      "[1] 404\n"
     ]
    },
    {
     "name": "stderr",
     "output_type": "stream",
     "text": [
      "Warning message in forecasts[i] <- round(fc$mean):\n",
      "“liczba pozycji do zastąpienia nie jest wielokrotnością długości zamiany”"
     ]
    },
    {
     "name": "stdout",
     "output_type": "stream",
     "text": [
      "[1] 408\n"
     ]
    },
    {
     "name": "stderr",
     "output_type": "stream",
     "text": [
      "Warning message in forecasts[i] <- round(fc$mean):\n",
      "“liczba pozycji do zastąpienia nie jest wielokrotnością długości zamiany”"
     ]
    },
    {
     "name": "stdout",
     "output_type": "stream",
     "text": [
      "[1] 414\n"
     ]
    },
    {
     "name": "stderr",
     "output_type": "stream",
     "text": [
      "Warning message in forecasts[i] <- round(fc$mean):\n",
      "“liczba pozycji do zastąpienia nie jest wielokrotnością długości zamiany”"
     ]
    },
    {
     "name": "stdout",
     "output_type": "stream",
     "text": [
      "[1] 420\n"
     ]
    },
    {
     "name": "stderr",
     "output_type": "stream",
     "text": [
      "Warning message in forecasts[i] <- round(fc$mean):\n",
      "“liczba pozycji do zastąpienia nie jest wielokrotnością długości zamiany”"
     ]
    },
    {
     "name": "stdout",
     "output_type": "stream",
     "text": [
      "[1] 424\n"
     ]
    },
    {
     "name": "stderr",
     "output_type": "stream",
     "text": [
      "Warning message in forecasts[i] <- round(fc$mean):\n",
      "“liczba pozycji do zastąpienia nie jest wielokrotnością długości zamiany”"
     ]
    },
    {
     "name": "stdout",
     "output_type": "stream",
     "text": [
      "[1] 429\n"
     ]
    },
    {
     "name": "stderr",
     "output_type": "stream",
     "text": [
      "Warning message in forecasts[i] <- round(fc$mean):\n",
      "“liczba pozycji do zastąpienia nie jest wielokrotnością długości zamiany”"
     ]
    },
    {
     "name": "stdout",
     "output_type": "stream",
     "text": [
      "[1] 430\n"
     ]
    },
    {
     "name": "stderr",
     "output_type": "stream",
     "text": [
      "Warning message in forecasts[i] <- round(fc$mean):\n",
      "“liczba pozycji do zastąpienia nie jest wielokrotnością długości zamiany”"
     ]
    },
    {
     "name": "stdout",
     "output_type": "stream",
     "text": [
      "[1] 436\n"
     ]
    },
    {
     "name": "stderr",
     "output_type": "stream",
     "text": [
      "Warning message in forecasts[i] <- round(fc$mean):\n",
      "“liczba pozycji do zastąpienia nie jest wielokrotnością długości zamiany”"
     ]
    },
    {
     "name": "stdout",
     "output_type": "stream",
     "text": [
      "[1] 440\n"
     ]
    },
    {
     "name": "stderr",
     "output_type": "stream",
     "text": [
      "Warning message in forecasts[i] <- round(fc$mean):\n",
      "“liczba pozycji do zastąpienia nie jest wielokrotnością długości zamiany”"
     ]
    },
    {
     "name": "stdout",
     "output_type": "stream",
     "text": [
      "[1] 443\n"
     ]
    },
    {
     "name": "stderr",
     "output_type": "stream",
     "text": [
      "Warning message in forecasts[i] <- round(fc$mean):\n",
      "“liczba pozycji do zastąpienia nie jest wielokrotnością długości zamiany”"
     ]
    },
    {
     "name": "stdout",
     "output_type": "stream",
     "text": [
      "[1] 449\n"
     ]
    },
    {
     "name": "stderr",
     "output_type": "stream",
     "text": [
      "Warning message in forecasts[i] <- round(fc$mean):\n",
      "“liczba pozycji do zastąpienia nie jest wielokrotnością długości zamiany”"
     ]
    },
    {
     "name": "stdout",
     "output_type": "stream",
     "text": [
      "[1] 455\n"
     ]
    },
    {
     "name": "stderr",
     "output_type": "stream",
     "text": [
      "Warning message in forecasts[i] <- round(fc$mean):\n",
      "“liczba pozycji do zastąpienia nie jest wielokrotnością długości zamiany”"
     ]
    },
    {
     "name": "stdout",
     "output_type": "stream",
     "text": [
      "[1] 456\n"
     ]
    },
    {
     "name": "stderr",
     "output_type": "stream",
     "text": [
      "Warning message in forecasts[i] <- round(fc$mean):\n",
      "“liczba pozycji do zastąpienia nie jest wielokrotnością długości zamiany”"
     ]
    },
    {
     "name": "stdout",
     "output_type": "stream",
     "text": [
      "[1] 460\n"
     ]
    },
    {
     "name": "stderr",
     "output_type": "stream",
     "text": [
      "Warning message in forecasts[i] <- round(fc$mean):\n",
      "“liczba pozycji do zastąpienia nie jest wielokrotnością długości zamiany”"
     ]
    },
    {
     "name": "stdout",
     "output_type": "stream",
     "text": [
      "[1] 468\n"
     ]
    },
    {
     "name": "stderr",
     "output_type": "stream",
     "text": [
      "Warning message in forecasts[i] <- round(fc$mean):\n",
      "“liczba pozycji do zastąpienia nie jest wielokrotnością długości zamiany”"
     ]
    },
    {
     "name": "stdout",
     "output_type": "stream",
     "text": [
      "[1] 472\n"
     ]
    },
    {
     "name": "stderr",
     "output_type": "stream",
     "text": [
      "Warning message in forecasts[i] <- round(fc$mean):\n",
      "“liczba pozycji do zastąpienia nie jest wielokrotnością długości zamiany”"
     ]
    },
    {
     "name": "stdout",
     "output_type": "stream",
     "text": [
      "[1] 476\n"
     ]
    },
    {
     "name": "stderr",
     "output_type": "stream",
     "text": [
      "Warning message in forecasts[i] <- round(fc$mean):\n",
      "“liczba pozycji do zastąpienia nie jest wielokrotnością długości zamiany”"
     ]
    },
    {
     "name": "stdout",
     "output_type": "stream",
     "text": [
      "[1] 481\n"
     ]
    },
    {
     "name": "stderr",
     "output_type": "stream",
     "text": [
      "Warning message in forecasts[i] <- round(fc$mean):\n",
      "“liczba pozycji do zastąpienia nie jest wielokrotnością długości zamiany”"
     ]
    },
    {
     "name": "stdout",
     "output_type": "stream",
     "text": [
      "[1] 484\n"
     ]
    },
    {
     "name": "stderr",
     "output_type": "stream",
     "text": [
      "Warning message in forecasts[i] <- round(fc$mean):\n",
      "“liczba pozycji do zastąpienia nie jest wielokrotnością długości zamiany”"
     ]
    },
    {
     "name": "stdout",
     "output_type": "stream",
     "text": [
      "[1] 489\n"
     ]
    },
    {
     "name": "stderr",
     "output_type": "stream",
     "text": [
      "Warning message in forecasts[i] <- round(fc$mean):\n",
      "“liczba pozycji do zastąpienia nie jest wielokrotnością długości zamiany”"
     ]
    },
    {
     "name": "stdout",
     "output_type": "stream",
     "text": [
      "[1] 491\n"
     ]
    },
    {
     "name": "stderr",
     "output_type": "stream",
     "text": [
      "Warning message in forecasts[i] <- round(fc$mean):\n",
      "“liczba pozycji do zastąpienia nie jest wielokrotnością długości zamiany”"
     ]
    },
    {
     "name": "stdout",
     "output_type": "stream",
     "text": [
      "[1] 498\n"
     ]
    },
    {
     "name": "stderr",
     "output_type": "stream",
     "text": [
      "Warning message in forecasts[i] <- round(fc$mean):\n",
      "“liczba pozycji do zastąpienia nie jest wielokrotnością długości zamiany”"
     ]
    },
    {
     "name": "stdout",
     "output_type": "stream",
     "text": [
      "[1] 501\n"
     ]
    },
    {
     "name": "stderr",
     "output_type": "stream",
     "text": [
      "Warning message in forecasts[i] <- round(fc$mean):\n",
      "“liczba pozycji do zastąpienia nie jest wielokrotnością długości zamiany”"
     ]
    },
    {
     "name": "stdout",
     "output_type": "stream",
     "text": [
      "[1] 506\n"
     ]
    },
    {
     "name": "stderr",
     "output_type": "stream",
     "text": [
      "Warning message in forecasts[i] <- round(fc$mean):\n",
      "“liczba pozycji do zastąpienia nie jest wielokrotnością długości zamiany”"
     ]
    },
    {
     "name": "stdout",
     "output_type": "stream",
     "text": [
      "[1] 510\n"
     ]
    },
    {
     "name": "stderr",
     "output_type": "stream",
     "text": [
      "Warning message in forecasts[i] <- round(fc$mean):\n",
      "“liczba pozycji do zastąpienia nie jest wielokrotnością długości zamiany”"
     ]
    },
    {
     "name": "stdout",
     "output_type": "stream",
     "text": [
      "[1] 513\n"
     ]
    },
    {
     "name": "stderr",
     "output_type": "stream",
     "text": [
      "Warning message in forecasts[i] <- round(fc$mean):\n",
      "“liczba pozycji do zastąpienia nie jest wielokrotnością długości zamiany”"
     ]
    },
    {
     "name": "stdout",
     "output_type": "stream",
     "text": [
      "[1] 518\n"
     ]
    },
    {
     "name": "stderr",
     "output_type": "stream",
     "text": [
      "Warning message in forecasts[i] <- round(fc$mean):\n",
      "“liczba pozycji do zastąpienia nie jest wielokrotnością długości zamiany”"
     ]
    },
    {
     "name": "stdout",
     "output_type": "stream",
     "text": [
      "[1] 524\n"
     ]
    },
    {
     "name": "stderr",
     "output_type": "stream",
     "text": [
      "Warning message in forecasts[i] <- round(fc$mean):\n",
      "“liczba pozycji do zastąpienia nie jest wielokrotnością długości zamiany”"
     ]
    },
    {
     "name": "stdout",
     "output_type": "stream",
     "text": [
      "[1] 528\n"
     ]
    },
    {
     "name": "stderr",
     "output_type": "stream",
     "text": [
      "Warning message in forecasts[i] <- round(fc$mean):\n",
      "“liczba pozycji do zastąpienia nie jest wielokrotnością długości zamiany”"
     ]
    },
    {
     "name": "stdout",
     "output_type": "stream",
     "text": [
      "[1] 531\n"
     ]
    },
    {
     "name": "stderr",
     "output_type": "stream",
     "text": [
      "Warning message in forecasts[i] <- round(fc$mean):\n",
      "“liczba pozycji do zastąpienia nie jest wielokrotnością długości zamiany”"
     ]
    },
    {
     "name": "stdout",
     "output_type": "stream",
     "text": [
      "[1] 537\n"
     ]
    },
    {
     "name": "stderr",
     "output_type": "stream",
     "text": [
      "Warning message in forecasts[i] <- round(fc$mean):\n",
      "“liczba pozycji do zastąpienia nie jest wielokrotnością długości zamiany”"
     ]
    },
    {
     "name": "stdout",
     "output_type": "stream",
     "text": [
      "[1] 540\n"
     ]
    },
    {
     "name": "stderr",
     "output_type": "stream",
     "text": [
      "Warning message in forecasts[i] <- round(fc$mean):\n",
      "“liczba pozycji do zastąpienia nie jest wielokrotnością długości zamiany”"
     ]
    },
    {
     "name": "stdout",
     "output_type": "stream",
     "text": [
      "[1] 546\n"
     ]
    },
    {
     "name": "stderr",
     "output_type": "stream",
     "text": [
      "Warning message in forecasts[i] <- round(fc$mean):\n",
      "“liczba pozycji do zastąpienia nie jest wielokrotnością długości zamiany”"
     ]
    },
    {
     "name": "stdout",
     "output_type": "stream",
     "text": [
      "[1] 547\n"
     ]
    },
    {
     "name": "stderr",
     "output_type": "stream",
     "text": [
      "Warning message in forecasts[i] <- round(fc$mean):\n",
      "“liczba pozycji do zastąpienia nie jest wielokrotnością długości zamiany”"
     ]
    },
    {
     "name": "stdout",
     "output_type": "stream",
     "text": [
      "[1] 553\n"
     ]
    },
    {
     "name": "stderr",
     "output_type": "stream",
     "text": [
      "Warning message in forecasts[i] <- round(fc$mean):\n",
      "“liczba pozycji do zastąpienia nie jest wielokrotnością długości zamiany”"
     ]
    },
    {
     "name": "stdout",
     "output_type": "stream",
     "text": [
      "[1] 559\n"
     ]
    },
    {
     "name": "stderr",
     "output_type": "stream",
     "text": [
      "Warning message in forecasts[i] <- round(fc$mean):\n",
      "“liczba pozycji do zastąpienia nie jest wielokrotnością długości zamiany”"
     ]
    },
    {
     "name": "stdout",
     "output_type": "stream",
     "text": [
      "[1] 562\n"
     ]
    },
    {
     "name": "stderr",
     "output_type": "stream",
     "text": [
      "Warning message in forecasts[i] <- round(fc$mean):\n",
      "“liczba pozycji do zastąpienia nie jest wielokrotnością długości zamiany”"
     ]
    },
    {
     "name": "stdout",
     "output_type": "stream",
     "text": [
      "[1] 565\n"
     ]
    },
    {
     "name": "stderr",
     "output_type": "stream",
     "text": [
      "Warning message in forecasts[i] <- round(fc$mean):\n",
      "“liczba pozycji do zastąpienia nie jest wielokrotnością długości zamiany”"
     ]
    },
    {
     "name": "stdout",
     "output_type": "stream",
     "text": [
      "[1] 569\n"
     ]
    },
    {
     "name": "stderr",
     "output_type": "stream",
     "text": [
      "Warning message in forecasts[i] <- round(fc$mean):\n",
      "“liczba pozycji do zastąpienia nie jest wielokrotnością długości zamiany”"
     ]
    },
    {
     "name": "stdout",
     "output_type": "stream",
     "text": [
      "[1] 574\n"
     ]
    },
    {
     "name": "stderr",
     "output_type": "stream",
     "text": [
      "Warning message in forecasts[i] <- round(fc$mean):\n",
      "“liczba pozycji do zastąpienia nie jest wielokrotnością długości zamiany”"
     ]
    },
    {
     "name": "stdout",
     "output_type": "stream",
     "text": [
      "[1] 577\n"
     ]
    },
    {
     "name": "stderr",
     "output_type": "stream",
     "text": [
      "Warning message in forecasts[i] <- round(fc$mean):\n",
      "“liczba pozycji do zastąpienia nie jest wielokrotnością długości zamiany”"
     ]
    },
    {
     "name": "stdout",
     "output_type": "stream",
     "text": [
      "[1] 583\n"
     ]
    },
    {
     "name": "stderr",
     "output_type": "stream",
     "text": [
      "Warning message in forecasts[i] <- round(fc$mean):\n",
      "“liczba pozycji do zastąpienia nie jest wielokrotnością długości zamiany”"
     ]
    },
    {
     "name": "stdout",
     "output_type": "stream",
     "text": [
      "[1] 587\n"
     ]
    },
    {
     "name": "stderr",
     "output_type": "stream",
     "text": [
      "Warning message in forecasts[i] <- round(fc$mean):\n",
      "“liczba pozycji do zastąpienia nie jest wielokrotnością długości zamiany”"
     ]
    },
    {
     "name": "stdout",
     "output_type": "stream",
     "text": [
      "[1] 594\n"
     ]
    },
    {
     "name": "stderr",
     "output_type": "stream",
     "text": [
      "Warning message in forecasts[i] <- round(fc$mean):\n",
      "“liczba pozycji do zastąpienia nie jest wielokrotnością długości zamiany”"
     ]
    },
    {
     "name": "stdout",
     "output_type": "stream",
     "text": [
      "[1] 595\n"
     ]
    },
    {
     "name": "stderr",
     "output_type": "stream",
     "text": [
      "Warning message in forecasts[i] <- round(fc$mean):\n",
      "“liczba pozycji do zastąpienia nie jest wielokrotnością długości zamiany”"
     ]
    },
    {
     "name": "stdout",
     "output_type": "stream",
     "text": [
      "[1] 603\n"
     ]
    },
    {
     "name": "stderr",
     "output_type": "stream",
     "text": [
      "Warning message in forecasts[i] <- round(fc$mean):\n",
      "“liczba pozycji do zastąpienia nie jest wielokrotnością długości zamiany”"
     ]
    },
    {
     "name": "stdout",
     "output_type": "stream",
     "text": [
      "[1] 606\n"
     ]
    },
    {
     "name": "stderr",
     "output_type": "stream",
     "text": [
      "Warning message in forecasts[i] <- round(fc$mean):\n",
      "“liczba pozycji do zastąpienia nie jest wielokrotnością długości zamiany”"
     ]
    },
    {
     "name": "stdout",
     "output_type": "stream",
     "text": [
      "[1] 611\n"
     ]
    },
    {
     "name": "stderr",
     "output_type": "stream",
     "text": [
      "Warning message in forecasts[i] <- round(fc$mean):\n",
      "“liczba pozycji do zastąpienia nie jest wielokrotnością długości zamiany”"
     ]
    },
    {
     "name": "stdout",
     "output_type": "stream",
     "text": [
      "[1] 616\n"
     ]
    },
    {
     "name": "stderr",
     "output_type": "stream",
     "text": [
      "Warning message in forecasts[i] <- round(fc$mean):\n",
      "“liczba pozycji do zastąpienia nie jest wielokrotnością długości zamiany”"
     ]
    },
    {
     "name": "stdout",
     "output_type": "stream",
     "text": [
      "[1] 619\n"
     ]
    },
    {
     "name": "stderr",
     "output_type": "stream",
     "text": [
      "Warning message in forecasts[i] <- round(fc$mean):\n",
      "“liczba pozycji do zastąpienia nie jest wielokrotnością długości zamiany”"
     ]
    },
    {
     "name": "stdout",
     "output_type": "stream",
     "text": [
      "[1] 624\n"
     ]
    },
    {
     "name": "stderr",
     "output_type": "stream",
     "text": [
      "Warning message in forecasts[i] <- round(fc$mean):\n",
      "“liczba pozycji do zastąpienia nie jest wielokrotnością długości zamiany”"
     ]
    },
    {
     "name": "stdout",
     "output_type": "stream",
     "text": [
      "[1] 626\n"
     ]
    },
    {
     "name": "stderr",
     "output_type": "stream",
     "text": [
      "Warning message in forecasts[i] <- round(fc$mean):\n",
      "“liczba pozycji do zastąpienia nie jest wielokrotnością długości zamiany”"
     ]
    },
    {
     "name": "stdout",
     "output_type": "stream",
     "text": [
      "[1] 631\n"
     ]
    },
    {
     "name": "stderr",
     "output_type": "stream",
     "text": [
      "Warning message in forecasts[i] <- round(fc$mean):\n",
      "“liczba pozycji do zastąpienia nie jest wielokrotnością długości zamiany”"
     ]
    },
    {
     "name": "stdout",
     "output_type": "stream",
     "text": [
      "[1] 637\n"
     ]
    },
    {
     "name": "stderr",
     "output_type": "stream",
     "text": [
      "Warning message in forecasts[i] <- round(fc$mean):\n",
      "“liczba pozycji do zastąpienia nie jest wielokrotnością długości zamiany”"
     ]
    },
    {
     "name": "stdout",
     "output_type": "stream",
     "text": [
      "[1] 639\n"
     ]
    },
    {
     "name": "stderr",
     "output_type": "stream",
     "text": [
      "Warning message in forecasts[i] <- round(fc$mean):\n",
      "“liczba pozycji do zastąpienia nie jest wielokrotnością długości zamiany”"
     ]
    },
    {
     "name": "stdout",
     "output_type": "stream",
     "text": [
      "[1] 646\n"
     ]
    },
    {
     "name": "stderr",
     "output_type": "stream",
     "text": [
      "Warning message in forecasts[i] <- round(fc$mean):\n",
      "“liczba pozycji do zastąpienia nie jest wielokrotnością długości zamiany”"
     ]
    },
    {
     "name": "stdout",
     "output_type": "stream",
     "text": [
      "[1] 649\n"
     ]
    },
    {
     "name": "stderr",
     "output_type": "stream",
     "text": [
      "Warning message in forecasts[i] <- round(fc$mean):\n",
      "“liczba pozycji do zastąpienia nie jest wielokrotnością długości zamiany”"
     ]
    },
    {
     "name": "stdout",
     "output_type": "stream",
     "text": [
      "[1] 654\n"
     ]
    },
    {
     "name": "stderr",
     "output_type": "stream",
     "text": [
      "Warning message in forecasts[i] <- round(fc$mean):\n",
      "“liczba pozycji do zastąpienia nie jest wielokrotnością długości zamiany”"
     ]
    },
    {
     "name": "stdout",
     "output_type": "stream",
     "text": [
      "[1] 656\n"
     ]
    },
    {
     "name": "stderr",
     "output_type": "stream",
     "text": [
      "Warning message in forecasts[i] <- round(fc$mean):\n",
      "“liczba pozycji do zastąpienia nie jest wielokrotnością długości zamiany”"
     ]
    },
    {
     "name": "stdout",
     "output_type": "stream",
     "text": [
      "[1] 663\n"
     ]
    },
    {
     "name": "stderr",
     "output_type": "stream",
     "text": [
      "Warning message in forecasts[i] <- round(fc$mean):\n",
      "“liczba pozycji do zastąpienia nie jest wielokrotnością długości zamiany”"
     ]
    },
    {
     "name": "stdout",
     "output_type": "stream",
     "text": [
      "[1] 667\n"
     ]
    },
    {
     "name": "stderr",
     "output_type": "stream",
     "text": [
      "Warning message in forecasts[i] <- round(fc$mean):\n",
      "“liczba pozycji do zastąpienia nie jest wielokrotnością długości zamiany”"
     ]
    },
    {
     "name": "stdout",
     "output_type": "stream",
     "text": [
      "[1] 670\n"
     ]
    },
    {
     "name": "stderr",
     "output_type": "stream",
     "text": [
      "Warning message in forecasts[i] <- round(fc$mean):\n",
      "“liczba pozycji do zastąpienia nie jest wielokrotnością długości zamiany”"
     ]
    },
    {
     "name": "stdout",
     "output_type": "stream",
     "text": [
      "[1] 673\n"
     ]
    },
    {
     "name": "stderr",
     "output_type": "stream",
     "text": [
      "Warning message in forecasts[i] <- round(fc$mean):\n",
      "“liczba pozycji do zastąpienia nie jest wielokrotnością długości zamiany”"
     ]
    },
    {
     "name": "stdout",
     "output_type": "stream",
     "text": [
      "[1] 679\n"
     ]
    },
    {
     "name": "stderr",
     "output_type": "stream",
     "text": [
      "Warning message in forecasts[i] <- round(fc$mean):\n",
      "“liczba pozycji do zastąpienia nie jest wielokrotnością długości zamiany”"
     ]
    },
    {
     "name": "stdout",
     "output_type": "stream",
     "text": [
      "[1] 683\n"
     ]
    },
    {
     "name": "stderr",
     "output_type": "stream",
     "text": [
      "Warning message in forecasts[i] <- round(fc$mean):\n",
      "“liczba pozycji do zastąpienia nie jest wielokrotnością długości zamiany”"
     ]
    },
    {
     "name": "stdout",
     "output_type": "stream",
     "text": [
      "[1] 690\n"
     ]
    },
    {
     "name": "stderr",
     "output_type": "stream",
     "text": [
      "Warning message in forecasts[i] <- round(fc$mean):\n",
      "“liczba pozycji do zastąpienia nie jest wielokrotnością długości zamiany”"
     ]
    },
    {
     "name": "stdout",
     "output_type": "stream",
     "text": [
      "[1] 691\n"
     ]
    },
    {
     "name": "stderr",
     "output_type": "stream",
     "text": [
      "Warning message in forecasts[i] <- round(fc$mean):\n",
      "“liczba pozycji do zastąpienia nie jest wielokrotnością długości zamiany”"
     ]
    },
    {
     "name": "stdout",
     "output_type": "stream",
     "text": [
      "[1] 698\n"
     ]
    },
    {
     "name": "stderr",
     "output_type": "stream",
     "text": [
      "Warning message in forecasts[i] <- round(fc$mean):\n",
      "“liczba pozycji do zastąpienia nie jest wielokrotnością długości zamiany”"
     ]
    },
    {
     "name": "stdout",
     "output_type": "stream",
     "text": [
      "[1] 701\n"
     ]
    },
    {
     "name": "stderr",
     "output_type": "stream",
     "text": [
      "Warning message in forecasts[i] <- round(fc$mean):\n",
      "“liczba pozycji do zastąpienia nie jest wielokrotnością długości zamiany”"
     ]
    },
    {
     "name": "stdout",
     "output_type": "stream",
     "text": [
      "[1] 705\n"
     ]
    },
    {
     "name": "stderr",
     "output_type": "stream",
     "text": [
      "Warning message in forecasts[i] <- round(fc$mean):\n",
      "“liczba pozycji do zastąpienia nie jest wielokrotnością długości zamiany”"
     ]
    },
    {
     "name": "stdout",
     "output_type": "stream",
     "text": [
      "[1] 710\n"
     ]
    },
    {
     "name": "stderr",
     "output_type": "stream",
     "text": [
      "Warning message in forecasts[i] <- round(fc$mean):\n",
      "“liczba pozycji do zastąpienia nie jest wielokrotnością długości zamiany”"
     ]
    },
    {
     "name": "stdout",
     "output_type": "stream",
     "text": [
      "[1] 716\n"
     ]
    },
    {
     "name": "stderr",
     "output_type": "stream",
     "text": [
      "Warning message in forecasts[i] <- round(fc$mean):\n",
      "“liczba pozycji do zastąpienia nie jest wielokrotnością długości zamiany”"
     ]
    },
    {
     "name": "stdout",
     "output_type": "stream",
     "text": [
      "[1] 717\n"
     ]
    },
    {
     "name": "stderr",
     "output_type": "stream",
     "text": [
      "Warning message in forecasts[i] <- round(fc$mean):\n",
      "“liczba pozycji do zastąpienia nie jest wielokrotnością długości zamiany”"
     ]
    },
    {
     "name": "stdout",
     "output_type": "stream",
     "text": [
      "[1] 722\n"
     ]
    },
    {
     "name": "stderr",
     "output_type": "stream",
     "text": [
      "Warning message in forecasts[i] <- round(fc$mean):\n",
      "“liczba pozycji do zastąpienia nie jest wielokrotnością długości zamiany”"
     ]
    },
    {
     "name": "stdout",
     "output_type": "stream",
     "text": [
      "[1] 728\n"
     ]
    },
    {
     "name": "stderr",
     "output_type": "stream",
     "text": [
      "Warning message in forecasts[i] <- round(fc$mean):\n",
      "“liczba pozycji do zastąpienia nie jest wielokrotnością długości zamiany”"
     ]
    },
    {
     "name": "stdout",
     "output_type": "stream",
     "text": [
      "[1] 733\n"
     ]
    },
    {
     "name": "stderr",
     "output_type": "stream",
     "text": [
      "Warning message in forecasts[i] <- round(fc$mean):\n",
      "“liczba pozycji do zastąpienia nie jest wielokrotnością długości zamiany”"
     ]
    },
    {
     "name": "stdout",
     "output_type": "stream",
     "text": [
      "[1] 735\n"
     ]
    },
    {
     "name": "stderr",
     "output_type": "stream",
     "text": [
      "Warning message in forecasts[i] <- round(fc$mean):\n",
      "“liczba pozycji do zastąpienia nie jest wielokrotnością długości zamiany”"
     ]
    },
    {
     "name": "stdout",
     "output_type": "stream",
     "text": [
      "[1] 738\n"
     ]
    },
    {
     "name": "stderr",
     "output_type": "stream",
     "text": [
      "Warning message in forecasts[i] <- round(fc$mean):\n",
      "“liczba pozycji do zastąpienia nie jest wielokrotnością długości zamiany”"
     ]
    },
    {
     "name": "stdout",
     "output_type": "stream",
     "text": [
      "[1] 744\n"
     ]
    },
    {
     "name": "stderr",
     "output_type": "stream",
     "text": [
      "Warning message in forecasts[i] <- round(fc$mean):\n",
      "“liczba pozycji do zastąpienia nie jest wielokrotnością długości zamiany”"
     ]
    },
    {
     "name": "stdout",
     "output_type": "stream",
     "text": [
      "[1] 749\n"
     ]
    },
    {
     "name": "stderr",
     "output_type": "stream",
     "text": [
      "Warning message in forecasts[i] <- round(fc$mean):\n",
      "“liczba pozycji do zastąpienia nie jest wielokrotnością długości zamiany”"
     ]
    },
    {
     "name": "stdout",
     "output_type": "stream",
     "text": [
      "[1] 754\n"
     ]
    },
    {
     "name": "stderr",
     "output_type": "stream",
     "text": [
      "Warning message in forecasts[i] <- round(fc$mean):\n",
      "“liczba pozycji do zastąpienia nie jest wielokrotnością długości zamiany”"
     ]
    },
    {
     "name": "stdout",
     "output_type": "stream",
     "text": [
      "[1] 759\n"
     ]
    },
    {
     "name": "stderr",
     "output_type": "stream",
     "text": [
      "Warning message in forecasts[i] <- round(fc$mean):\n",
      "“liczba pozycji do zastąpienia nie jest wielokrotnością długości zamiany”"
     ]
    },
    {
     "name": "stdout",
     "output_type": "stream",
     "text": [
      "[1] 762\n"
     ]
    },
    {
     "name": "stderr",
     "output_type": "stream",
     "text": [
      "Warning message in forecasts[i] <- round(fc$mean):\n",
      "“liczba pozycji do zastąpienia nie jest wielokrotnością długości zamiany”"
     ]
    },
    {
     "name": "stdout",
     "output_type": "stream",
     "text": [
      "[1] 765\n"
     ]
    },
    {
     "name": "stderr",
     "output_type": "stream",
     "text": [
      "Warning message in forecasts[i] <- round(fc$mean):\n",
      "“liczba pozycji do zastąpienia nie jest wielokrotnością długości zamiany”"
     ]
    },
    {
     "name": "stdout",
     "output_type": "stream",
     "text": [
      "[1] 771\n"
     ]
    },
    {
     "name": "stderr",
     "output_type": "stream",
     "text": [
      "Warning message in forecasts[i] <- round(fc$mean):\n",
      "“liczba pozycji do zastąpienia nie jest wielokrotnością długości zamiany”"
     ]
    },
    {
     "name": "stdout",
     "output_type": "stream",
     "text": [
      "[1] 776\n"
     ]
    },
    {
     "name": "stderr",
     "output_type": "stream",
     "text": [
      "Warning message in forecasts[i] <- round(fc$mean):\n",
      "“liczba pozycji do zastąpienia nie jest wielokrotnością długości zamiany”"
     ]
    },
    {
     "name": "stdout",
     "output_type": "stream",
     "text": [
      "[1] 780\n"
     ]
    },
    {
     "name": "stderr",
     "output_type": "stream",
     "text": [
      "Warning message in forecasts[i] <- round(fc$mean):\n",
      "“liczba pozycji do zastąpienia nie jest wielokrotnością długości zamiany”"
     ]
    },
    {
     "name": "stdout",
     "output_type": "stream",
     "text": [
      "[1] 783\n"
     ]
    },
    {
     "name": "stderr",
     "output_type": "stream",
     "text": [
      "Warning message in forecasts[i] <- round(fc$mean):\n",
      "“liczba pozycji do zastąpienia nie jest wielokrotnością długości zamiany”"
     ]
    },
    {
     "name": "stdout",
     "output_type": "stream",
     "text": [
      "[1] 789\n"
     ]
    },
    {
     "name": "stderr",
     "output_type": "stream",
     "text": [
      "Warning message in forecasts[i] <- round(fc$mean):\n",
      "“liczba pozycji do zastąpienia nie jest wielokrotnością długości zamiany”"
     ]
    },
    {
     "name": "stdout",
     "output_type": "stream",
     "text": [
      "[1] 793\n"
     ]
    },
    {
     "name": "stderr",
     "output_type": "stream",
     "text": [
      "Warning message in forecasts[i] <- round(fc$mean):\n",
      "“liczba pozycji do zastąpienia nie jest wielokrotnością długości zamiany”"
     ]
    },
    {
     "name": "stdout",
     "output_type": "stream",
     "text": [
      "[1] 795\n"
     ]
    },
    {
     "name": "stderr",
     "output_type": "stream",
     "text": [
      "Warning message in forecasts[i] <- round(fc$mean):\n",
      "“liczba pozycji do zastąpienia nie jest wielokrotnością długości zamiany”"
     ]
    },
    {
     "name": "stdout",
     "output_type": "stream",
     "text": [
      "[1] 803\n"
     ]
    },
    {
     "name": "stderr",
     "output_type": "stream",
     "text": [
      "Warning message in forecasts[i] <- round(fc$mean):\n",
      "“liczba pozycji do zastąpienia nie jest wielokrotnością długości zamiany”"
     ]
    },
    {
     "name": "stdout",
     "output_type": "stream",
     "text": [
      "[1] 804\n"
     ]
    },
    {
     "name": "stderr",
     "output_type": "stream",
     "text": [
      "Warning message in forecasts[i] <- round(fc$mean):\n",
      "“liczba pozycji do zastąpienia nie jest wielokrotnością długości zamiany”"
     ]
    },
    {
     "name": "stdout",
     "output_type": "stream",
     "text": [
      "[1] 811\n"
     ]
    },
    {
     "name": "stderr",
     "output_type": "stream",
     "text": [
      "Warning message in forecasts[i] <- round(fc$mean):\n",
      "“liczba pozycji do zastąpienia nie jest wielokrotnością długości zamiany”"
     ]
    },
    {
     "name": "stdout",
     "output_type": "stream",
     "text": [
      "[1] 816\n"
     ]
    },
    {
     "name": "stderr",
     "output_type": "stream",
     "text": [
      "Warning message in forecasts[i] <- round(fc$mean):\n",
      "“liczba pozycji do zastąpienia nie jest wielokrotnością długości zamiany”"
     ]
    },
    {
     "name": "stdout",
     "output_type": "stream",
     "text": [
      "[1] 817\n"
     ]
    },
    {
     "name": "stderr",
     "output_type": "stream",
     "text": [
      "Warning message in forecasts[i] <- round(fc$mean):\n",
      "“liczba pozycji do zastąpienia nie jest wielokrotnością długości zamiany”"
     ]
    },
    {
     "name": "stdout",
     "output_type": "stream",
     "text": [
      "[1] 824\n"
     ]
    },
    {
     "name": "stderr",
     "output_type": "stream",
     "text": [
      "Warning message in forecasts[i] <- round(fc$mean):\n",
      "“liczba pozycji do zastąpienia nie jest wielokrotnością długości zamiany”"
     ]
    },
    {
     "name": "stdout",
     "output_type": "stream",
     "text": [
      "[1] 826\n"
     ]
    },
    {
     "name": "stderr",
     "output_type": "stream",
     "text": [
      "Warning message in forecasts[i] <- round(fc$mean):\n",
      "“liczba pozycji do zastąpienia nie jest wielokrotnością długości zamiany”"
     ]
    },
    {
     "name": "stdout",
     "output_type": "stream",
     "text": [
      "[1] 831\n"
     ]
    },
    {
     "name": "stderr",
     "output_type": "stream",
     "text": [
      "Warning message in forecasts[i] <- round(fc$mean):\n",
      "“liczba pozycji do zastąpienia nie jest wielokrotnością długości zamiany”"
     ]
    },
    {
     "name": "stdout",
     "output_type": "stream",
     "text": [
      "[1] 834\n"
     ]
    },
    {
     "name": "stderr",
     "output_type": "stream",
     "text": [
      "Warning message in forecasts[i] <- round(fc$mean):\n",
      "“liczba pozycji do zastąpienia nie jest wielokrotnością długości zamiany”"
     ]
    },
    {
     "name": "stdout",
     "output_type": "stream",
     "text": [
      "[1] 841\n"
     ]
    },
    {
     "name": "stderr",
     "output_type": "stream",
     "text": [
      "Warning message in forecasts[i] <- round(fc$mean):\n",
      "“liczba pozycji do zastąpienia nie jest wielokrotnością długości zamiany”"
     ]
    },
    {
     "name": "stdout",
     "output_type": "stream",
     "text": [
      "[1] 844\n"
     ]
    },
    {
     "name": "stderr",
     "output_type": "stream",
     "text": [
      "Warning message in forecasts[i] <- round(fc$mean):\n",
      "“liczba pozycji do zastąpienia nie jest wielokrotnością długości zamiany”"
     ]
    },
    {
     "name": "stdout",
     "output_type": "stream",
     "text": [
      "[1] 849\n"
     ]
    },
    {
     "name": "stderr",
     "output_type": "stream",
     "text": [
      "Warning message in forecasts[i] <- round(fc$mean):\n",
      "“liczba pozycji do zastąpienia nie jest wielokrotnością długości zamiany”"
     ]
    },
    {
     "name": "stdout",
     "output_type": "stream",
     "text": [
      "[1] 853\n"
     ]
    },
    {
     "name": "stderr",
     "output_type": "stream",
     "text": [
      "Warning message in forecasts[i] <- round(fc$mean):\n",
      "“liczba pozycji do zastąpienia nie jest wielokrotnością długości zamiany”"
     ]
    },
    {
     "name": "stdout",
     "output_type": "stream",
     "text": [
      "[1] 859\n"
     ]
    },
    {
     "name": "stderr",
     "output_type": "stream",
     "text": [
      "Warning message in forecasts[i] <- round(fc$mean):\n",
      "“liczba pozycji do zastąpienia nie jest wielokrotnością długości zamiany”"
     ]
    },
    {
     "name": "stdout",
     "output_type": "stream",
     "text": [
      "[1] 863\n"
     ]
    },
    {
     "name": "stderr",
     "output_type": "stream",
     "text": [
      "Warning message in forecasts[i] <- round(fc$mean):\n",
      "“liczba pozycji do zastąpienia nie jest wielokrotnością długości zamiany”"
     ]
    },
    {
     "name": "stdout",
     "output_type": "stream",
     "text": [
      "[1] 865\n"
     ]
    },
    {
     "name": "stderr",
     "output_type": "stream",
     "text": [
      "Warning message in forecasts[i] <- round(fc$mean):\n",
      "“liczba pozycji do zastąpienia nie jest wielokrotnością długości zamiany”"
     ]
    },
    {
     "name": "stdout",
     "output_type": "stream",
     "text": [
      "[1] 869\n"
     ]
    },
    {
     "name": "stderr",
     "output_type": "stream",
     "text": [
      "Warning message in forecasts[i] <- round(fc$mean):\n",
      "“liczba pozycji do zastąpienia nie jest wielokrotnością długości zamiany”"
     ]
    },
    {
     "name": "stdout",
     "output_type": "stream",
     "text": [
      "[1] 874\n"
     ]
    },
    {
     "name": "stderr",
     "output_type": "stream",
     "text": [
      "Warning message in forecasts[i] <- round(fc$mean):\n",
      "“liczba pozycji do zastąpienia nie jest wielokrotnością długości zamiany”"
     ]
    },
    {
     "name": "stdout",
     "output_type": "stream",
     "text": [
      "[1] 878\n"
     ]
    },
    {
     "name": "stderr",
     "output_type": "stream",
     "text": [
      "Warning message in forecasts[i] <- round(fc$mean):\n",
      "“liczba pozycji do zastąpienia nie jest wielokrotnością długości zamiany”"
     ]
    },
    {
     "name": "stdout",
     "output_type": "stream",
     "text": [
      "[1] 885\n"
     ]
    },
    {
     "name": "stderr",
     "output_type": "stream",
     "text": [
      "Warning message in forecasts[i] <- round(fc$mean):\n",
      "“liczba pozycji do zastąpienia nie jest wielokrotnością długości zamiany”"
     ]
    },
    {
     "name": "stdout",
     "output_type": "stream",
     "text": [
      "[1] 888\n"
     ]
    },
    {
     "name": "stderr",
     "output_type": "stream",
     "text": [
      "Warning message in forecasts[i] <- round(fc$mean):\n",
      "“liczba pozycji do zastąpienia nie jest wielokrotnością długości zamiany”"
     ]
    },
    {
     "name": "stdout",
     "output_type": "stream",
     "text": [
      "[1] 893\n"
     ]
    },
    {
     "name": "stderr",
     "output_type": "stream",
     "text": [
      "Warning message in forecasts[i] <- round(fc$mean):\n",
      "“liczba pozycji do zastąpienia nie jest wielokrotnością długości zamiany”"
     ]
    },
    {
     "name": "stdout",
     "output_type": "stream",
     "text": [
      "[1] 896\n"
     ]
    },
    {
     "name": "stderr",
     "output_type": "stream",
     "text": [
      "Warning message in forecasts[i] <- round(fc$mean):\n",
      "“liczba pozycji do zastąpienia nie jest wielokrotnością długości zamiany”"
     ]
    },
    {
     "name": "stdout",
     "output_type": "stream",
     "text": [
      "[1] 901\n"
     ]
    },
    {
     "name": "stderr",
     "output_type": "stream",
     "text": [
      "Warning message in forecasts[i] <- round(fc$mean):\n",
      "“liczba pozycji do zastąpienia nie jest wielokrotnością długości zamiany”"
     ]
    },
    {
     "name": "stdout",
     "output_type": "stream",
     "text": [
      "[1] 903\n"
     ]
    },
    {
     "name": "stderr",
     "output_type": "stream",
     "text": [
      "Warning message in forecasts[i] <- round(fc$mean):\n",
      "“liczba pozycji do zastąpienia nie jest wielokrotnością długości zamiany”"
     ]
    },
    {
     "name": "stdout",
     "output_type": "stream",
     "text": [
      "[1] 909\n"
     ]
    },
    {
     "name": "stderr",
     "output_type": "stream",
     "text": [
      "Warning message in forecasts[i] <- round(fc$mean):\n",
      "“liczba pozycji do zastąpienia nie jest wielokrotnością długości zamiany”"
     ]
    },
    {
     "name": "stdout",
     "output_type": "stream",
     "text": [
      "[1] 914\n"
     ]
    },
    {
     "name": "stderr",
     "output_type": "stream",
     "text": [
      "Warning message in forecasts[i] <- round(fc$mean):\n",
      "“liczba pozycji do zastąpienia nie jest wielokrotnością długości zamiany”"
     ]
    },
    {
     "name": "stdout",
     "output_type": "stream",
     "text": [
      "[1] 918\n"
     ]
    },
    {
     "name": "stderr",
     "output_type": "stream",
     "text": [
      "Warning message in forecasts[i] <- round(fc$mean):\n",
      "“liczba pozycji do zastąpienia nie jest wielokrotnością długości zamiany”"
     ]
    },
    {
     "name": "stdout",
     "output_type": "stream",
     "text": [
      "[1] 921\n"
     ]
    },
    {
     "name": "stderr",
     "output_type": "stream",
     "text": [
      "Warning message in forecasts[i] <- round(fc$mean):\n",
      "“liczba pozycji do zastąpienia nie jest wielokrotnością długości zamiany”"
     ]
    },
    {
     "name": "stdout",
     "output_type": "stream",
     "text": [
      "[1] 925\n"
     ]
    },
    {
     "name": "stderr",
     "output_type": "stream",
     "text": [
      "Warning message in forecasts[i] <- round(fc$mean):\n",
      "“liczba pozycji do zastąpienia nie jest wielokrotnością długości zamiany”"
     ]
    },
    {
     "name": "stdout",
     "output_type": "stream",
     "text": [
      "[1] 932\n"
     ]
    },
    {
     "name": "stderr",
     "output_type": "stream",
     "text": [
      "Warning message in forecasts[i] <- round(fc$mean):\n",
      "“liczba pozycji do zastąpienia nie jest wielokrotnością długości zamiany”"
     ]
    },
    {
     "name": "stdout",
     "output_type": "stream",
     "text": [
      "[1] 937\n"
     ]
    },
    {
     "name": "stderr",
     "output_type": "stream",
     "text": [
      "Warning message in forecasts[i] <- round(fc$mean):\n",
      "“liczba pozycji do zastąpienia nie jest wielokrotnością długości zamiany”"
     ]
    },
    {
     "name": "stdout",
     "output_type": "stream",
     "text": [
      "[1] 942\n"
     ]
    },
    {
     "name": "stderr",
     "output_type": "stream",
     "text": [
      "Warning message in forecasts[i] <- round(fc$mean):\n",
      "“liczba pozycji do zastąpienia nie jest wielokrotnością długości zamiany”"
     ]
    },
    {
     "name": "stdout",
     "output_type": "stream",
     "text": [
      "[1] 943\n"
     ]
    },
    {
     "name": "stderr",
     "output_type": "stream",
     "text": [
      "Warning message in forecasts[i] <- round(fc$mean):\n",
      "“liczba pozycji do zastąpienia nie jest wielokrotnością długości zamiany”"
     ]
    },
    {
     "name": "stdout",
     "output_type": "stream",
     "text": [
      "[1] 1\n",
      "[1] 4\n",
      "[1] 9\n",
      "[1] 15\n",
      "[1] 17\n",
      "[1] 22\n",
      "[1] 27\n",
      "[1] 33\n",
      "[1] 34\n",
      "[1] 41\n",
      "[1] 44\n",
      "[1] 47\n",
      "[1] 52\n",
      "[1] 59\n",
      "[1] 63\n",
      "[1] 65\n",
      "[1] 72\n",
      "[1] 75\n",
      "[1] 78\n",
      "[1] 85\n",
      "[1] 89\n",
      "[1] 94\n",
      "[1] 96\n",
      "[1] 102\n",
      "[1] 107\n",
      "[1] 110\n",
      "[1] 116\n",
      "[1] 120\n",
      "[1] 123\n",
      "[1] 125\n",
      "[1] 130\n",
      "[1] 135\n",
      "[1] 141\n",
      "[1] 145\n",
      "[1] 149\n",
      "[1] 154\n",
      "[1] 157\n",
      "[1] 161\n",
      "[1] 168\n",
      "[1] 172\n",
      "[1] 174\n",
      "[1] 180\n",
      "[1] 185\n",
      "[1] 187\n",
      "[1] 191\n",
      "[1] 197\n",
      "[1] 200\n",
      "[1] 204\n",
      "[1] 210\n",
      "[1] 212\n",
      "[1] 218\n",
      "[1] 224\n",
      "[1] 227\n",
      "[1] 233\n",
      "[1] 234\n",
      "[1] 241\n",
      "[1] 244\n",
      "[1] 249\n",
      "[1] 255\n",
      "[1] 256\n",
      "[1] 262\n",
      "[1] 264\n",
      "[1] 269\n",
      "[1] 273\n",
      "[1] 278\n",
      "[1] 284\n",
      "[1] 288\n",
      "[1] 290\n",
      "[1] 297\n",
      "[1] 299\n",
      "[1] 305\n",
      "[1] 308\n",
      "[1] 314\n",
      "[1] 319\n",
      "[1] 321\n",
      "[1] 327\n",
      "[1] 330\n",
      "[1] 336\n",
      "[1] 342\n",
      "[1] 343\n",
      "[1] 349\n",
      "[1] 352\n",
      "[1] 357\n",
      "[1] 363\n",
      "[1] 368\n",
      "[1] 370\n",
      "[1] 375\n",
      "[1] 381\n",
      "[1] 384\n",
      "[1] 388\n",
      "[1] 390\n",
      "[1] 396\n",
      "[1] 401\n",
      "[1] 404\n",
      "[1] 408\n",
      "[1] 414\n",
      "[1] 420\n",
      "[1] 424\n",
      "[1] 429\n",
      "[1] 430\n",
      "[1] 436\n",
      "[1] 440\n",
      "[1] 443\n",
      "[1] 449\n",
      "[1] 455\n",
      "[1] 456\n",
      "[1] 460\n",
      "[1] 468\n",
      "[1] 472\n",
      "[1] 476\n",
      "[1] 481\n",
      "[1] 484\n",
      "[1] 489\n",
      "[1] 491\n",
      "[1] 498\n",
      "[1] 501\n",
      "[1] 506\n",
      "[1] 510\n",
      "[1] 513\n",
      "[1] 518\n",
      "[1] 524\n",
      "[1] 528\n",
      "[1] 531\n",
      "[1] 537\n",
      "[1] 540\n",
      "[1] 546\n",
      "[1] 547\n",
      "[1] 553\n",
      "[1] 559\n",
      "[1] 562\n",
      "[1] 565\n",
      "[1] 569\n",
      "[1] 574\n",
      "[1] 577\n",
      "[1] 583\n",
      "[1] 587\n",
      "[1] 594\n",
      "[1] 595\n",
      "[1] 603\n",
      "[1] 606\n",
      "[1] 611\n",
      "[1] 616\n",
      "[1] 619\n",
      "[1] 624\n",
      "[1] 626\n",
      "[1] 631\n",
      "[1] 637\n",
      "[1] 639\n",
      "[1] 646\n",
      "[1] 649\n",
      "[1] 654\n",
      "[1] 656\n",
      "[1] 663\n",
      "[1] 667\n",
      "[1] 670\n",
      "[1] 673\n",
      "[1] 679\n",
      "[1] 683\n",
      "[1] 690\n",
      "[1] 691\n",
      "[1] 698\n",
      "[1] 701\n",
      "[1] 705\n",
      "[1] 710\n",
      "[1] 716\n",
      "[1] 717\n",
      "[1] 722\n",
      "[1] 728\n",
      "[1] 733\n",
      "[1] 735\n",
      "[1] 738\n",
      "[1] 744\n",
      "[1] 749\n",
      "[1] 754\n",
      "[1] 759\n",
      "[1] 762\n",
      "[1] 765\n",
      "[1] 771\n",
      "[1] 776\n",
      "[1] 780\n",
      "[1] 783\n",
      "[1] 789\n",
      "[1] 793\n",
      "[1] 795\n",
      "[1] 803\n",
      "[1] 804\n",
      "[1] 811\n",
      "[1] 816\n",
      "[1] 817\n",
      "[1] 824\n",
      "[1] 826\n",
      "[1] 831\n",
      "[1] 834\n",
      "[1] 841\n",
      "[1] 844\n",
      "[1] 849\n",
      "[1] 853\n",
      "[1] 859\n",
      "[1] 863\n",
      "[1] 865\n",
      "[1] 869\n",
      "[1] 874\n",
      "[1] 878\n",
      "[1] 885\n",
      "[1] 888\n",
      "[1] 893\n",
      "[1] 896\n",
      "[1] 901\n",
      "[1] 903\n",
      "[1] 909\n",
      "[1] 914\n",
      "[1] 918\n",
      "[1] 921\n",
      "[1] 925\n",
      "[1] 932\n",
      "[1] 937\n",
      "[1] 942\n",
      "[1] 943\n",
      "[1] 0\n",
      "[1] 3\n",
      "[1] 8\n",
      "[1] 12\n",
      "[1] 20\n",
      "[1] 22\n",
      "[1] 26\n",
      "[1] 31\n",
      "[1] 34\n",
      "[1] 40\n",
      "[1] 44\n",
      "[1] 49\n",
      "[1] 51\n",
      "[1] 55\n",
      "[1] 61\n",
      "[1] 67\n",
      "[1] 68\n",
      "[1] 73\n",
      "[1] 80\n",
      "[1] 82\n",
      "[1] 86\n",
      "[1] 90\n",
      "[1] 97\n",
      "[1] 101\n",
      "[1] 105\n",
      "[1] 110\n",
      "[1] 115\n",
      "[1] 119\n",
      "[1] 123\n",
      "[1] 127\n",
      "[1] 133\n",
      "[1] 136\n",
      "[1] 140\n",
      "[1] 142\n",
      "[1] 150\n",
      "[1] 152\n",
      "[1] 156\n",
      "[1] 161\n",
      "[1] 165\n",
      "[1] 169\n",
      "[1] 174\n",
      "[1] 177\n",
      "[1] 182\n",
      "[1] 187\n",
      "[1] 190\n",
      "[1] 197\n",
      "[1] 201\n",
      "[1] 204\n",
      "[1] 210\n",
      "[1] 215\n",
      "[1] 220\n",
      "[1] 221\n",
      "[1] 225\n",
      "[1] 233\n",
      "[1] 234\n",
      "[1] 238\n",
      "[1] 242\n",
      "[1] 248\n",
      "[1] 252\n",
      "[1] 256\n",
      "[1] 261\n",
      "[1] 265\n",
      "[1] 271\n",
      "[1] 274\n",
      "[1] 277\n",
      "[1] 284\n",
      "[1] 286\n",
      "[1] 292\n",
      "[1] 297\n",
      "[1] 302\n",
      "[1] 305\n",
      "[1] 310\n",
      "[1] 314\n",
      "[1] 318\n",
      "[1] 321\n",
      "[1] 326\n",
      "[1] 333\n",
      "[1] 337\n",
      "[1] 340\n",
      "[1] 342\n",
      "[1] 348\n",
      "[1] 353\n",
      "[1] 356\n",
      "[1] 362\n",
      "[1] 365\n",
      "[1] 371\n",
      "[1] 373\n",
      "[1] 380\n",
      "[1] 384\n",
      "[1] 387\n",
      "[1] 394\n",
      "[1] 398\n",
      "[1] 401\n",
      "[1] 406\n",
      "[1] 408\n",
      "[1] 414\n",
      "[1] 418\n",
      "[1] 422\n",
      "[1] 425\n",
      "[1] 433\n",
      "[1] 435\n",
      "[1] 440\n",
      "[1] 442\n",
      "[1] 448\n",
      "[1] 451\n",
      "[1] 455\n",
      "[1] 463\n",
      "[1] 465\n",
      "[1] 470\n",
      "[1] 476\n",
      "[1] 477\n",
      "[1] 482\n",
      "[1] 488\n",
      "[1] 492\n",
      "[1] 495\n",
      "[1] 501\n",
      "[1] 505\n",
      "[1] 509\n",
      "[1] 515\n",
      "[1] 517\n",
      "[1] 523\n",
      "[1] 527\n",
      "[1] 533\n",
      "[1] 535\n",
      "[1] 540\n",
      "[1] 543\n",
      "[1] 547\n",
      "[1] 554\n",
      "[1] 557\n",
      "[1] 561\n",
      "[1] 564\n",
      "[1] 572\n",
      "[1] 573\n",
      "[1] 578\n",
      "[1] 584\n",
      "[1] 587\n",
      "[1] 594\n",
      "[1] 598\n",
      "[1] 600\n",
      "[1] 606\n",
      "[1] 608\n",
      "[1] 613\n",
      "[1] 617\n",
      "[1] 624\n",
      "[1] 626\n",
      "[1] 630\n",
      "[1] 635\n",
      "[1] 639\n",
      "[1] 645\n",
      "[1] 650\n",
      "[1] 653\n",
      "[1] 658\n",
      "[1] 663\n",
      "[1] 665\n",
      "[1] 669\n",
      "[1] 676\n",
      "[1] 679\n",
      "[1] 683\n",
      "[1] 687\n",
      "[1] 693\n",
      "[1] 695\n",
      "[1] 699\n",
      "[1] 704\n",
      "[1] 710\n",
      "[1] 713\n",
      "[1] 719\n",
      "[1] 723\n",
      "[1] 725\n",
      "[1] 732\n",
      "[1] 735\n",
      "[1] 738\n",
      "[1] 743\n",
      "[1] 749\n",
      "[1] 752\n",
      "[1] 758\n",
      "[1] 763\n",
      "[1] 765\n",
      "[1] 769\n",
      "[1] 776\n",
      "[1] 780\n",
      "[1] 783\n",
      "[1] 789\n",
      "[1] 794\n",
      "[1] 797\n",
      "[1] 799\n",
      "[1] 806\n",
      "[1] 809\n",
      "[1] 814\n",
      "[1] 816\n",
      "[1] 824\n",
      "[1] 826\n",
      "[1] 830\n",
      "[1] 835\n",
      "[1] 838\n",
      "[1] 0\n",
      "[1] 3\n",
      "[1] 8\n",
      "[1] 12\n",
      "[1] 20\n",
      "[1] 22\n",
      "[1] 26\n",
      "[1] 31\n",
      "[1] 34\n",
      "[1] 40\n",
      "[1] 44\n",
      "[1] 49\n",
      "[1] 51\n",
      "[1] 55\n",
      "[1] 61\n",
      "[1] 67\n",
      "[1] 68\n",
      "[1] 73\n",
      "[1] 80\n",
      "[1] 82\n",
      "[1] 86\n",
      "[1] 90\n",
      "[1] 97\n",
      "[1] 101\n",
      "[1] 105\n",
      "[1] 110\n",
      "[1] 115\n",
      "[1] 119\n",
      "[1] 123\n",
      "[1] 127\n",
      "[1] 133\n",
      "[1] 136\n",
      "[1] 140\n",
      "[1] 142\n",
      "[1] 150\n",
      "[1] 152\n",
      "[1] 156\n",
      "[1] 161\n",
      "[1] 165\n",
      "[1] 169\n",
      "[1] 174\n",
      "[1] 177\n",
      "[1] 182\n",
      "[1] 187\n",
      "[1] 190\n",
      "[1] 197\n",
      "[1] 201\n",
      "[1] 204\n",
      "[1] 210\n",
      "[1] 215\n",
      "[1] 220\n",
      "[1] 221\n",
      "[1] 225\n",
      "[1] 233\n",
      "[1] 234\n",
      "[1] 238\n",
      "[1] 242\n",
      "[1] 248\n",
      "[1] 252\n",
      "[1] 256\n",
      "[1] 261\n",
      "[1] 265\n",
      "[1] 271\n",
      "[1] 274\n",
      "[1] 277\n",
      "[1] 284\n",
      "[1] 286\n",
      "[1] 292\n",
      "[1] 297\n",
      "[1] 302\n",
      "[1] 305\n",
      "[1] 310\n",
      "[1] 314\n",
      "[1] 318\n",
      "[1] 321\n",
      "[1] 326\n",
      "[1] 333\n",
      "[1] 337\n",
      "[1] 340\n",
      "[1] 342\n",
      "[1] 348\n",
      "[1] 353\n",
      "[1] 356\n",
      "[1] 362\n",
      "[1] 365\n",
      "[1] 371\n",
      "[1] 373\n",
      "[1] 380\n",
      "[1] 384\n",
      "[1] 387\n",
      "[1] 394\n",
      "[1] 398\n",
      "[1] 401\n",
      "[1] 406\n",
      "[1] 408\n",
      "[1] 414\n",
      "[1] 418\n",
      "[1] 422\n",
      "[1] 425\n",
      "[1] 433\n",
      "[1] 435\n",
      "[1] 440\n",
      "[1] 442\n",
      "[1] 448\n",
      "[1] 451\n",
      "[1] 455\n",
      "[1] 463\n",
      "[1] 465\n",
      "[1] 470\n",
      "[1] 476\n",
      "[1] 477\n",
      "[1] 482\n",
      "[1] 488\n",
      "[1] 492\n",
      "[1] 495\n",
      "[1] 501\n",
      "[1] 505\n",
      "[1] 509\n",
      "[1] 515\n",
      "[1] 517\n",
      "[1] 523\n",
      "[1] 527\n",
      "[1] 533\n",
      "[1] 535\n",
      "[1] 540\n",
      "[1] 543\n",
      "[1] 547\n",
      "[1] 554\n",
      "[1] 557\n",
      "[1] 561\n",
      "[1] 564\n",
      "[1] 572\n",
      "[1] 573\n",
      "[1] 578\n",
      "[1] 584\n",
      "[1] 587\n",
      "[1] 594\n",
      "[1] 598\n",
      "[1] 600\n",
      "[1] 606\n",
      "[1] 608\n",
      "[1] 613\n",
      "[1] 617\n",
      "[1] 624\n",
      "[1] 626\n",
      "[1] 630\n",
      "[1] 635\n",
      "[1] 639\n",
      "[1] 645\n",
      "[1] 650\n",
      "[1] 653\n",
      "[1] 658\n",
      "[1] 663\n",
      "[1] 665\n",
      "[1] 669\n",
      "[1] 676\n",
      "[1] 679\n",
      "[1] 683\n",
      "[1] 687\n",
      "[1] 693\n",
      "[1] 695\n",
      "[1] 699\n",
      "[1] 704\n",
      "[1] 710\n",
      "[1] 713\n",
      "[1] 719\n",
      "[1] 723\n",
      "[1] 725\n",
      "[1] 732\n",
      "[1] 735\n",
      "[1] 738\n",
      "[1] 743\n",
      "[1] 749\n",
      "[1] 752\n",
      "[1] 758\n",
      "[1] 763\n",
      "[1] 765\n",
      "[1] 769\n",
      "[1] 776\n",
      "[1] 780\n",
      "[1] 783\n",
      "[1] 789\n",
      "[1] 794\n",
      "[1] 797\n",
      "[1] 799\n",
      "[1] 806\n",
      "[1] 809\n",
      "[1] 814\n",
      "[1] 816\n",
      "[1] 824\n",
      "[1] 826\n",
      "[1] 830\n",
      "[1] 835\n",
      "[1] 838\n",
      "[1] 0\n",
      "[1] 3\n",
      "[1] 8\n",
      "[1] 12\n",
      "[1] 20\n",
      "[1] 22\n",
      "[1] 26\n",
      "[1] 31\n",
      "[1] 34\n",
      "[1] 40\n",
      "[1] 44\n",
      "[1] 49\n",
      "[1] 51\n",
      "[1] 55\n",
      "[1] 61\n",
      "[1] 67\n",
      "[1] 68\n",
      "[1] 73\n",
      "[1] 80\n",
      "[1] 82\n",
      "[1] 86\n",
      "[1] 90\n",
      "[1] 97\n",
      "[1] 101\n",
      "[1] 105\n",
      "[1] 110\n",
      "[1] 115\n",
      "[1] 119\n",
      "[1] 123\n",
      "[1] 127\n",
      "[1] 133\n",
      "[1] 136\n",
      "[1] 140\n",
      "[1] 142\n",
      "[1] 150\n",
      "[1] 152\n",
      "[1] 156\n",
      "[1] 161\n",
      "[1] 165\n",
      "[1] 169\n",
      "[1] 174\n",
      "[1] 177\n",
      "[1] 182\n",
      "[1] 187\n",
      "[1] 190\n",
      "[1] 197\n",
      "[1] 201\n",
      "[1] 204\n",
      "[1] 210\n",
      "[1] 215\n",
      "[1] 220\n",
      "[1] 221\n",
      "[1] 225\n",
      "[1] 233\n",
      "[1] 234\n",
      "[1] 238\n",
      "[1] 242\n",
      "[1] 248\n",
      "[1] 252\n",
      "[1] 256\n",
      "[1] 261\n",
      "[1] 265\n",
      "[1] 271\n",
      "[1] 274\n",
      "[1] 277\n",
      "[1] 284\n",
      "[1] 286\n",
      "[1] 292\n",
      "[1] 297\n",
      "[1] 302\n",
      "[1] 305\n",
      "[1] 310\n",
      "[1] 314\n",
      "[1] 318\n",
      "[1] 321\n",
      "[1] 326\n",
      "[1] 333\n",
      "[1] 337\n",
      "[1] 340\n",
      "[1] 342\n",
      "[1] 348\n",
      "[1] 353\n",
      "[1] 356\n",
      "[1] 362\n",
      "[1] 365\n",
      "[1] 371\n",
      "[1] 373\n",
      "[1] 380\n",
      "[1] 384\n",
      "[1] 387\n",
      "[1] 394\n",
      "[1] 398\n",
      "[1] 401\n",
      "[1] 406\n",
      "[1] 408\n",
      "[1] 414\n",
      "[1] 418\n",
      "[1] 422\n",
      "[1] 425\n",
      "[1] 433\n",
      "[1] 435\n",
      "[1] 440\n",
      "[1] 442\n",
      "[1] 448\n",
      "[1] 451\n",
      "[1] 455\n",
      "[1] 463\n",
      "[1] 465\n",
      "[1] 470\n",
      "[1] 476\n",
      "[1] 477\n",
      "[1] 482\n",
      "[1] 488\n",
      "[1] 492\n",
      "[1] 495\n",
      "[1] 501\n",
      "[1] 505\n",
      "[1] 509\n",
      "[1] 515\n",
      "[1] 517\n",
      "[1] 523\n",
      "[1] 527\n",
      "[1] 533\n",
      "[1] 535\n",
      "[1] 540\n",
      "[1] 543\n",
      "[1] 547\n",
      "[1] 554\n",
      "[1] 557\n",
      "[1] 561\n",
      "[1] 564\n",
      "[1] 572\n",
      "[1] 573\n",
      "[1] 578\n",
      "[1] 584\n",
      "[1] 587\n",
      "[1] 594\n",
      "[1] 598\n",
      "[1] 600\n",
      "[1] 606\n",
      "[1] 608\n",
      "[1] 613\n",
      "[1] 617\n",
      "[1] 624\n",
      "[1] 626\n",
      "[1] 630\n",
      "[1] 635\n",
      "[1] 639\n",
      "[1] 645\n",
      "[1] 650\n",
      "[1] 653\n",
      "[1] 658\n",
      "[1] 663\n",
      "[1] 665\n",
      "[1] 669\n",
      "[1] 676\n",
      "[1] 679\n",
      "[1] 683\n",
      "[1] 687\n",
      "[1] 693\n",
      "[1] 695\n",
      "[1] 699\n",
      "[1] 704\n",
      "[1] 710\n",
      "[1] 713\n",
      "[1] 719\n",
      "[1] 723\n",
      "[1] 725\n",
      "[1] 732\n",
      "[1] 735\n",
      "[1] 738\n",
      "[1] 743\n",
      "[1] 749\n",
      "[1] 752\n",
      "[1] 758\n",
      "[1] 763\n",
      "[1] 765\n",
      "[1] 769\n",
      "[1] 776\n",
      "[1] 780\n",
      "[1] 783\n",
      "[1] 789\n",
      "[1] 794\n",
      "[1] 797\n",
      "[1] 799\n",
      "[1] 806\n",
      "[1] 809\n",
      "[1] 814\n",
      "[1] 816\n",
      "[1] 824\n",
      "[1] 826\n",
      "[1] 830\n",
      "[1] 835\n",
      "[1] 838\n",
      "[1] 0\n",
      "[1] 3\n",
      "[1] 8\n",
      "[1] 12\n",
      "[1] 20\n",
      "[1] 22\n",
      "[1] 26\n",
      "[1] 31\n",
      "[1] 34\n",
      "[1] 40\n",
      "[1] 44\n",
      "[1] 49\n",
      "[1] 51\n",
      "[1] 55\n",
      "[1] 61\n",
      "[1] 67\n",
      "[1] 68\n",
      "[1] 73\n",
      "[1] 80\n",
      "[1] 82\n",
      "[1] 86\n",
      "[1] 90\n",
      "[1] 97\n",
      "[1] 101\n",
      "[1] 105\n",
      "[1] 110\n",
      "[1] 115\n",
      "[1] 119\n",
      "[1] 123\n",
      "[1] 127\n",
      "[1] 133\n",
      "[1] 136\n",
      "[1] 140\n",
      "[1] 142\n",
      "[1] 150\n",
      "[1] 152\n",
      "[1] 156\n",
      "[1] 161\n",
      "[1] 165\n",
      "[1] 169\n",
      "[1] 174\n",
      "[1] 177\n",
      "[1] 182\n",
      "[1] 187\n",
      "[1] 190\n",
      "[1] 197\n",
      "[1] 201\n",
      "[1] 204\n",
      "[1] 210\n",
      "[1] 215\n",
      "[1] 220\n",
      "[1] 221\n",
      "[1] 225\n",
      "[1] 233\n",
      "[1] 234\n",
      "[1] 238\n",
      "[1] 242\n",
      "[1] 248\n",
      "[1] 252\n",
      "[1] 256\n",
      "[1] 261\n",
      "[1] 265\n",
      "[1] 271\n",
      "[1] 274\n",
      "[1] 277\n",
      "[1] 284\n",
      "[1] 286\n",
      "[1] 292\n",
      "[1] 297\n",
      "[1] 302\n",
      "[1] 305\n",
      "[1] 310\n",
      "[1] 314\n",
      "[1] 318\n",
      "[1] 321\n",
      "[1] 326\n",
      "[1] 333\n",
      "[1] 337\n",
      "[1] 340\n",
      "[1] 342\n",
      "[1] 348\n",
      "[1] 353\n",
      "[1] 356\n",
      "[1] 362\n",
      "[1] 365\n",
      "[1] 371\n",
      "[1] 373\n",
      "[1] 380\n",
      "[1] 384\n",
      "[1] 387\n",
      "[1] 394\n",
      "[1] 398\n",
      "[1] 401\n",
      "[1] 406\n",
      "[1] 408\n",
      "[1] 414\n",
      "[1] 418\n",
      "[1] 422\n",
      "[1] 425\n",
      "[1] 433\n",
      "[1] 435\n",
      "[1] 440\n",
      "[1] 442\n",
      "[1] 448\n",
      "[1] 451\n",
      "[1] 455\n",
      "[1] 463\n",
      "[1] 465\n",
      "[1] 470\n",
      "[1] 476\n",
      "[1] 477\n",
      "[1] 482\n",
      "[1] 488\n",
      "[1] 492\n",
      "[1] 495\n",
      "[1] 501\n",
      "[1] 505\n",
      "[1] 509\n",
      "[1] 515\n",
      "[1] 517\n",
      "[1] 523\n",
      "[1] 527\n",
      "[1] 533\n",
      "[1] 535\n",
      "[1] 540\n",
      "[1] 543\n",
      "[1] 547\n",
      "[1] 554\n",
      "[1] 557\n",
      "[1] 561\n",
      "[1] 564\n",
      "[1] 572\n",
      "[1] 573\n",
      "[1] 578\n",
      "[1] 584\n",
      "[1] 587\n",
      "[1] 594\n",
      "[1] 598\n",
      "[1] 600\n",
      "[1] 606\n",
      "[1] 608\n",
      "[1] 613\n",
      "[1] 617\n",
      "[1] 624\n",
      "[1] 626\n",
      "[1] 630\n",
      "[1] 635\n",
      "[1] 639\n",
      "[1] 645\n",
      "[1] 650\n",
      "[1] 653\n",
      "[1] 658\n",
      "[1] 663\n",
      "[1] 665\n",
      "[1] 669\n",
      "[1] 676\n",
      "[1] 679\n",
      "[1] 683\n",
      "[1] 687\n",
      "[1] 693\n",
      "[1] 695\n",
      "[1] 699\n",
      "[1] 704\n",
      "[1] 710\n",
      "[1] 713\n",
      "[1] 719\n",
      "[1] 723\n",
      "[1] 725\n",
      "[1] 732\n",
      "[1] 735\n",
      "[1] 738\n",
      "[1] 743\n",
      "[1] 749\n",
      "[1] 752\n",
      "[1] 758\n",
      "[1] 763\n",
      "[1] 765\n",
      "[1] 769\n",
      "[1] 776\n",
      "[1] 780\n",
      "[1] 783\n",
      "[1] 789\n",
      "[1] 794\n",
      "[1] 797\n",
      "[1] 799\n",
      "[1] 806\n",
      "[1] 809\n",
      "[1] 814\n",
      "[1] 816\n",
      "[1] 824\n",
      "[1] 826\n",
      "[1] 830\n",
      "[1] 835\n",
      "[1] 838\n",
      "[1] 0\n",
      "[1] 3\n"
     ]
    },
    {
     "name": "stderr",
     "output_type": "stream",
     "text": [
      "Warning message in forecasts[i] <- round(fc$mean):\n",
      "“liczba pozycji do zastąpienia nie jest wielokrotnością długości zamiany”"
     ]
    },
    {
     "name": "stdout",
     "output_type": "stream",
     "text": [
      "[1] 8\n"
     ]
    },
    {
     "name": "stderr",
     "output_type": "stream",
     "text": [
      "Warning message in forecasts[i] <- round(fc$mean):\n",
      "“liczba pozycji do zastąpienia nie jest wielokrotnością długości zamiany”"
     ]
    },
    {
     "name": "stdout",
     "output_type": "stream",
     "text": [
      "[1] 12\n"
     ]
    },
    {
     "name": "stderr",
     "output_type": "stream",
     "text": [
      "Warning message in forecasts[i] <- round(fc$mean):\n",
      "“liczba pozycji do zastąpienia nie jest wielokrotnością długości zamiany”"
     ]
    },
    {
     "name": "stdout",
     "output_type": "stream",
     "text": [
      "[1] 20\n"
     ]
    },
    {
     "name": "stderr",
     "output_type": "stream",
     "text": [
      "Warning message in forecasts[i] <- round(fc$mean):\n",
      "“liczba pozycji do zastąpienia nie jest wielokrotnością długości zamiany”"
     ]
    },
    {
     "name": "stdout",
     "output_type": "stream",
     "text": [
      "[1] 22\n"
     ]
    },
    {
     "name": "stderr",
     "output_type": "stream",
     "text": [
      "Warning message in forecasts[i] <- round(fc$mean):\n",
      "“liczba pozycji do zastąpienia nie jest wielokrotnością długości zamiany”"
     ]
    },
    {
     "name": "stdout",
     "output_type": "stream",
     "text": [
      "[1] 26\n"
     ]
    },
    {
     "name": "stderr",
     "output_type": "stream",
     "text": [
      "Warning message in forecasts[i] <- round(fc$mean):\n",
      "“liczba pozycji do zastąpienia nie jest wielokrotnością długości zamiany”"
     ]
    },
    {
     "name": "stdout",
     "output_type": "stream",
     "text": [
      "[1] 31\n"
     ]
    },
    {
     "name": "stderr",
     "output_type": "stream",
     "text": [
      "Warning message in forecasts[i] <- round(fc$mean):\n",
      "“liczba pozycji do zastąpienia nie jest wielokrotnością długości zamiany”"
     ]
    },
    {
     "name": "stdout",
     "output_type": "stream",
     "text": [
      "[1] 34\n"
     ]
    },
    {
     "name": "stderr",
     "output_type": "stream",
     "text": [
      "Warning message in forecasts[i] <- round(fc$mean):\n",
      "“liczba pozycji do zastąpienia nie jest wielokrotnością długości zamiany”"
     ]
    },
    {
     "name": "stdout",
     "output_type": "stream",
     "text": [
      "[1] 40\n"
     ]
    },
    {
     "name": "stderr",
     "output_type": "stream",
     "text": [
      "Warning message in forecasts[i] <- round(fc$mean):\n",
      "“liczba pozycji do zastąpienia nie jest wielokrotnością długości zamiany”"
     ]
    },
    {
     "name": "stdout",
     "output_type": "stream",
     "text": [
      "[1] 44\n"
     ]
    },
    {
     "name": "stderr",
     "output_type": "stream",
     "text": [
      "Warning message in forecasts[i] <- round(fc$mean):\n",
      "“liczba pozycji do zastąpienia nie jest wielokrotnością długości zamiany”"
     ]
    },
    {
     "name": "stdout",
     "output_type": "stream",
     "text": [
      "[1] 49\n"
     ]
    },
    {
     "name": "stderr",
     "output_type": "stream",
     "text": [
      "Warning message in forecasts[i] <- round(fc$mean):\n",
      "“liczba pozycji do zastąpienia nie jest wielokrotnością długości zamiany”"
     ]
    },
    {
     "name": "stdout",
     "output_type": "stream",
     "text": [
      "[1] 51\n"
     ]
    },
    {
     "name": "stderr",
     "output_type": "stream",
     "text": [
      "Warning message in forecasts[i] <- round(fc$mean):\n",
      "“liczba pozycji do zastąpienia nie jest wielokrotnością długości zamiany”"
     ]
    },
    {
     "name": "stdout",
     "output_type": "stream",
     "text": [
      "[1] 55\n"
     ]
    },
    {
     "name": "stderr",
     "output_type": "stream",
     "text": [
      "Warning message in forecasts[i] <- round(fc$mean):\n",
      "“liczba pozycji do zastąpienia nie jest wielokrotnością długości zamiany”"
     ]
    },
    {
     "name": "stdout",
     "output_type": "stream",
     "text": [
      "[1] 61\n"
     ]
    },
    {
     "name": "stderr",
     "output_type": "stream",
     "text": [
      "Warning message in forecasts[i] <- round(fc$mean):\n",
      "“liczba pozycji do zastąpienia nie jest wielokrotnością długości zamiany”"
     ]
    },
    {
     "name": "stdout",
     "output_type": "stream",
     "text": [
      "[1] 67\n"
     ]
    },
    {
     "name": "stderr",
     "output_type": "stream",
     "text": [
      "Warning message in forecasts[i] <- round(fc$mean):\n",
      "“liczba pozycji do zastąpienia nie jest wielokrotnością długości zamiany”"
     ]
    },
    {
     "name": "stdout",
     "output_type": "stream",
     "text": [
      "[1] 68\n"
     ]
    },
    {
     "name": "stderr",
     "output_type": "stream",
     "text": [
      "Warning message in forecasts[i] <- round(fc$mean):\n",
      "“liczba pozycji do zastąpienia nie jest wielokrotnością długości zamiany”"
     ]
    },
    {
     "name": "stdout",
     "output_type": "stream",
     "text": [
      "[1] 73\n"
     ]
    },
    {
     "name": "stderr",
     "output_type": "stream",
     "text": [
      "Warning message in forecasts[i] <- round(fc$mean):\n",
      "“liczba pozycji do zastąpienia nie jest wielokrotnością długości zamiany”"
     ]
    },
    {
     "name": "stdout",
     "output_type": "stream",
     "text": [
      "[1] 80\n"
     ]
    },
    {
     "name": "stderr",
     "output_type": "stream",
     "text": [
      "Warning message in forecasts[i] <- round(fc$mean):\n",
      "“liczba pozycji do zastąpienia nie jest wielokrotnością długości zamiany”"
     ]
    },
    {
     "name": "stdout",
     "output_type": "stream",
     "text": [
      "[1] 82\n"
     ]
    },
    {
     "name": "stderr",
     "output_type": "stream",
     "text": [
      "Warning message in forecasts[i] <- round(fc$mean):\n",
      "“liczba pozycji do zastąpienia nie jest wielokrotnością długości zamiany”"
     ]
    },
    {
     "name": "stdout",
     "output_type": "stream",
     "text": [
      "[1] 86\n"
     ]
    },
    {
     "name": "stderr",
     "output_type": "stream",
     "text": [
      "Warning message in forecasts[i] <- round(fc$mean):\n",
      "“liczba pozycji do zastąpienia nie jest wielokrotnością długości zamiany”"
     ]
    },
    {
     "name": "stdout",
     "output_type": "stream",
     "text": [
      "[1] 90\n"
     ]
    },
    {
     "name": "stderr",
     "output_type": "stream",
     "text": [
      "Warning message in forecasts[i] <- round(fc$mean):\n",
      "“liczba pozycji do zastąpienia nie jest wielokrotnością długości zamiany”"
     ]
    },
    {
     "name": "stdout",
     "output_type": "stream",
     "text": [
      "[1] 97\n"
     ]
    },
    {
     "name": "stderr",
     "output_type": "stream",
     "text": [
      "Warning message in forecasts[i] <- round(fc$mean):\n",
      "“liczba pozycji do zastąpienia nie jest wielokrotnością długości zamiany”"
     ]
    },
    {
     "name": "stdout",
     "output_type": "stream",
     "text": [
      "[1] 101\n"
     ]
    },
    {
     "name": "stderr",
     "output_type": "stream",
     "text": [
      "Warning message in forecasts[i] <- round(fc$mean):\n",
      "“liczba pozycji do zastąpienia nie jest wielokrotnością długości zamiany”"
     ]
    },
    {
     "name": "stdout",
     "output_type": "stream",
     "text": [
      "[1] 105\n"
     ]
    },
    {
     "name": "stderr",
     "output_type": "stream",
     "text": [
      "Warning message in forecasts[i] <- round(fc$mean):\n",
      "“liczba pozycji do zastąpienia nie jest wielokrotnością długości zamiany”"
     ]
    },
    {
     "name": "stdout",
     "output_type": "stream",
     "text": [
      "[1] 110\n"
     ]
    },
    {
     "name": "stderr",
     "output_type": "stream",
     "text": [
      "Warning message in forecasts[i] <- round(fc$mean):\n",
      "“liczba pozycji do zastąpienia nie jest wielokrotnością długości zamiany”"
     ]
    },
    {
     "name": "stdout",
     "output_type": "stream",
     "text": [
      "[1] 115\n"
     ]
    },
    {
     "name": "stderr",
     "output_type": "stream",
     "text": [
      "Warning message in forecasts[i] <- round(fc$mean):\n",
      "“liczba pozycji do zastąpienia nie jest wielokrotnością długości zamiany”"
     ]
    },
    {
     "name": "stdout",
     "output_type": "stream",
     "text": [
      "[1] 119\n"
     ]
    },
    {
     "name": "stderr",
     "output_type": "stream",
     "text": [
      "Warning message in forecasts[i] <- round(fc$mean):\n",
      "“liczba pozycji do zastąpienia nie jest wielokrotnością długości zamiany”"
     ]
    },
    {
     "name": "stdout",
     "output_type": "stream",
     "text": [
      "[1] 123\n"
     ]
    },
    {
     "name": "stderr",
     "output_type": "stream",
     "text": [
      "Warning message in forecasts[i] <- round(fc$mean):\n",
      "“liczba pozycji do zastąpienia nie jest wielokrotnością długości zamiany”"
     ]
    },
    {
     "name": "stdout",
     "output_type": "stream",
     "text": [
      "[1] 127\n"
     ]
    },
    {
     "name": "stderr",
     "output_type": "stream",
     "text": [
      "Warning message in forecasts[i] <- round(fc$mean):\n",
      "“liczba pozycji do zastąpienia nie jest wielokrotnością długości zamiany”"
     ]
    },
    {
     "name": "stdout",
     "output_type": "stream",
     "text": [
      "[1] 133\n"
     ]
    },
    {
     "name": "stderr",
     "output_type": "stream",
     "text": [
      "Warning message in forecasts[i] <- round(fc$mean):\n",
      "“liczba pozycji do zastąpienia nie jest wielokrotnością długości zamiany”"
     ]
    },
    {
     "name": "stdout",
     "output_type": "stream",
     "text": [
      "[1] 136\n"
     ]
    },
    {
     "name": "stderr",
     "output_type": "stream",
     "text": [
      "Warning message in forecasts[i] <- round(fc$mean):\n",
      "“liczba pozycji do zastąpienia nie jest wielokrotnością długości zamiany”"
     ]
    },
    {
     "name": "stdout",
     "output_type": "stream",
     "text": [
      "[1] 140\n"
     ]
    },
    {
     "name": "stderr",
     "output_type": "stream",
     "text": [
      "Warning message in forecasts[i] <- round(fc$mean):\n",
      "“liczba pozycji do zastąpienia nie jest wielokrotnością długości zamiany”"
     ]
    },
    {
     "name": "stdout",
     "output_type": "stream",
     "text": [
      "[1] 142\n"
     ]
    },
    {
     "name": "stderr",
     "output_type": "stream",
     "text": [
      "Warning message in forecasts[i] <- round(fc$mean):\n",
      "“liczba pozycji do zastąpienia nie jest wielokrotnością długości zamiany”"
     ]
    },
    {
     "name": "stdout",
     "output_type": "stream",
     "text": [
      "[1] 150\n"
     ]
    },
    {
     "name": "stderr",
     "output_type": "stream",
     "text": [
      "Warning message in forecasts[i] <- round(fc$mean):\n",
      "“liczba pozycji do zastąpienia nie jest wielokrotnością długości zamiany”"
     ]
    },
    {
     "name": "stdout",
     "output_type": "stream",
     "text": [
      "[1] 152\n"
     ]
    },
    {
     "name": "stderr",
     "output_type": "stream",
     "text": [
      "Warning message in forecasts[i] <- round(fc$mean):\n",
      "“liczba pozycji do zastąpienia nie jest wielokrotnością długości zamiany”"
     ]
    },
    {
     "name": "stdout",
     "output_type": "stream",
     "text": [
      "[1] 156\n"
     ]
    },
    {
     "name": "stderr",
     "output_type": "stream",
     "text": [
      "Warning message in forecasts[i] <- round(fc$mean):\n",
      "“liczba pozycji do zastąpienia nie jest wielokrotnością długości zamiany”"
     ]
    },
    {
     "name": "stdout",
     "output_type": "stream",
     "text": [
      "[1] 161\n"
     ]
    },
    {
     "name": "stderr",
     "output_type": "stream",
     "text": [
      "Warning message in forecasts[i] <- round(fc$mean):\n",
      "“liczba pozycji do zastąpienia nie jest wielokrotnością długości zamiany”"
     ]
    },
    {
     "name": "stdout",
     "output_type": "stream",
     "text": [
      "[1] 165\n"
     ]
    },
    {
     "name": "stderr",
     "output_type": "stream",
     "text": [
      "Warning message in forecasts[i] <- round(fc$mean):\n",
      "“liczba pozycji do zastąpienia nie jest wielokrotnością długości zamiany”"
     ]
    },
    {
     "name": "stdout",
     "output_type": "stream",
     "text": [
      "[1] 169\n"
     ]
    },
    {
     "name": "stderr",
     "output_type": "stream",
     "text": [
      "Warning message in forecasts[i] <- round(fc$mean):\n",
      "“liczba pozycji do zastąpienia nie jest wielokrotnością długości zamiany”"
     ]
    },
    {
     "name": "stdout",
     "output_type": "stream",
     "text": [
      "[1] 174\n"
     ]
    },
    {
     "name": "stderr",
     "output_type": "stream",
     "text": [
      "Warning message in forecasts[i] <- round(fc$mean):\n",
      "“liczba pozycji do zastąpienia nie jest wielokrotnością długości zamiany”"
     ]
    },
    {
     "name": "stdout",
     "output_type": "stream",
     "text": [
      "[1] 177\n"
     ]
    },
    {
     "name": "stderr",
     "output_type": "stream",
     "text": [
      "Warning message in forecasts[i] <- round(fc$mean):\n",
      "“liczba pozycji do zastąpienia nie jest wielokrotnością długości zamiany”"
     ]
    },
    {
     "name": "stdout",
     "output_type": "stream",
     "text": [
      "[1] 182\n"
     ]
    },
    {
     "name": "stderr",
     "output_type": "stream",
     "text": [
      "Warning message in forecasts[i] <- round(fc$mean):\n",
      "“liczba pozycji do zastąpienia nie jest wielokrotnością długości zamiany”"
     ]
    },
    {
     "name": "stdout",
     "output_type": "stream",
     "text": [
      "[1] 187\n"
     ]
    },
    {
     "name": "stderr",
     "output_type": "stream",
     "text": [
      "Warning message in forecasts[i] <- round(fc$mean):\n",
      "“liczba pozycji do zastąpienia nie jest wielokrotnością długości zamiany”"
     ]
    },
    {
     "name": "stdout",
     "output_type": "stream",
     "text": [
      "[1] 190\n"
     ]
    },
    {
     "name": "stderr",
     "output_type": "stream",
     "text": [
      "Warning message in forecasts[i] <- round(fc$mean):\n",
      "“liczba pozycji do zastąpienia nie jest wielokrotnością długości zamiany”"
     ]
    },
    {
     "name": "stdout",
     "output_type": "stream",
     "text": [
      "[1] 197\n"
     ]
    },
    {
     "name": "stderr",
     "output_type": "stream",
     "text": [
      "Warning message in forecasts[i] <- round(fc$mean):\n",
      "“liczba pozycji do zastąpienia nie jest wielokrotnością długości zamiany”"
     ]
    },
    {
     "name": "stdout",
     "output_type": "stream",
     "text": [
      "[1] 201\n"
     ]
    },
    {
     "name": "stderr",
     "output_type": "stream",
     "text": [
      "Warning message in forecasts[i] <- round(fc$mean):\n",
      "“liczba pozycji do zastąpienia nie jest wielokrotnością długości zamiany”"
     ]
    },
    {
     "name": "stdout",
     "output_type": "stream",
     "text": [
      "[1] 204\n"
     ]
    },
    {
     "name": "stderr",
     "output_type": "stream",
     "text": [
      "Warning message in forecasts[i] <- round(fc$mean):\n",
      "“liczba pozycji do zastąpienia nie jest wielokrotnością długości zamiany”"
     ]
    },
    {
     "name": "stdout",
     "output_type": "stream",
     "text": [
      "[1] 210\n"
     ]
    },
    {
     "name": "stderr",
     "output_type": "stream",
     "text": [
      "Warning message in forecasts[i] <- round(fc$mean):\n",
      "“liczba pozycji do zastąpienia nie jest wielokrotnością długości zamiany”"
     ]
    },
    {
     "name": "stdout",
     "output_type": "stream",
     "text": [
      "[1] 215\n"
     ]
    },
    {
     "name": "stderr",
     "output_type": "stream",
     "text": [
      "Warning message in forecasts[i] <- round(fc$mean):\n",
      "“liczba pozycji do zastąpienia nie jest wielokrotnością długości zamiany”"
     ]
    },
    {
     "name": "stdout",
     "output_type": "stream",
     "text": [
      "[1] 220\n"
     ]
    },
    {
     "name": "stderr",
     "output_type": "stream",
     "text": [
      "Warning message in forecasts[i] <- round(fc$mean):\n",
      "“liczba pozycji do zastąpienia nie jest wielokrotnością długości zamiany”"
     ]
    },
    {
     "name": "stdout",
     "output_type": "stream",
     "text": [
      "[1] 221\n"
     ]
    },
    {
     "name": "stderr",
     "output_type": "stream",
     "text": [
      "Warning message in forecasts[i] <- round(fc$mean):\n",
      "“liczba pozycji do zastąpienia nie jest wielokrotnością długości zamiany”"
     ]
    },
    {
     "name": "stdout",
     "output_type": "stream",
     "text": [
      "[1] 225\n"
     ]
    },
    {
     "name": "stderr",
     "output_type": "stream",
     "text": [
      "Warning message in forecasts[i] <- round(fc$mean):\n",
      "“liczba pozycji do zastąpienia nie jest wielokrotnością długości zamiany”"
     ]
    },
    {
     "name": "stdout",
     "output_type": "stream",
     "text": [
      "[1] 233\n"
     ]
    },
    {
     "name": "stderr",
     "output_type": "stream",
     "text": [
      "Warning message in forecasts[i] <- round(fc$mean):\n",
      "“liczba pozycji do zastąpienia nie jest wielokrotnością długości zamiany”"
     ]
    },
    {
     "name": "stdout",
     "output_type": "stream",
     "text": [
      "[1] 234\n"
     ]
    },
    {
     "name": "stderr",
     "output_type": "stream",
     "text": [
      "Warning message in forecasts[i] <- round(fc$mean):\n",
      "“liczba pozycji do zastąpienia nie jest wielokrotnością długości zamiany”"
     ]
    },
    {
     "name": "stdout",
     "output_type": "stream",
     "text": [
      "[1] 238\n"
     ]
    },
    {
     "name": "stderr",
     "output_type": "stream",
     "text": [
      "Warning message in forecasts[i] <- round(fc$mean):\n",
      "“liczba pozycji do zastąpienia nie jest wielokrotnością długości zamiany”"
     ]
    },
    {
     "name": "stdout",
     "output_type": "stream",
     "text": [
      "[1] 242\n"
     ]
    },
    {
     "name": "stderr",
     "output_type": "stream",
     "text": [
      "Warning message in forecasts[i] <- round(fc$mean):\n",
      "“liczba pozycji do zastąpienia nie jest wielokrotnością długości zamiany”"
     ]
    },
    {
     "name": "stdout",
     "output_type": "stream",
     "text": [
      "[1] 248\n"
     ]
    },
    {
     "name": "stderr",
     "output_type": "stream",
     "text": [
      "Warning message in forecasts[i] <- round(fc$mean):\n",
      "“liczba pozycji do zastąpienia nie jest wielokrotnością długości zamiany”"
     ]
    },
    {
     "name": "stdout",
     "output_type": "stream",
     "text": [
      "[1] 252\n"
     ]
    },
    {
     "name": "stderr",
     "output_type": "stream",
     "text": [
      "Warning message in forecasts[i] <- round(fc$mean):\n",
      "“liczba pozycji do zastąpienia nie jest wielokrotnością długości zamiany”"
     ]
    },
    {
     "name": "stdout",
     "output_type": "stream",
     "text": [
      "[1] 256\n"
     ]
    },
    {
     "name": "stderr",
     "output_type": "stream",
     "text": [
      "Warning message in forecasts[i] <- round(fc$mean):\n",
      "“liczba pozycji do zastąpienia nie jest wielokrotnością długości zamiany”"
     ]
    },
    {
     "name": "stdout",
     "output_type": "stream",
     "text": [
      "[1] 261\n"
     ]
    },
    {
     "name": "stderr",
     "output_type": "stream",
     "text": [
      "Warning message in forecasts[i] <- round(fc$mean):\n",
      "“liczba pozycji do zastąpienia nie jest wielokrotnością długości zamiany”"
     ]
    },
    {
     "name": "stdout",
     "output_type": "stream",
     "text": [
      "[1] 265\n"
     ]
    },
    {
     "name": "stderr",
     "output_type": "stream",
     "text": [
      "Warning message in forecasts[i] <- round(fc$mean):\n",
      "“liczba pozycji do zastąpienia nie jest wielokrotnością długości zamiany”"
     ]
    },
    {
     "name": "stdout",
     "output_type": "stream",
     "text": [
      "[1] 271\n"
     ]
    },
    {
     "name": "stderr",
     "output_type": "stream",
     "text": [
      "Warning message in forecasts[i] <- round(fc$mean):\n",
      "“liczba pozycji do zastąpienia nie jest wielokrotnością długości zamiany”"
     ]
    },
    {
     "name": "stdout",
     "output_type": "stream",
     "text": [
      "[1] 274\n"
     ]
    },
    {
     "name": "stderr",
     "output_type": "stream",
     "text": [
      "Warning message in forecasts[i] <- round(fc$mean):\n",
      "“liczba pozycji do zastąpienia nie jest wielokrotnością długości zamiany”"
     ]
    },
    {
     "name": "stdout",
     "output_type": "stream",
     "text": [
      "[1] 277\n"
     ]
    },
    {
     "name": "stderr",
     "output_type": "stream",
     "text": [
      "Warning message in forecasts[i] <- round(fc$mean):\n",
      "“liczba pozycji do zastąpienia nie jest wielokrotnością długości zamiany”"
     ]
    },
    {
     "name": "stdout",
     "output_type": "stream",
     "text": [
      "[1] 284\n"
     ]
    },
    {
     "name": "stderr",
     "output_type": "stream",
     "text": [
      "Warning message in forecasts[i] <- round(fc$mean):\n",
      "“liczba pozycji do zastąpienia nie jest wielokrotnością długości zamiany”"
     ]
    },
    {
     "name": "stdout",
     "output_type": "stream",
     "text": [
      "[1] 286\n"
     ]
    },
    {
     "name": "stderr",
     "output_type": "stream",
     "text": [
      "Warning message in forecasts[i] <- round(fc$mean):\n",
      "“liczba pozycji do zastąpienia nie jest wielokrotnością długości zamiany”"
     ]
    },
    {
     "name": "stdout",
     "output_type": "stream",
     "text": [
      "[1] 292\n"
     ]
    },
    {
     "name": "stderr",
     "output_type": "stream",
     "text": [
      "Warning message in forecasts[i] <- round(fc$mean):\n",
      "“liczba pozycji do zastąpienia nie jest wielokrotnością długości zamiany”"
     ]
    },
    {
     "name": "stdout",
     "output_type": "stream",
     "text": [
      "[1] 297\n"
     ]
    },
    {
     "name": "stderr",
     "output_type": "stream",
     "text": [
      "Warning message in forecasts[i] <- round(fc$mean):\n",
      "“liczba pozycji do zastąpienia nie jest wielokrotnością długości zamiany”"
     ]
    },
    {
     "name": "stdout",
     "output_type": "stream",
     "text": [
      "[1] 302\n"
     ]
    },
    {
     "name": "stderr",
     "output_type": "stream",
     "text": [
      "Warning message in forecasts[i] <- round(fc$mean):\n",
      "“liczba pozycji do zastąpienia nie jest wielokrotnością długości zamiany”"
     ]
    },
    {
     "name": "stdout",
     "output_type": "stream",
     "text": [
      "[1] 305\n"
     ]
    },
    {
     "name": "stderr",
     "output_type": "stream",
     "text": [
      "Warning message in forecasts[i] <- round(fc$mean):\n",
      "“liczba pozycji do zastąpienia nie jest wielokrotnością długości zamiany”"
     ]
    },
    {
     "name": "stdout",
     "output_type": "stream",
     "text": [
      "[1] 310\n"
     ]
    },
    {
     "name": "stderr",
     "output_type": "stream",
     "text": [
      "Warning message in forecasts[i] <- round(fc$mean):\n",
      "“liczba pozycji do zastąpienia nie jest wielokrotnością długości zamiany”"
     ]
    },
    {
     "name": "stdout",
     "output_type": "stream",
     "text": [
      "[1] 314\n"
     ]
    },
    {
     "name": "stderr",
     "output_type": "stream",
     "text": [
      "Warning message in forecasts[i] <- round(fc$mean):\n",
      "“liczba pozycji do zastąpienia nie jest wielokrotnością długości zamiany”"
     ]
    },
    {
     "name": "stdout",
     "output_type": "stream",
     "text": [
      "[1] 318\n"
     ]
    },
    {
     "name": "stderr",
     "output_type": "stream",
     "text": [
      "Warning message in forecasts[i] <- round(fc$mean):\n",
      "“liczba pozycji do zastąpienia nie jest wielokrotnością długości zamiany”"
     ]
    },
    {
     "name": "stdout",
     "output_type": "stream",
     "text": [
      "[1] 321\n"
     ]
    },
    {
     "name": "stderr",
     "output_type": "stream",
     "text": [
      "Warning message in forecasts[i] <- round(fc$mean):\n",
      "“liczba pozycji do zastąpienia nie jest wielokrotnością długości zamiany”"
     ]
    },
    {
     "name": "stdout",
     "output_type": "stream",
     "text": [
      "[1] 326\n"
     ]
    },
    {
     "name": "stderr",
     "output_type": "stream",
     "text": [
      "Warning message in forecasts[i] <- round(fc$mean):\n",
      "“liczba pozycji do zastąpienia nie jest wielokrotnością długości zamiany”"
     ]
    },
    {
     "name": "stdout",
     "output_type": "stream",
     "text": [
      "[1] 333\n"
     ]
    },
    {
     "name": "stderr",
     "output_type": "stream",
     "text": [
      "Warning message in forecasts[i] <- round(fc$mean):\n",
      "“liczba pozycji do zastąpienia nie jest wielokrotnością długości zamiany”"
     ]
    },
    {
     "name": "stdout",
     "output_type": "stream",
     "text": [
      "[1] 337\n"
     ]
    },
    {
     "name": "stderr",
     "output_type": "stream",
     "text": [
      "Warning message in forecasts[i] <- round(fc$mean):\n",
      "“liczba pozycji do zastąpienia nie jest wielokrotnością długości zamiany”"
     ]
    },
    {
     "name": "stdout",
     "output_type": "stream",
     "text": [
      "[1] 340\n"
     ]
    },
    {
     "name": "stderr",
     "output_type": "stream",
     "text": [
      "Warning message in forecasts[i] <- round(fc$mean):\n",
      "“liczba pozycji do zastąpienia nie jest wielokrotnością długości zamiany”"
     ]
    },
    {
     "name": "stdout",
     "output_type": "stream",
     "text": [
      "[1] 342\n"
     ]
    },
    {
     "name": "stderr",
     "output_type": "stream",
     "text": [
      "Warning message in forecasts[i] <- round(fc$mean):\n",
      "“liczba pozycji do zastąpienia nie jest wielokrotnością długości zamiany”"
     ]
    },
    {
     "name": "stdout",
     "output_type": "stream",
     "text": [
      "[1] 348\n"
     ]
    },
    {
     "name": "stderr",
     "output_type": "stream",
     "text": [
      "Warning message in forecasts[i] <- round(fc$mean):\n",
      "“liczba pozycji do zastąpienia nie jest wielokrotnością długości zamiany”"
     ]
    },
    {
     "name": "stdout",
     "output_type": "stream",
     "text": [
      "[1] 353\n"
     ]
    },
    {
     "name": "stderr",
     "output_type": "stream",
     "text": [
      "Warning message in forecasts[i] <- round(fc$mean):\n",
      "“liczba pozycji do zastąpienia nie jest wielokrotnością długości zamiany”"
     ]
    },
    {
     "name": "stdout",
     "output_type": "stream",
     "text": [
      "[1] 356\n"
     ]
    },
    {
     "name": "stderr",
     "output_type": "stream",
     "text": [
      "Warning message in forecasts[i] <- round(fc$mean):\n",
      "“liczba pozycji do zastąpienia nie jest wielokrotnością długości zamiany”"
     ]
    },
    {
     "name": "stdout",
     "output_type": "stream",
     "text": [
      "[1] 362\n"
     ]
    },
    {
     "name": "stderr",
     "output_type": "stream",
     "text": [
      "Warning message in forecasts[i] <- round(fc$mean):\n",
      "“liczba pozycji do zastąpienia nie jest wielokrotnością długości zamiany”"
     ]
    },
    {
     "name": "stdout",
     "output_type": "stream",
     "text": [
      "[1] 365\n"
     ]
    },
    {
     "name": "stderr",
     "output_type": "stream",
     "text": [
      "Warning message in forecasts[i] <- round(fc$mean):\n",
      "“liczba pozycji do zastąpienia nie jest wielokrotnością długości zamiany”"
     ]
    },
    {
     "name": "stdout",
     "output_type": "stream",
     "text": [
      "[1] 371\n"
     ]
    },
    {
     "name": "stderr",
     "output_type": "stream",
     "text": [
      "Warning message in forecasts[i] <- round(fc$mean):\n",
      "“liczba pozycji do zastąpienia nie jest wielokrotnością długości zamiany”"
     ]
    },
    {
     "name": "stdout",
     "output_type": "stream",
     "text": [
      "[1] 373\n"
     ]
    },
    {
     "name": "stderr",
     "output_type": "stream",
     "text": [
      "Warning message in forecasts[i] <- round(fc$mean):\n",
      "“liczba pozycji do zastąpienia nie jest wielokrotnością długości zamiany”"
     ]
    },
    {
     "name": "stdout",
     "output_type": "stream",
     "text": [
      "[1] 380\n"
     ]
    },
    {
     "name": "stderr",
     "output_type": "stream",
     "text": [
      "Warning message in forecasts[i] <- round(fc$mean):\n",
      "“liczba pozycji do zastąpienia nie jest wielokrotnością długości zamiany”"
     ]
    },
    {
     "name": "stdout",
     "output_type": "stream",
     "text": [
      "[1] 384\n"
     ]
    },
    {
     "name": "stderr",
     "output_type": "stream",
     "text": [
      "Warning message in forecasts[i] <- round(fc$mean):\n",
      "“liczba pozycji do zastąpienia nie jest wielokrotnością długości zamiany”"
     ]
    },
    {
     "name": "stdout",
     "output_type": "stream",
     "text": [
      "[1] 387\n"
     ]
    },
    {
     "name": "stderr",
     "output_type": "stream",
     "text": [
      "Warning message in forecasts[i] <- round(fc$mean):\n",
      "“liczba pozycji do zastąpienia nie jest wielokrotnością długości zamiany”"
     ]
    },
    {
     "name": "stdout",
     "output_type": "stream",
     "text": [
      "[1] 394\n"
     ]
    },
    {
     "name": "stderr",
     "output_type": "stream",
     "text": [
      "Warning message in forecasts[i] <- round(fc$mean):\n",
      "“liczba pozycji do zastąpienia nie jest wielokrotnością długości zamiany”"
     ]
    },
    {
     "name": "stdout",
     "output_type": "stream",
     "text": [
      "[1] 398\n"
     ]
    },
    {
     "name": "stderr",
     "output_type": "stream",
     "text": [
      "Warning message in forecasts[i] <- round(fc$mean):\n",
      "“liczba pozycji do zastąpienia nie jest wielokrotnością długości zamiany”"
     ]
    },
    {
     "name": "stdout",
     "output_type": "stream",
     "text": [
      "[1] 401\n"
     ]
    },
    {
     "name": "stderr",
     "output_type": "stream",
     "text": [
      "Warning message in forecasts[i] <- round(fc$mean):\n",
      "“liczba pozycji do zastąpienia nie jest wielokrotnością długości zamiany”"
     ]
    },
    {
     "name": "stdout",
     "output_type": "stream",
     "text": [
      "[1] 406\n"
     ]
    },
    {
     "name": "stderr",
     "output_type": "stream",
     "text": [
      "Warning message in forecasts[i] <- round(fc$mean):\n",
      "“liczba pozycji do zastąpienia nie jest wielokrotnością długości zamiany”"
     ]
    },
    {
     "name": "stdout",
     "output_type": "stream",
     "text": [
      "[1] 408\n"
     ]
    },
    {
     "name": "stderr",
     "output_type": "stream",
     "text": [
      "Warning message in forecasts[i] <- round(fc$mean):\n",
      "“liczba pozycji do zastąpienia nie jest wielokrotnością długości zamiany”"
     ]
    },
    {
     "name": "stdout",
     "output_type": "stream",
     "text": [
      "[1] 414\n"
     ]
    },
    {
     "name": "stderr",
     "output_type": "stream",
     "text": [
      "Warning message in forecasts[i] <- round(fc$mean):\n",
      "“liczba pozycji do zastąpienia nie jest wielokrotnością długości zamiany”"
     ]
    },
    {
     "name": "stdout",
     "output_type": "stream",
     "text": [
      "[1] 418\n"
     ]
    },
    {
     "name": "stderr",
     "output_type": "stream",
     "text": [
      "Warning message in forecasts[i] <- round(fc$mean):\n",
      "“liczba pozycji do zastąpienia nie jest wielokrotnością długości zamiany”"
     ]
    },
    {
     "name": "stdout",
     "output_type": "stream",
     "text": [
      "[1] 422\n"
     ]
    },
    {
     "name": "stderr",
     "output_type": "stream",
     "text": [
      "Warning message in forecasts[i] <- round(fc$mean):\n",
      "“liczba pozycji do zastąpienia nie jest wielokrotnością długości zamiany”"
     ]
    },
    {
     "name": "stdout",
     "output_type": "stream",
     "text": [
      "[1] 425\n"
     ]
    },
    {
     "name": "stderr",
     "output_type": "stream",
     "text": [
      "Warning message in forecasts[i] <- round(fc$mean):\n",
      "“liczba pozycji do zastąpienia nie jest wielokrotnością długości zamiany”"
     ]
    },
    {
     "name": "stdout",
     "output_type": "stream",
     "text": [
      "[1] 433\n"
     ]
    },
    {
     "name": "stderr",
     "output_type": "stream",
     "text": [
      "Warning message in forecasts[i] <- round(fc$mean):\n",
      "“liczba pozycji do zastąpienia nie jest wielokrotnością długości zamiany”"
     ]
    },
    {
     "name": "stdout",
     "output_type": "stream",
     "text": [
      "[1] 435\n"
     ]
    },
    {
     "name": "stderr",
     "output_type": "stream",
     "text": [
      "Warning message in forecasts[i] <- round(fc$mean):\n",
      "“liczba pozycji do zastąpienia nie jest wielokrotnością długości zamiany”"
     ]
    },
    {
     "name": "stdout",
     "output_type": "stream",
     "text": [
      "[1] 440\n"
     ]
    },
    {
     "name": "stderr",
     "output_type": "stream",
     "text": [
      "Warning message in forecasts[i] <- round(fc$mean):\n",
      "“liczba pozycji do zastąpienia nie jest wielokrotnością długości zamiany”"
     ]
    },
    {
     "name": "stdout",
     "output_type": "stream",
     "text": [
      "[1] 442\n"
     ]
    },
    {
     "name": "stderr",
     "output_type": "stream",
     "text": [
      "Warning message in forecasts[i] <- round(fc$mean):\n",
      "“liczba pozycji do zastąpienia nie jest wielokrotnością długości zamiany”"
     ]
    },
    {
     "name": "stdout",
     "output_type": "stream",
     "text": [
      "[1] 448\n"
     ]
    },
    {
     "name": "stderr",
     "output_type": "stream",
     "text": [
      "Warning message in forecasts[i] <- round(fc$mean):\n",
      "“liczba pozycji do zastąpienia nie jest wielokrotnością długości zamiany”"
     ]
    },
    {
     "name": "stdout",
     "output_type": "stream",
     "text": [
      "[1] 451\n"
     ]
    },
    {
     "name": "stderr",
     "output_type": "stream",
     "text": [
      "Warning message in forecasts[i] <- round(fc$mean):\n",
      "“liczba pozycji do zastąpienia nie jest wielokrotnością długości zamiany”"
     ]
    },
    {
     "name": "stdout",
     "output_type": "stream",
     "text": [
      "[1] 455\n"
     ]
    },
    {
     "name": "stderr",
     "output_type": "stream",
     "text": [
      "Warning message in forecasts[i] <- round(fc$mean):\n",
      "“liczba pozycji do zastąpienia nie jest wielokrotnością długości zamiany”"
     ]
    },
    {
     "name": "stdout",
     "output_type": "stream",
     "text": [
      "[1] 463\n"
     ]
    },
    {
     "name": "stderr",
     "output_type": "stream",
     "text": [
      "Warning message in forecasts[i] <- round(fc$mean):\n",
      "“liczba pozycji do zastąpienia nie jest wielokrotnością długości zamiany”"
     ]
    },
    {
     "name": "stdout",
     "output_type": "stream",
     "text": [
      "[1] 465\n"
     ]
    },
    {
     "name": "stderr",
     "output_type": "stream",
     "text": [
      "Warning message in forecasts[i] <- round(fc$mean):\n",
      "“liczba pozycji do zastąpienia nie jest wielokrotnością długości zamiany”"
     ]
    },
    {
     "name": "stdout",
     "output_type": "stream",
     "text": [
      "[1] 470\n"
     ]
    },
    {
     "name": "stderr",
     "output_type": "stream",
     "text": [
      "Warning message in forecasts[i] <- round(fc$mean):\n",
      "“liczba pozycji do zastąpienia nie jest wielokrotnością długości zamiany”"
     ]
    },
    {
     "name": "stdout",
     "output_type": "stream",
     "text": [
      "[1] 476\n"
     ]
    },
    {
     "name": "stderr",
     "output_type": "stream",
     "text": [
      "Warning message in forecasts[i] <- round(fc$mean):\n",
      "“liczba pozycji do zastąpienia nie jest wielokrotnością długości zamiany”"
     ]
    },
    {
     "name": "stdout",
     "output_type": "stream",
     "text": [
      "[1] 477\n"
     ]
    },
    {
     "name": "stderr",
     "output_type": "stream",
     "text": [
      "Warning message in forecasts[i] <- round(fc$mean):\n",
      "“liczba pozycji do zastąpienia nie jest wielokrotnością długości zamiany”"
     ]
    },
    {
     "name": "stdout",
     "output_type": "stream",
     "text": [
      "[1] 482\n"
     ]
    },
    {
     "name": "stderr",
     "output_type": "stream",
     "text": [
      "Warning message in forecasts[i] <- round(fc$mean):\n",
      "“liczba pozycji do zastąpienia nie jest wielokrotnością długości zamiany”"
     ]
    },
    {
     "name": "stdout",
     "output_type": "stream",
     "text": [
      "[1] 488\n"
     ]
    },
    {
     "name": "stderr",
     "output_type": "stream",
     "text": [
      "Warning message in forecasts[i] <- round(fc$mean):\n",
      "“liczba pozycji do zastąpienia nie jest wielokrotnością długości zamiany”"
     ]
    },
    {
     "name": "stdout",
     "output_type": "stream",
     "text": [
      "[1] 492\n"
     ]
    },
    {
     "name": "stderr",
     "output_type": "stream",
     "text": [
      "Warning message in forecasts[i] <- round(fc$mean):\n",
      "“liczba pozycji do zastąpienia nie jest wielokrotnością długości zamiany”"
     ]
    },
    {
     "name": "stdout",
     "output_type": "stream",
     "text": [
      "[1] 495\n"
     ]
    },
    {
     "name": "stderr",
     "output_type": "stream",
     "text": [
      "Warning message in forecasts[i] <- round(fc$mean):\n",
      "“liczba pozycji do zastąpienia nie jest wielokrotnością długości zamiany”"
     ]
    },
    {
     "name": "stdout",
     "output_type": "stream",
     "text": [
      "[1] 501\n"
     ]
    },
    {
     "name": "stderr",
     "output_type": "stream",
     "text": [
      "Warning message in forecasts[i] <- round(fc$mean):\n",
      "“liczba pozycji do zastąpienia nie jest wielokrotnością długości zamiany”"
     ]
    },
    {
     "name": "stdout",
     "output_type": "stream",
     "text": [
      "[1] 505\n"
     ]
    },
    {
     "name": "stderr",
     "output_type": "stream",
     "text": [
      "Warning message in forecasts[i] <- round(fc$mean):\n",
      "“liczba pozycji do zastąpienia nie jest wielokrotnością długości zamiany”"
     ]
    },
    {
     "name": "stdout",
     "output_type": "stream",
     "text": [
      "[1] 509\n"
     ]
    },
    {
     "name": "stderr",
     "output_type": "stream",
     "text": [
      "Warning message in forecasts[i] <- round(fc$mean):\n",
      "“liczba pozycji do zastąpienia nie jest wielokrotnością długości zamiany”"
     ]
    },
    {
     "name": "stdout",
     "output_type": "stream",
     "text": [
      "[1] 515\n"
     ]
    },
    {
     "name": "stderr",
     "output_type": "stream",
     "text": [
      "Warning message in forecasts[i] <- round(fc$mean):\n",
      "“liczba pozycji do zastąpienia nie jest wielokrotnością długości zamiany”"
     ]
    },
    {
     "name": "stdout",
     "output_type": "stream",
     "text": [
      "[1] 517\n"
     ]
    },
    {
     "name": "stderr",
     "output_type": "stream",
     "text": [
      "Warning message in forecasts[i] <- round(fc$mean):\n",
      "“liczba pozycji do zastąpienia nie jest wielokrotnością długości zamiany”"
     ]
    },
    {
     "name": "stdout",
     "output_type": "stream",
     "text": [
      "[1] 523\n"
     ]
    },
    {
     "name": "stderr",
     "output_type": "stream",
     "text": [
      "Warning message in forecasts[i] <- round(fc$mean):\n",
      "“liczba pozycji do zastąpienia nie jest wielokrotnością długości zamiany”"
     ]
    },
    {
     "name": "stdout",
     "output_type": "stream",
     "text": [
      "[1] 527\n"
     ]
    },
    {
     "name": "stderr",
     "output_type": "stream",
     "text": [
      "Warning message in forecasts[i] <- round(fc$mean):\n",
      "“liczba pozycji do zastąpienia nie jest wielokrotnością długości zamiany”"
     ]
    },
    {
     "name": "stdout",
     "output_type": "stream",
     "text": [
      "[1] 533\n"
     ]
    },
    {
     "name": "stderr",
     "output_type": "stream",
     "text": [
      "Warning message in forecasts[i] <- round(fc$mean):\n",
      "“liczba pozycji do zastąpienia nie jest wielokrotnością długości zamiany”"
     ]
    },
    {
     "name": "stdout",
     "output_type": "stream",
     "text": [
      "[1] 535\n"
     ]
    },
    {
     "name": "stderr",
     "output_type": "stream",
     "text": [
      "Warning message in forecasts[i] <- round(fc$mean):\n",
      "“liczba pozycji do zastąpienia nie jest wielokrotnością długości zamiany”"
     ]
    },
    {
     "name": "stdout",
     "output_type": "stream",
     "text": [
      "[1] 540\n"
     ]
    },
    {
     "name": "stderr",
     "output_type": "stream",
     "text": [
      "Warning message in forecasts[i] <- round(fc$mean):\n",
      "“liczba pozycji do zastąpienia nie jest wielokrotnością długości zamiany”"
     ]
    },
    {
     "name": "stdout",
     "output_type": "stream",
     "text": [
      "[1] 543\n"
     ]
    },
    {
     "name": "stderr",
     "output_type": "stream",
     "text": [
      "Warning message in forecasts[i] <- round(fc$mean):\n",
      "“liczba pozycji do zastąpienia nie jest wielokrotnością długości zamiany”"
     ]
    },
    {
     "name": "stdout",
     "output_type": "stream",
     "text": [
      "[1] 547\n"
     ]
    },
    {
     "name": "stderr",
     "output_type": "stream",
     "text": [
      "Warning message in forecasts[i] <- round(fc$mean):\n",
      "“liczba pozycji do zastąpienia nie jest wielokrotnością długości zamiany”"
     ]
    },
    {
     "name": "stdout",
     "output_type": "stream",
     "text": [
      "[1] 554\n"
     ]
    },
    {
     "name": "stderr",
     "output_type": "stream",
     "text": [
      "Warning message in forecasts[i] <- round(fc$mean):\n",
      "“liczba pozycji do zastąpienia nie jest wielokrotnością długości zamiany”"
     ]
    },
    {
     "name": "stdout",
     "output_type": "stream",
     "text": [
      "[1] 557\n"
     ]
    },
    {
     "name": "stderr",
     "output_type": "stream",
     "text": [
      "Warning message in forecasts[i] <- round(fc$mean):\n",
      "“liczba pozycji do zastąpienia nie jest wielokrotnością długości zamiany”"
     ]
    },
    {
     "name": "stdout",
     "output_type": "stream",
     "text": [
      "[1] 561\n"
     ]
    },
    {
     "name": "stderr",
     "output_type": "stream",
     "text": [
      "Warning message in forecasts[i] <- round(fc$mean):\n",
      "“liczba pozycji do zastąpienia nie jest wielokrotnością długości zamiany”"
     ]
    },
    {
     "name": "stdout",
     "output_type": "stream",
     "text": [
      "[1] 564\n"
     ]
    },
    {
     "name": "stderr",
     "output_type": "stream",
     "text": [
      "Warning message in forecasts[i] <- round(fc$mean):\n",
      "“liczba pozycji do zastąpienia nie jest wielokrotnością długości zamiany”"
     ]
    },
    {
     "name": "stdout",
     "output_type": "stream",
     "text": [
      "[1] 572\n"
     ]
    },
    {
     "name": "stderr",
     "output_type": "stream",
     "text": [
      "Warning message in forecasts[i] <- round(fc$mean):\n",
      "“liczba pozycji do zastąpienia nie jest wielokrotnością długości zamiany”"
     ]
    },
    {
     "name": "stdout",
     "output_type": "stream",
     "text": [
      "[1] 573\n"
     ]
    },
    {
     "name": "stderr",
     "output_type": "stream",
     "text": [
      "Warning message in forecasts[i] <- round(fc$mean):\n",
      "“liczba pozycji do zastąpienia nie jest wielokrotnością długości zamiany”"
     ]
    },
    {
     "name": "stdout",
     "output_type": "stream",
     "text": [
      "[1] 578\n"
     ]
    },
    {
     "name": "stderr",
     "output_type": "stream",
     "text": [
      "Warning message in forecasts[i] <- round(fc$mean):\n",
      "“liczba pozycji do zastąpienia nie jest wielokrotnością długości zamiany”"
     ]
    },
    {
     "name": "stdout",
     "output_type": "stream",
     "text": [
      "[1] 584\n"
     ]
    },
    {
     "name": "stderr",
     "output_type": "stream",
     "text": [
      "Warning message in forecasts[i] <- round(fc$mean):\n",
      "“liczba pozycji do zastąpienia nie jest wielokrotnością długości zamiany”"
     ]
    },
    {
     "name": "stdout",
     "output_type": "stream",
     "text": [
      "[1] 587\n"
     ]
    },
    {
     "name": "stderr",
     "output_type": "stream",
     "text": [
      "Warning message in forecasts[i] <- round(fc$mean):\n",
      "“liczba pozycji do zastąpienia nie jest wielokrotnością długości zamiany”"
     ]
    },
    {
     "name": "stdout",
     "output_type": "stream",
     "text": [
      "[1] 594\n"
     ]
    },
    {
     "name": "stderr",
     "output_type": "stream",
     "text": [
      "Warning message in forecasts[i] <- round(fc$mean):\n",
      "“liczba pozycji do zastąpienia nie jest wielokrotnością długości zamiany”"
     ]
    },
    {
     "name": "stdout",
     "output_type": "stream",
     "text": [
      "[1] 598\n"
     ]
    },
    {
     "name": "stderr",
     "output_type": "stream",
     "text": [
      "Warning message in forecasts[i] <- round(fc$mean):\n",
      "“liczba pozycji do zastąpienia nie jest wielokrotnością długości zamiany”"
     ]
    },
    {
     "name": "stdout",
     "output_type": "stream",
     "text": [
      "[1] 600\n"
     ]
    },
    {
     "name": "stderr",
     "output_type": "stream",
     "text": [
      "Warning message in forecasts[i] <- round(fc$mean):\n",
      "“liczba pozycji do zastąpienia nie jest wielokrotnością długości zamiany”"
     ]
    },
    {
     "name": "stdout",
     "output_type": "stream",
     "text": [
      "[1] 606\n"
     ]
    },
    {
     "name": "stderr",
     "output_type": "stream",
     "text": [
      "Warning message in forecasts[i] <- round(fc$mean):\n",
      "“liczba pozycji do zastąpienia nie jest wielokrotnością długości zamiany”"
     ]
    },
    {
     "name": "stdout",
     "output_type": "stream",
     "text": [
      "[1] 608\n"
     ]
    },
    {
     "name": "stderr",
     "output_type": "stream",
     "text": [
      "Warning message in forecasts[i] <- round(fc$mean):\n",
      "“liczba pozycji do zastąpienia nie jest wielokrotnością długości zamiany”"
     ]
    },
    {
     "name": "stdout",
     "output_type": "stream",
     "text": [
      "[1] 613\n"
     ]
    },
    {
     "name": "stderr",
     "output_type": "stream",
     "text": [
      "Warning message in forecasts[i] <- round(fc$mean):\n",
      "“liczba pozycji do zastąpienia nie jest wielokrotnością długości zamiany”"
     ]
    },
    {
     "name": "stdout",
     "output_type": "stream",
     "text": [
      "[1] 617\n"
     ]
    },
    {
     "name": "stderr",
     "output_type": "stream",
     "text": [
      "Warning message in forecasts[i] <- round(fc$mean):\n",
      "“liczba pozycji do zastąpienia nie jest wielokrotnością długości zamiany”"
     ]
    },
    {
     "name": "stdout",
     "output_type": "stream",
     "text": [
      "[1] 624\n"
     ]
    },
    {
     "name": "stderr",
     "output_type": "stream",
     "text": [
      "Warning message in forecasts[i] <- round(fc$mean):\n",
      "“liczba pozycji do zastąpienia nie jest wielokrotnością długości zamiany”"
     ]
    },
    {
     "name": "stdout",
     "output_type": "stream",
     "text": [
      "[1] 626\n"
     ]
    },
    {
     "name": "stderr",
     "output_type": "stream",
     "text": [
      "Warning message in forecasts[i] <- round(fc$mean):\n",
      "“liczba pozycji do zastąpienia nie jest wielokrotnością długości zamiany”"
     ]
    },
    {
     "name": "stdout",
     "output_type": "stream",
     "text": [
      "[1] 630\n"
     ]
    },
    {
     "name": "stderr",
     "output_type": "stream",
     "text": [
      "Warning message in forecasts[i] <- round(fc$mean):\n",
      "“liczba pozycji do zastąpienia nie jest wielokrotnością długości zamiany”"
     ]
    },
    {
     "name": "stdout",
     "output_type": "stream",
     "text": [
      "[1] 635\n"
     ]
    },
    {
     "name": "stderr",
     "output_type": "stream",
     "text": [
      "Warning message in forecasts[i] <- round(fc$mean):\n",
      "“liczba pozycji do zastąpienia nie jest wielokrotnością długości zamiany”"
     ]
    },
    {
     "name": "stdout",
     "output_type": "stream",
     "text": [
      "[1] 639\n"
     ]
    },
    {
     "name": "stderr",
     "output_type": "stream",
     "text": [
      "Warning message in forecasts[i] <- round(fc$mean):\n",
      "“liczba pozycji do zastąpienia nie jest wielokrotnością długości zamiany”"
     ]
    },
    {
     "name": "stdout",
     "output_type": "stream",
     "text": [
      "[1] 645\n"
     ]
    },
    {
     "name": "stderr",
     "output_type": "stream",
     "text": [
      "Warning message in forecasts[i] <- round(fc$mean):\n",
      "“liczba pozycji do zastąpienia nie jest wielokrotnością długości zamiany”"
     ]
    },
    {
     "name": "stdout",
     "output_type": "stream",
     "text": [
      "[1] 650\n"
     ]
    },
    {
     "name": "stderr",
     "output_type": "stream",
     "text": [
      "Warning message in forecasts[i] <- round(fc$mean):\n",
      "“liczba pozycji do zastąpienia nie jest wielokrotnością długości zamiany”"
     ]
    },
    {
     "name": "stdout",
     "output_type": "stream",
     "text": [
      "[1] 653\n"
     ]
    },
    {
     "name": "stderr",
     "output_type": "stream",
     "text": [
      "Warning message in forecasts[i] <- round(fc$mean):\n",
      "“liczba pozycji do zastąpienia nie jest wielokrotnością długości zamiany”"
     ]
    },
    {
     "name": "stdout",
     "output_type": "stream",
     "text": [
      "[1] 658\n"
     ]
    },
    {
     "name": "stderr",
     "output_type": "stream",
     "text": [
      "Warning message in forecasts[i] <- round(fc$mean):\n",
      "“liczba pozycji do zastąpienia nie jest wielokrotnością długości zamiany”"
     ]
    },
    {
     "name": "stdout",
     "output_type": "stream",
     "text": [
      "[1] 663\n"
     ]
    },
    {
     "name": "stderr",
     "output_type": "stream",
     "text": [
      "Warning message in forecasts[i] <- round(fc$mean):\n",
      "“liczba pozycji do zastąpienia nie jest wielokrotnością długości zamiany”"
     ]
    },
    {
     "name": "stdout",
     "output_type": "stream",
     "text": [
      "[1] 665\n"
     ]
    },
    {
     "name": "stderr",
     "output_type": "stream",
     "text": [
      "Warning message in forecasts[i] <- round(fc$mean):\n",
      "“liczba pozycji do zastąpienia nie jest wielokrotnością długości zamiany”"
     ]
    },
    {
     "name": "stdout",
     "output_type": "stream",
     "text": [
      "[1] 669\n"
     ]
    },
    {
     "name": "stderr",
     "output_type": "stream",
     "text": [
      "Warning message in forecasts[i] <- round(fc$mean):\n",
      "“liczba pozycji do zastąpienia nie jest wielokrotnością długości zamiany”"
     ]
    },
    {
     "name": "stdout",
     "output_type": "stream",
     "text": [
      "[1] 676\n"
     ]
    },
    {
     "name": "stderr",
     "output_type": "stream",
     "text": [
      "Warning message in forecasts[i] <- round(fc$mean):\n",
      "“liczba pozycji do zastąpienia nie jest wielokrotnością długości zamiany”"
     ]
    },
    {
     "name": "stdout",
     "output_type": "stream",
     "text": [
      "[1] 679\n"
     ]
    },
    {
     "name": "stderr",
     "output_type": "stream",
     "text": [
      "Warning message in forecasts[i] <- round(fc$mean):\n",
      "“liczba pozycji do zastąpienia nie jest wielokrotnością długości zamiany”"
     ]
    },
    {
     "name": "stdout",
     "output_type": "stream",
     "text": [
      "[1] 683\n"
     ]
    },
    {
     "name": "stderr",
     "output_type": "stream",
     "text": [
      "Warning message in forecasts[i] <- round(fc$mean):\n",
      "“liczba pozycji do zastąpienia nie jest wielokrotnością długości zamiany”"
     ]
    },
    {
     "name": "stdout",
     "output_type": "stream",
     "text": [
      "[1] 687\n"
     ]
    },
    {
     "name": "stderr",
     "output_type": "stream",
     "text": [
      "Warning message in forecasts[i] <- round(fc$mean):\n",
      "“liczba pozycji do zastąpienia nie jest wielokrotnością długości zamiany”"
     ]
    },
    {
     "name": "stdout",
     "output_type": "stream",
     "text": [
      "[1] 693\n"
     ]
    },
    {
     "name": "stderr",
     "output_type": "stream",
     "text": [
      "Warning message in forecasts[i] <- round(fc$mean):\n",
      "“liczba pozycji do zastąpienia nie jest wielokrotnością długości zamiany”"
     ]
    },
    {
     "name": "stdout",
     "output_type": "stream",
     "text": [
      "[1] 695\n"
     ]
    },
    {
     "name": "stderr",
     "output_type": "stream",
     "text": [
      "Warning message in forecasts[i] <- round(fc$mean):\n",
      "“liczba pozycji do zastąpienia nie jest wielokrotnością długości zamiany”"
     ]
    },
    {
     "name": "stdout",
     "output_type": "stream",
     "text": [
      "[1] 699\n"
     ]
    },
    {
     "name": "stderr",
     "output_type": "stream",
     "text": [
      "Warning message in forecasts[i] <- round(fc$mean):\n",
      "“liczba pozycji do zastąpienia nie jest wielokrotnością długości zamiany”"
     ]
    },
    {
     "name": "stdout",
     "output_type": "stream",
     "text": [
      "[1] 704\n"
     ]
    },
    {
     "name": "stderr",
     "output_type": "stream",
     "text": [
      "Warning message in forecasts[i] <- round(fc$mean):\n",
      "“liczba pozycji do zastąpienia nie jest wielokrotnością długości zamiany”"
     ]
    },
    {
     "name": "stdout",
     "output_type": "stream",
     "text": [
      "[1] 710\n"
     ]
    },
    {
     "name": "stderr",
     "output_type": "stream",
     "text": [
      "Warning message in forecasts[i] <- round(fc$mean):\n",
      "“liczba pozycji do zastąpienia nie jest wielokrotnością długości zamiany”"
     ]
    },
    {
     "name": "stdout",
     "output_type": "stream",
     "text": [
      "[1] 713\n"
     ]
    },
    {
     "name": "stderr",
     "output_type": "stream",
     "text": [
      "Warning message in forecasts[i] <- round(fc$mean):\n",
      "“liczba pozycji do zastąpienia nie jest wielokrotnością długości zamiany”"
     ]
    },
    {
     "name": "stdout",
     "output_type": "stream",
     "text": [
      "[1] 719\n"
     ]
    },
    {
     "name": "stderr",
     "output_type": "stream",
     "text": [
      "Warning message in forecasts[i] <- round(fc$mean):\n",
      "“liczba pozycji do zastąpienia nie jest wielokrotnością długości zamiany”"
     ]
    },
    {
     "name": "stdout",
     "output_type": "stream",
     "text": [
      "[1] 723\n"
     ]
    },
    {
     "name": "stderr",
     "output_type": "stream",
     "text": [
      "Warning message in forecasts[i] <- round(fc$mean):\n",
      "“liczba pozycji do zastąpienia nie jest wielokrotnością długości zamiany”"
     ]
    },
    {
     "name": "stdout",
     "output_type": "stream",
     "text": [
      "[1] 725\n"
     ]
    },
    {
     "name": "stderr",
     "output_type": "stream",
     "text": [
      "Warning message in forecasts[i] <- round(fc$mean):\n",
      "“liczba pozycji do zastąpienia nie jest wielokrotnością długości zamiany”"
     ]
    },
    {
     "name": "stdout",
     "output_type": "stream",
     "text": [
      "[1] 732\n"
     ]
    },
    {
     "name": "stderr",
     "output_type": "stream",
     "text": [
      "Warning message in forecasts[i] <- round(fc$mean):\n",
      "“liczba pozycji do zastąpienia nie jest wielokrotnością długości zamiany”"
     ]
    },
    {
     "name": "stdout",
     "output_type": "stream",
     "text": [
      "[1] 735\n"
     ]
    },
    {
     "name": "stderr",
     "output_type": "stream",
     "text": [
      "Warning message in forecasts[i] <- round(fc$mean):\n",
      "“liczba pozycji do zastąpienia nie jest wielokrotnością długości zamiany”"
     ]
    },
    {
     "name": "stdout",
     "output_type": "stream",
     "text": [
      "[1] 738\n"
     ]
    },
    {
     "name": "stderr",
     "output_type": "stream",
     "text": [
      "Warning message in forecasts[i] <- round(fc$mean):\n",
      "“liczba pozycji do zastąpienia nie jest wielokrotnością długości zamiany”"
     ]
    },
    {
     "name": "stdout",
     "output_type": "stream",
     "text": [
      "[1] 743\n"
     ]
    },
    {
     "name": "stderr",
     "output_type": "stream",
     "text": [
      "Warning message in forecasts[i] <- round(fc$mean):\n",
      "“liczba pozycji do zastąpienia nie jest wielokrotnością długości zamiany”"
     ]
    },
    {
     "name": "stdout",
     "output_type": "stream",
     "text": [
      "[1] 749\n"
     ]
    },
    {
     "name": "stderr",
     "output_type": "stream",
     "text": [
      "Warning message in forecasts[i] <- round(fc$mean):\n",
      "“liczba pozycji do zastąpienia nie jest wielokrotnością długości zamiany”"
     ]
    },
    {
     "name": "stdout",
     "output_type": "stream",
     "text": [
      "[1] 752\n"
     ]
    },
    {
     "name": "stderr",
     "output_type": "stream",
     "text": [
      "Warning message in forecasts[i] <- round(fc$mean):\n",
      "“liczba pozycji do zastąpienia nie jest wielokrotnością długości zamiany”"
     ]
    },
    {
     "name": "stdout",
     "output_type": "stream",
     "text": [
      "[1] 758\n"
     ]
    },
    {
     "name": "stderr",
     "output_type": "stream",
     "text": [
      "Warning message in forecasts[i] <- round(fc$mean):\n",
      "“liczba pozycji do zastąpienia nie jest wielokrotnością długości zamiany”"
     ]
    },
    {
     "name": "stdout",
     "output_type": "stream",
     "text": [
      "[1] 763\n"
     ]
    },
    {
     "name": "stderr",
     "output_type": "stream",
     "text": [
      "Warning message in forecasts[i] <- round(fc$mean):\n",
      "“liczba pozycji do zastąpienia nie jest wielokrotnością długości zamiany”"
     ]
    },
    {
     "name": "stdout",
     "output_type": "stream",
     "text": [
      "[1] 765\n"
     ]
    },
    {
     "name": "stderr",
     "output_type": "stream",
     "text": [
      "Warning message in forecasts[i] <- round(fc$mean):\n",
      "“liczba pozycji do zastąpienia nie jest wielokrotnością długości zamiany”"
     ]
    },
    {
     "name": "stdout",
     "output_type": "stream",
     "text": [
      "[1] 769\n"
     ]
    },
    {
     "name": "stderr",
     "output_type": "stream",
     "text": [
      "Warning message in forecasts[i] <- round(fc$mean):\n",
      "“liczba pozycji do zastąpienia nie jest wielokrotnością długości zamiany”"
     ]
    },
    {
     "name": "stdout",
     "output_type": "stream",
     "text": [
      "[1] 776\n"
     ]
    },
    {
     "name": "stderr",
     "output_type": "stream",
     "text": [
      "Warning message in forecasts[i] <- round(fc$mean):\n",
      "“liczba pozycji do zastąpienia nie jest wielokrotnością długości zamiany”"
     ]
    },
    {
     "name": "stdout",
     "output_type": "stream",
     "text": [
      "[1] 780\n"
     ]
    },
    {
     "name": "stderr",
     "output_type": "stream",
     "text": [
      "Warning message in forecasts[i] <- round(fc$mean):\n",
      "“liczba pozycji do zastąpienia nie jest wielokrotnością długości zamiany”"
     ]
    },
    {
     "name": "stdout",
     "output_type": "stream",
     "text": [
      "[1] 783\n"
     ]
    },
    {
     "name": "stderr",
     "output_type": "stream",
     "text": [
      "Warning message in forecasts[i] <- round(fc$mean):\n",
      "“liczba pozycji do zastąpienia nie jest wielokrotnością długości zamiany”"
     ]
    },
    {
     "name": "stdout",
     "output_type": "stream",
     "text": [
      "[1] 789\n"
     ]
    },
    {
     "name": "stderr",
     "output_type": "stream",
     "text": [
      "Warning message in forecasts[i] <- round(fc$mean):\n",
      "“liczba pozycji do zastąpienia nie jest wielokrotnością długości zamiany”"
     ]
    },
    {
     "name": "stdout",
     "output_type": "stream",
     "text": [
      "[1] 794\n"
     ]
    },
    {
     "name": "stderr",
     "output_type": "stream",
     "text": [
      "Warning message in forecasts[i] <- round(fc$mean):\n",
      "“liczba pozycji do zastąpienia nie jest wielokrotnością długości zamiany”"
     ]
    },
    {
     "name": "stdout",
     "output_type": "stream",
     "text": [
      "[1] 797\n"
     ]
    },
    {
     "name": "stderr",
     "output_type": "stream",
     "text": [
      "Warning message in forecasts[i] <- round(fc$mean):\n",
      "“liczba pozycji do zastąpienia nie jest wielokrotnością długości zamiany”"
     ]
    },
    {
     "name": "stdout",
     "output_type": "stream",
     "text": [
      "[1] 799\n"
     ]
    },
    {
     "name": "stderr",
     "output_type": "stream",
     "text": [
      "Warning message in forecasts[i] <- round(fc$mean):\n",
      "“liczba pozycji do zastąpienia nie jest wielokrotnością długości zamiany”"
     ]
    },
    {
     "name": "stdout",
     "output_type": "stream",
     "text": [
      "[1] 806\n"
     ]
    },
    {
     "name": "stderr",
     "output_type": "stream",
     "text": [
      "Warning message in forecasts[i] <- round(fc$mean):\n",
      "“liczba pozycji do zastąpienia nie jest wielokrotnością długości zamiany”"
     ]
    },
    {
     "name": "stdout",
     "output_type": "stream",
     "text": [
      "[1] 809\n"
     ]
    },
    {
     "name": "stderr",
     "output_type": "stream",
     "text": [
      "Warning message in forecasts[i] <- round(fc$mean):\n",
      "“liczba pozycji do zastąpienia nie jest wielokrotnością długości zamiany”"
     ]
    },
    {
     "name": "stdout",
     "output_type": "stream",
     "text": [
      "[1] 814\n"
     ]
    },
    {
     "name": "stderr",
     "output_type": "stream",
     "text": [
      "Warning message in forecasts[i] <- round(fc$mean):\n",
      "“liczba pozycji do zastąpienia nie jest wielokrotnością długości zamiany”"
     ]
    },
    {
     "name": "stdout",
     "output_type": "stream",
     "text": [
      "[1] 816\n"
     ]
    },
    {
     "name": "stderr",
     "output_type": "stream",
     "text": [
      "Warning message in forecasts[i] <- round(fc$mean):\n",
      "“liczba pozycji do zastąpienia nie jest wielokrotnością długości zamiany”"
     ]
    },
    {
     "name": "stdout",
     "output_type": "stream",
     "text": [
      "[1] 824\n"
     ]
    },
    {
     "name": "stderr",
     "output_type": "stream",
     "text": [
      "Warning message in forecasts[i] <- round(fc$mean):\n",
      "“liczba pozycji do zastąpienia nie jest wielokrotnością długości zamiany”"
     ]
    },
    {
     "name": "stdout",
     "output_type": "stream",
     "text": [
      "[1] 826\n"
     ]
    },
    {
     "name": "stderr",
     "output_type": "stream",
     "text": [
      "Warning message in forecasts[i] <- round(fc$mean):\n",
      "“liczba pozycji do zastąpienia nie jest wielokrotnością długości zamiany”"
     ]
    },
    {
     "name": "stdout",
     "output_type": "stream",
     "text": [
      "[1] 830\n"
     ]
    },
    {
     "name": "stderr",
     "output_type": "stream",
     "text": [
      "Warning message in forecasts[i] <- round(fc$mean):\n",
      "“liczba pozycji do zastąpienia nie jest wielokrotnością długości zamiany”"
     ]
    },
    {
     "name": "stdout",
     "output_type": "stream",
     "text": [
      "[1] 835\n"
     ]
    },
    {
     "name": "stderr",
     "output_type": "stream",
     "text": [
      "Warning message in forecasts[i] <- round(fc$mean):\n",
      "“liczba pozycji do zastąpienia nie jest wielokrotnością długości zamiany”"
     ]
    },
    {
     "name": "stdout",
     "output_type": "stream",
     "text": [
      "[1] 838\n"
     ]
    },
    {
     "name": "stderr",
     "output_type": "stream",
     "text": [
      "Warning message in forecasts[i] <- round(fc$mean):\n",
      "“liczba pozycji do zastąpienia nie jest wielokrotnością długości zamiany”"
     ]
    },
    {
     "name": "stdout",
     "output_type": "stream",
     "text": [
      "[1] 0\n",
      "[1] 3\n",
      "[1] 8\n",
      "[1] 12\n",
      "[1] 20\n",
      "[1] 22\n",
      "[1] 26\n",
      "[1] 31\n",
      "[1] 34\n",
      "[1] 40\n",
      "[1] 44\n",
      "[1] 49\n",
      "[1] 51\n",
      "[1] 55\n",
      "[1] 61\n",
      "[1] 67\n",
      "[1] 68\n",
      "[1] 73\n",
      "[1] 80\n",
      "[1] 82\n",
      "[1] 86\n",
      "[1] 90\n",
      "[1] 97\n",
      "[1] 101\n",
      "[1] 105\n",
      "[1] 110\n",
      "[1] 115\n",
      "[1] 119\n",
      "[1] 123\n",
      "[1] 127\n",
      "[1] 133\n",
      "[1] 136\n",
      "[1] 140\n",
      "[1] 142\n",
      "[1] 150\n",
      "[1] 152\n",
      "[1] 156\n",
      "[1] 161\n",
      "[1] 165\n",
      "[1] 169\n",
      "[1] 174\n",
      "[1] 177\n",
      "[1] 182\n",
      "[1] 187\n",
      "[1] 190\n",
      "[1] 197\n",
      "[1] 201\n",
      "[1] 204\n",
      "[1] 210\n",
      "[1] 215\n",
      "[1] 220\n",
      "[1] 221\n",
      "[1] 225\n",
      "[1] 233\n",
      "[1] 234\n",
      "[1] 238\n",
      "[1] 242\n",
      "[1] 248\n",
      "[1] 252\n",
      "[1] 256\n",
      "[1] 261\n",
      "[1] 265\n",
      "[1] 271\n",
      "[1] 274\n",
      "[1] 277\n",
      "[1] 284\n",
      "[1] 286\n",
      "[1] 292\n",
      "[1] 297\n",
      "[1] 302\n",
      "[1] 305\n",
      "[1] 310\n",
      "[1] 314\n",
      "[1] 318\n",
      "[1] 321\n",
      "[1] 326\n",
      "[1] 333\n",
      "[1] 337\n",
      "[1] 340\n",
      "[1] 342\n",
      "[1] 348\n",
      "[1] 353\n",
      "[1] 356\n",
      "[1] 362\n",
      "[1] 365\n",
      "[1] 371\n",
      "[1] 373\n",
      "[1] 380\n",
      "[1] 384\n",
      "[1] 387\n",
      "[1] 394\n",
      "[1] 398\n",
      "[1] 401\n",
      "[1] 406\n",
      "[1] 408\n",
      "[1] 414\n",
      "[1] 418\n",
      "[1] 422\n",
      "[1] 425\n",
      "[1] 433\n",
      "[1] 435\n",
      "[1] 440\n",
      "[1] 442\n",
      "[1] 448\n",
      "[1] 451\n",
      "[1] 455\n",
      "[1] 463\n",
      "[1] 465\n",
      "[1] 470\n",
      "[1] 476\n",
      "[1] 477\n",
      "[1] 482\n",
      "[1] 488\n",
      "[1] 492\n",
      "[1] 495\n",
      "[1] 501\n",
      "[1] 505\n",
      "[1] 509\n",
      "[1] 515\n",
      "[1] 517\n",
      "[1] 523\n",
      "[1] 527\n",
      "[1] 533\n",
      "[1] 535\n",
      "[1] 540\n",
      "[1] 543\n",
      "[1] 547\n",
      "[1] 554\n",
      "[1] 557\n",
      "[1] 561\n",
      "[1] 564\n",
      "[1] 572\n",
      "[1] 573\n",
      "[1] 578\n",
      "[1] 584\n",
      "[1] 587\n",
      "[1] 594\n",
      "[1] 598\n",
      "[1] 600\n",
      "[1] 606\n",
      "[1] 608\n",
      "[1] 613\n",
      "[1] 617\n",
      "[1] 624\n",
      "[1] 626\n",
      "[1] 630\n",
      "[1] 635\n",
      "[1] 639\n",
      "[1] 645\n",
      "[1] 650\n",
      "[1] 653\n",
      "[1] 658\n",
      "[1] 663\n",
      "[1] 665\n",
      "[1] 669\n",
      "[1] 676\n",
      "[1] 679\n",
      "[1] 683\n",
      "[1] 687\n",
      "[1] 693\n",
      "[1] 695\n",
      "[1] 699\n",
      "[1] 704\n",
      "[1] 710\n",
      "[1] 713\n",
      "[1] 719\n",
      "[1] 723\n",
      "[1] 725\n",
      "[1] 732\n",
      "[1] 735\n",
      "[1] 738\n",
      "[1] 743\n",
      "[1] 749\n",
      "[1] 752\n",
      "[1] 758\n",
      "[1] 763\n",
      "[1] 765\n",
      "[1] 769\n",
      "[1] 776\n",
      "[1] 780\n",
      "[1] 783\n",
      "[1] 789\n",
      "[1] 794\n",
      "[1] 797\n",
      "[1] 799\n",
      "[1] 806\n",
      "[1] 809\n",
      "[1] 814\n",
      "[1] 816\n",
      "[1] 824\n",
      "[1] 826\n",
      "[1] 830\n",
      "[1] 835\n",
      "[1] 838\n",
      "[1] 0\n",
      "[1] 4\n",
      "[1] 7\n",
      "[1] 14\n",
      "[1] 16\n",
      "[1] 23\n",
      "[1] 25\n",
      "[1] 32\n",
      "[1] 36\n",
      "[1] 37\n",
      "[1] 44\n",
      "[1] 46\n",
      "[1] 53\n",
      "[1] 55\n",
      "[1] 59\n",
      "[1] 63\n",
      "[1] 71\n",
      "[1] 73\n",
      "[1] 78\n",
      "[1] 81\n",
      "[1] 86\n",
      "[1] 90\n",
      "[1] 94\n",
      "[1] 99\n",
      "[1] 104\n",
      "[1] 110\n",
      "[1] 115\n",
      "[1] 116\n",
      "[1] 120\n",
      "[1] 124\n",
      "[1] 131\n",
      "[1] 136\n",
      "[1] 139\n",
      "[1] 144\n",
      "[1] 147\n",
      "[1] 153\n",
      "[1] 157\n",
      "[1] 161\n",
      "[1] 164\n",
      "[1] 168\n",
      "[1] 174\n",
      "[1] 178\n",
      "[1] 180\n",
      "[1] 185\n",
      "[1] 189\n",
      "[1] 194\n",
      "[1] 199\n",
      "[1] 205\n",
      "[1] 207\n",
      "[1] 212\n",
      "[1] 215\n",
      "[1] 220\n",
      "[1] 226\n",
      "[1] 228\n",
      "[1] 236\n",
      "[1] 238\n",
      "[1] 245\n",
      "[1] 248\n",
      "[1] 252\n",
      "[1] 255\n",
      "[1] 259\n",
      "[1] 264\n",
      "[1] 269\n",
      "[1] 273\n",
      "[1] 279\n",
      "[1] 283\n",
      "[1] 287\n",
      "[1] 289\n",
      "[1] 297\n",
      "[1] 301\n",
      "[1] 304\n",
      "[1] 307\n",
      "[1] 311\n",
      "[1] 317\n",
      "[1] 320\n",
      "[1] 326\n",
      "[1] 329\n",
      "[1] 334\n",
      "[1] 337\n",
      "[1] 345\n",
      "[1] 347\n",
      "[1] 351\n",
      "[1] 355\n",
      "[1] 360\n",
      "[1] 367\n",
      "[1] 369\n",
      "[1] 375\n",
      "[1] 378\n",
      "[1] 381\n",
      "[1] 385\n",
      "[1] 392\n",
      "[1] 394\n",
      "[1] 399\n",
      "[1] 405\n",
      "[1] 408\n",
      "[1] 412\n",
      "[1] 415\n",
      "[1] 423\n",
      "[1] 424\n",
      "[1] 432\n",
      "[1] 434\n",
      "[1] 440\n",
      "[1] 443\n",
      "[1] 449\n",
      "[1] 452\n",
      "[1] 458\n",
      "[1] 459\n",
      "[1] 464\n",
      "[1] 471\n",
      "[1] 473\n",
      "[1] 476\n",
      "[1] 484\n",
      "[1] 485\n",
      "[1] 492\n",
      "[1] 496\n",
      "[1] 501\n",
      "[1] 504\n",
      "[1] 507\n",
      "[1] 511\n",
      "[1] 516\n",
      "[1] 522\n",
      "[1] 527\n",
      "[1] 530\n",
      "[1] 536\n",
      "[1] 540\n",
      "[1] 544\n",
      "[1] 549\n",
      "[1] 553\n",
      "[1] 558\n",
      "[1] 561\n",
      "[1] 567\n",
      "[1] 571\n",
      "[1] 575\n",
      "[1] 579\n",
      "[1] 584\n",
      "[1] 586\n",
      "[1] 592\n",
      "[1] 594\n",
      "[1] 601\n",
      "[1] 602\n",
      "[1] 609\n",
      "[1] 614\n",
      "[1] 616\n",
      "[1] 622\n",
      "[1] 624\n",
      "[1] 630\n",
      "[1] 636\n",
      "[1] 637\n",
      "[1] 645\n",
      "[1] 647\n",
      "[1] 651\n",
      "[1] 657\n",
      "[1] 662\n",
      "[1] 667\n",
      "[1] 668\n",
      "[1] 675\n",
      "[1] 677\n",
      "[1] 682\n",
      "[1] 688\n",
      "[1] 690\n",
      "[1] 697\n",
      "[1] 698\n",
      "[1] 703\n",
      "[1] 709\n",
      "[1] 711\n",
      "[1] 719\n",
      "[1] 721\n",
      "[1] 724\n",
      "[1] 731\n",
      "[1] 734\n",
      "[1] 738\n",
      "[1] 744\n",
      "[1] 747\n",
      "[1] 752\n",
      "[1] 758\n",
      "[1] 761\n",
      "[1] 763\n",
      "[1] 769\n",
      "[1] 773\n",
      "[1] 778\n",
      "[1] 783\n",
      "[1] 786\n",
      "[1] 793\n",
      "[1] 796\n",
      "[1] 801\n",
      "[1] 805\n",
      "[1] 808\n",
      "[1] 814\n",
      "[1] 817\n",
      "[1] 823\n",
      "[1] 827\n",
      "[1] 829\n",
      "[1] 834\n",
      "[1] 837\n",
      "[1] 0\n",
      "[1] 4\n",
      "[1] 7\n",
      "[1] 14\n",
      "[1] 16\n",
      "[1] 23\n",
      "[1] 25\n",
      "[1] 32\n",
      "[1] 36\n",
      "[1] 37\n",
      "[1] 44\n",
      "[1] 46\n",
      "[1] 53\n",
      "[1] 55\n",
      "[1] 59\n",
      "[1] 63\n",
      "[1] 71\n",
      "[1] 73\n",
      "[1] 78\n",
      "[1] 81\n",
      "[1] 86\n",
      "[1] 90\n",
      "[1] 94\n",
      "[1] 99\n",
      "[1] 104\n",
      "[1] 110\n",
      "[1] 115\n",
      "[1] 116\n",
      "[1] 120\n",
      "[1] 124\n",
      "[1] 131\n",
      "[1] 136\n",
      "[1] 139\n",
      "[1] 144\n",
      "[1] 147\n",
      "[1] 153\n",
      "[1] 157\n",
      "[1] 161\n",
      "[1] 164\n",
      "[1] 168\n",
      "[1] 174\n",
      "[1] 178\n",
      "[1] 180\n",
      "[1] 185\n",
      "[1] 189\n",
      "[1] 194\n",
      "[1] 199\n",
      "[1] 205\n",
      "[1] 207\n",
      "[1] 212\n",
      "[1] 215\n",
      "[1] 220\n",
      "[1] 226\n",
      "[1] 228\n",
      "[1] 236\n",
      "[1] 238\n",
      "[1] 245\n",
      "[1] 248\n",
      "[1] 252\n",
      "[1] 255\n",
      "[1] 259\n",
      "[1] 264\n",
      "[1] 269\n",
      "[1] 273\n",
      "[1] 279\n",
      "[1] 283\n",
      "[1] 287\n",
      "[1] 289\n",
      "[1] 297\n",
      "[1] 301\n",
      "[1] 304\n",
      "[1] 307\n",
      "[1] 311\n",
      "[1] 317\n",
      "[1] 320\n",
      "[1] 326\n",
      "[1] 329\n",
      "[1] 334\n",
      "[1] 337\n",
      "[1] 345\n",
      "[1] 347\n",
      "[1] 351\n",
      "[1] 355\n",
      "[1] 360\n",
      "[1] 367\n",
      "[1] 369\n",
      "[1] 375\n",
      "[1] 378\n",
      "[1] 381\n",
      "[1] 385\n",
      "[1] 392\n",
      "[1] 394\n",
      "[1] 399\n",
      "[1] 405\n",
      "[1] 408\n",
      "[1] 412\n",
      "[1] 415\n",
      "[1] 423\n",
      "[1] 424\n",
      "[1] 432\n",
      "[1] 434\n",
      "[1] 440\n",
      "[1] 443\n",
      "[1] 449\n",
      "[1] 452\n",
      "[1] 458\n",
      "[1] 459\n",
      "[1] 464\n",
      "[1] 471\n",
      "[1] 473\n",
      "[1] 476\n",
      "[1] 484\n",
      "[1] 485\n",
      "[1] 492\n",
      "[1] 496\n",
      "[1] 501\n",
      "[1] 504\n",
      "[1] 507\n",
      "[1] 511\n",
      "[1] 516\n",
      "[1] 522\n",
      "[1] 527\n",
      "[1] 530\n",
      "[1] 536\n",
      "[1] 540\n",
      "[1] 544\n",
      "[1] 549\n",
      "[1] 553\n",
      "[1] 558\n",
      "[1] 561\n",
      "[1] 567\n",
      "[1] 571\n",
      "[1] 575\n",
      "[1] 579\n",
      "[1] 584\n",
      "[1] 586\n",
      "[1] 592\n",
      "[1] 594\n",
      "[1] 601\n",
      "[1] 602\n",
      "[1] 609\n",
      "[1] 614\n",
      "[1] 616\n",
      "[1] 622\n",
      "[1] 624\n",
      "[1] 630\n",
      "[1] 636\n",
      "[1] 637\n",
      "[1] 645\n",
      "[1] 647\n",
      "[1] 651\n",
      "[1] 657\n",
      "[1] 662\n",
      "[1] 667\n",
      "[1] 668\n",
      "[1] 675\n",
      "[1] 677\n",
      "[1] 682\n",
      "[1] 688\n",
      "[1] 690\n",
      "[1] 697\n",
      "[1] 698\n",
      "[1] 703\n",
      "[1] 709\n",
      "[1] 711\n",
      "[1] 719\n",
      "[1] 721\n",
      "[1] 724\n",
      "[1] 731\n",
      "[1] 734\n",
      "[1] 738\n",
      "[1] 744\n",
      "[1] 747\n",
      "[1] 752\n",
      "[1] 758\n",
      "[1] 761\n",
      "[1] 763\n",
      "[1] 769\n",
      "[1] 773\n",
      "[1] 778\n",
      "[1] 783\n",
      "[1] 786\n",
      "[1] 793\n",
      "[1] 796\n",
      "[1] 801\n",
      "[1] 805\n",
      "[1] 808\n",
      "[1] 814\n",
      "[1] 817\n",
      "[1] 823\n",
      "[1] 827\n",
      "[1] 829\n",
      "[1] 834\n",
      "[1] 837\n",
      "[1] 0\n",
      "[1] 4\n",
      "[1] 7\n",
      "[1] 14\n",
      "[1] 16\n",
      "[1] 23\n",
      "[1] 25\n",
      "[1] 32\n",
      "[1] 36\n",
      "[1] 37\n",
      "[1] 44\n",
      "[1] 46\n",
      "[1] 53\n",
      "[1] 55\n",
      "[1] 59\n",
      "[1] 63\n",
      "[1] 71\n",
      "[1] 73\n",
      "[1] 78\n",
      "[1] 81\n",
      "[1] 86\n",
      "[1] 90\n",
      "[1] 94\n",
      "[1] 99\n",
      "[1] 104\n",
      "[1] 110\n",
      "[1] 115\n",
      "[1] 116\n",
      "[1] 120\n",
      "[1] 124\n",
      "[1] 131\n",
      "[1] 136\n",
      "[1] 139\n",
      "[1] 144\n",
      "[1] 147\n",
      "[1] 153\n",
      "[1] 157\n",
      "[1] 161\n",
      "[1] 164\n",
      "[1] 168\n",
      "[1] 174\n",
      "[1] 178\n",
      "[1] 180\n",
      "[1] 185\n",
      "[1] 189\n",
      "[1] 194\n",
      "[1] 199\n",
      "[1] 205\n",
      "[1] 207\n",
      "[1] 212\n",
      "[1] 215\n",
      "[1] 220\n",
      "[1] 226\n",
      "[1] 228\n",
      "[1] 236\n",
      "[1] 238\n",
      "[1] 245\n",
      "[1] 248\n",
      "[1] 252\n",
      "[1] 255\n",
      "[1] 259\n",
      "[1] 264\n",
      "[1] 269\n",
      "[1] 273\n",
      "[1] 279\n",
      "[1] 283\n",
      "[1] 287\n",
      "[1] 289\n",
      "[1] 297\n",
      "[1] 301\n",
      "[1] 304\n",
      "[1] 307\n",
      "[1] 311\n",
      "[1] 317\n",
      "[1] 320\n",
      "[1] 326\n",
      "[1] 329\n",
      "[1] 334\n",
      "[1] 337\n",
      "[1] 345\n",
      "[1] 347\n",
      "[1] 351\n",
      "[1] 355\n",
      "[1] 360\n",
      "[1] 367\n",
      "[1] 369\n",
      "[1] 375\n",
      "[1] 378\n",
      "[1] 381\n",
      "[1] 385\n",
      "[1] 392\n",
      "[1] 394\n",
      "[1] 399\n",
      "[1] 405\n",
      "[1] 408\n",
      "[1] 412\n",
      "[1] 415\n",
      "[1] 423\n",
      "[1] 424\n",
      "[1] 432\n",
      "[1] 434\n",
      "[1] 440\n",
      "[1] 443\n",
      "[1] 449\n",
      "[1] 452\n",
      "[1] 458\n",
      "[1] 459\n",
      "[1] 464\n",
      "[1] 471\n",
      "[1] 473\n",
      "[1] 476\n",
      "[1] 484\n",
      "[1] 485\n",
      "[1] 492\n",
      "[1] 496\n",
      "[1] 501\n",
      "[1] 504\n",
      "[1] 507\n",
      "[1] 511\n",
      "[1] 516\n",
      "[1] 522\n",
      "[1] 527\n",
      "[1] 530\n",
      "[1] 536\n",
      "[1] 540\n",
      "[1] 544\n",
      "[1] 549\n",
      "[1] 553\n",
      "[1] 558\n",
      "[1] 561\n",
      "[1] 567\n",
      "[1] 571\n",
      "[1] 575\n",
      "[1] 579\n",
      "[1] 584\n",
      "[1] 586\n",
      "[1] 592\n",
      "[1] 594\n",
      "[1] 601\n",
      "[1] 602\n",
      "[1] 609\n",
      "[1] 614\n",
      "[1] 616\n",
      "[1] 622\n",
      "[1] 624\n",
      "[1] 630\n",
      "[1] 636\n",
      "[1] 637\n",
      "[1] 645\n",
      "[1] 647\n",
      "[1] 651\n",
      "[1] 657\n",
      "[1] 662\n",
      "[1] 667\n",
      "[1] 668\n",
      "[1] 675\n",
      "[1] 677\n",
      "[1] 682\n",
      "[1] 688\n",
      "[1] 690\n",
      "[1] 697\n",
      "[1] 698\n",
      "[1] 703\n",
      "[1] 709\n",
      "[1] 711\n",
      "[1] 719\n",
      "[1] 721\n",
      "[1] 724\n",
      "[1] 731\n",
      "[1] 734\n",
      "[1] 738\n",
      "[1] 744\n",
      "[1] 747\n",
      "[1] 752\n",
      "[1] 758\n",
      "[1] 761\n",
      "[1] 763\n",
      "[1] 769\n",
      "[1] 773\n",
      "[1] 778\n",
      "[1] 783\n",
      "[1] 786\n",
      "[1] 793\n",
      "[1] 796\n",
      "[1] 801\n",
      "[1] 805\n",
      "[1] 808\n",
      "[1] 814\n",
      "[1] 817\n",
      "[1] 823\n",
      "[1] 827\n",
      "[1] 829\n",
      "[1] 834\n",
      "[1] 837\n",
      "[1] 0\n",
      "[1] 4\n",
      "[1] 7\n",
      "[1] 14\n",
      "[1] 16\n",
      "[1] 23\n",
      "[1] 25\n",
      "[1] 32\n",
      "[1] 36\n",
      "[1] 37\n",
      "[1] 44\n",
      "[1] 46\n",
      "[1] 53\n",
      "[1] 55\n",
      "[1] 59\n",
      "[1] 63\n",
      "[1] 71\n",
      "[1] 73\n",
      "[1] 78\n",
      "[1] 81\n",
      "[1] 86\n",
      "[1] 90\n",
      "[1] 94\n",
      "[1] 99\n",
      "[1] 104\n",
      "[1] 110\n",
      "[1] 115\n",
      "[1] 116\n",
      "[1] 120\n",
      "[1] 124\n",
      "[1] 131\n",
      "[1] 136\n",
      "[1] 139\n",
      "[1] 144\n",
      "[1] 147\n",
      "[1] 153\n",
      "[1] 157\n",
      "[1] 161\n",
      "[1] 164\n",
      "[1] 168\n",
      "[1] 174\n",
      "[1] 178\n",
      "[1] 180\n",
      "[1] 185\n",
      "[1] 189\n",
      "[1] 194\n",
      "[1] 199\n",
      "[1] 205\n",
      "[1] 207\n",
      "[1] 212\n",
      "[1] 215\n",
      "[1] 220\n",
      "[1] 226\n",
      "[1] 228\n",
      "[1] 236\n",
      "[1] 238\n",
      "[1] 245\n",
      "[1] 248\n",
      "[1] 252\n",
      "[1] 255\n",
      "[1] 259\n",
      "[1] 264\n",
      "[1] 269\n",
      "[1] 273\n",
      "[1] 279\n",
      "[1] 283\n",
      "[1] 287\n",
      "[1] 289\n",
      "[1] 297\n",
      "[1] 301\n",
      "[1] 304\n",
      "[1] 307\n",
      "[1] 311\n",
      "[1] 317\n",
      "[1] 320\n",
      "[1] 326\n",
      "[1] 329\n",
      "[1] 334\n",
      "[1] 337\n",
      "[1] 345\n",
      "[1] 347\n",
      "[1] 351\n",
      "[1] 355\n",
      "[1] 360\n",
      "[1] 367\n",
      "[1] 369\n",
      "[1] 375\n",
      "[1] 378\n",
      "[1] 381\n",
      "[1] 385\n",
      "[1] 392\n",
      "[1] 394\n",
      "[1] 399\n",
      "[1] 405\n",
      "[1] 408\n",
      "[1] 412\n",
      "[1] 415\n",
      "[1] 423\n",
      "[1] 424\n",
      "[1] 432\n",
      "[1] 434\n",
      "[1] 440\n",
      "[1] 443\n",
      "[1] 449\n",
      "[1] 452\n",
      "[1] 458\n",
      "[1] 459\n",
      "[1] 464\n",
      "[1] 471\n",
      "[1] 473\n",
      "[1] 476\n",
      "[1] 484\n",
      "[1] 485\n",
      "[1] 492\n",
      "[1] 496\n",
      "[1] 501\n",
      "[1] 504\n",
      "[1] 507\n",
      "[1] 511\n",
      "[1] 516\n",
      "[1] 522\n",
      "[1] 527\n",
      "[1] 530\n",
      "[1] 536\n",
      "[1] 540\n",
      "[1] 544\n",
      "[1] 549\n",
      "[1] 553\n",
      "[1] 558\n",
      "[1] 561\n",
      "[1] 567\n",
      "[1] 571\n",
      "[1] 575\n",
      "[1] 579\n",
      "[1] 584\n",
      "[1] 586\n",
      "[1] 592\n",
      "[1] 594\n",
      "[1] 601\n",
      "[1] 602\n",
      "[1] 609\n",
      "[1] 614\n",
      "[1] 616\n",
      "[1] 622\n",
      "[1] 624\n",
      "[1] 630\n",
      "[1] 636\n",
      "[1] 637\n",
      "[1] 645\n",
      "[1] 647\n",
      "[1] 651\n",
      "[1] 657\n",
      "[1] 662\n",
      "[1] 667\n",
      "[1] 668\n",
      "[1] 675\n",
      "[1] 677\n",
      "[1] 682\n",
      "[1] 688\n",
      "[1] 690\n",
      "[1] 697\n",
      "[1] 698\n",
      "[1] 703\n",
      "[1] 709\n",
      "[1] 711\n",
      "[1] 719\n",
      "[1] 721\n",
      "[1] 724\n",
      "[1] 731\n",
      "[1] 734\n",
      "[1] 738\n",
      "[1] 744\n",
      "[1] 747\n",
      "[1] 752\n",
      "[1] 758\n",
      "[1] 761\n",
      "[1] 763\n",
      "[1] 769\n",
      "[1] 773\n",
      "[1] 778\n",
      "[1] 783\n",
      "[1] 786\n",
      "[1] 793\n",
      "[1] 796\n",
      "[1] 801\n",
      "[1] 805\n",
      "[1] 808\n",
      "[1] 814\n",
      "[1] 817\n",
      "[1] 823\n",
      "[1] 827\n",
      "[1] 829\n",
      "[1] 834\n",
      "[1] 837\n",
      "[1] 0\n",
      "[1] 4\n"
     ]
    },
    {
     "name": "stderr",
     "output_type": "stream",
     "text": [
      "Warning message in forecasts[i] <- round(fc$mean):\n",
      "“liczba pozycji do zastąpienia nie jest wielokrotnością długości zamiany”"
     ]
    },
    {
     "name": "stdout",
     "output_type": "stream",
     "text": [
      "[1] 7\n"
     ]
    },
    {
     "name": "stderr",
     "output_type": "stream",
     "text": [
      "Warning message in forecasts[i] <- round(fc$mean):\n",
      "“liczba pozycji do zastąpienia nie jest wielokrotnością długości zamiany”"
     ]
    },
    {
     "name": "stdout",
     "output_type": "stream",
     "text": [
      "[1] 14\n"
     ]
    },
    {
     "name": "stderr",
     "output_type": "stream",
     "text": [
      "Warning message in forecasts[i] <- round(fc$mean):\n",
      "“liczba pozycji do zastąpienia nie jest wielokrotnością długości zamiany”"
     ]
    },
    {
     "name": "stdout",
     "output_type": "stream",
     "text": [
      "[1] 16\n"
     ]
    },
    {
     "name": "stderr",
     "output_type": "stream",
     "text": [
      "Warning message in forecasts[i] <- round(fc$mean):\n",
      "“liczba pozycji do zastąpienia nie jest wielokrotnością długości zamiany”"
     ]
    },
    {
     "name": "stdout",
     "output_type": "stream",
     "text": [
      "[1] 23\n"
     ]
    },
    {
     "name": "stderr",
     "output_type": "stream",
     "text": [
      "Warning message in forecasts[i] <- round(fc$mean):\n",
      "“liczba pozycji do zastąpienia nie jest wielokrotnością długości zamiany”"
     ]
    },
    {
     "name": "stdout",
     "output_type": "stream",
     "text": [
      "[1] 25\n"
     ]
    },
    {
     "name": "stderr",
     "output_type": "stream",
     "text": [
      "Warning message in forecasts[i] <- round(fc$mean):\n",
      "“liczba pozycji do zastąpienia nie jest wielokrotnością długości zamiany”"
     ]
    },
    {
     "name": "stdout",
     "output_type": "stream",
     "text": [
      "[1] 32\n"
     ]
    },
    {
     "name": "stderr",
     "output_type": "stream",
     "text": [
      "Warning message in forecasts[i] <- round(fc$mean):\n",
      "“liczba pozycji do zastąpienia nie jest wielokrotnością długości zamiany”"
     ]
    },
    {
     "name": "stdout",
     "output_type": "stream",
     "text": [
      "[1] 36\n"
     ]
    },
    {
     "name": "stderr",
     "output_type": "stream",
     "text": [
      "Warning message in forecasts[i] <- round(fc$mean):\n",
      "“liczba pozycji do zastąpienia nie jest wielokrotnością długości zamiany”"
     ]
    },
    {
     "name": "stdout",
     "output_type": "stream",
     "text": [
      "[1] 37\n"
     ]
    },
    {
     "name": "stderr",
     "output_type": "stream",
     "text": [
      "Warning message in forecasts[i] <- round(fc$mean):\n",
      "“liczba pozycji do zastąpienia nie jest wielokrotnością długości zamiany”"
     ]
    },
    {
     "name": "stdout",
     "output_type": "stream",
     "text": [
      "[1] 44\n"
     ]
    },
    {
     "name": "stderr",
     "output_type": "stream",
     "text": [
      "Warning message in forecasts[i] <- round(fc$mean):\n",
      "“liczba pozycji do zastąpienia nie jest wielokrotnością długości zamiany”"
     ]
    },
    {
     "name": "stdout",
     "output_type": "stream",
     "text": [
      "[1] 46\n"
     ]
    },
    {
     "name": "stderr",
     "output_type": "stream",
     "text": [
      "Warning message in forecasts[i] <- round(fc$mean):\n",
      "“liczba pozycji do zastąpienia nie jest wielokrotnością długości zamiany”"
     ]
    },
    {
     "name": "stdout",
     "output_type": "stream",
     "text": [
      "[1] 53\n"
     ]
    },
    {
     "name": "stderr",
     "output_type": "stream",
     "text": [
      "Warning message in forecasts[i] <- round(fc$mean):\n",
      "“liczba pozycji do zastąpienia nie jest wielokrotnością długości zamiany”"
     ]
    },
    {
     "name": "stdout",
     "output_type": "stream",
     "text": [
      "[1] 55\n"
     ]
    },
    {
     "name": "stderr",
     "output_type": "stream",
     "text": [
      "Warning message in forecasts[i] <- round(fc$mean):\n",
      "“liczba pozycji do zastąpienia nie jest wielokrotnością długości zamiany”"
     ]
    },
    {
     "name": "stdout",
     "output_type": "stream",
     "text": [
      "[1] 59\n"
     ]
    },
    {
     "name": "stderr",
     "output_type": "stream",
     "text": [
      "Warning message in forecasts[i] <- round(fc$mean):\n",
      "“liczba pozycji do zastąpienia nie jest wielokrotnością długości zamiany”"
     ]
    },
    {
     "name": "stdout",
     "output_type": "stream",
     "text": [
      "[1] 63\n"
     ]
    },
    {
     "name": "stderr",
     "output_type": "stream",
     "text": [
      "Warning message in forecasts[i] <- round(fc$mean):\n",
      "“liczba pozycji do zastąpienia nie jest wielokrotnością długości zamiany”"
     ]
    },
    {
     "name": "stdout",
     "output_type": "stream",
     "text": [
      "[1] 71\n"
     ]
    },
    {
     "name": "stderr",
     "output_type": "stream",
     "text": [
      "Warning message in forecasts[i] <- round(fc$mean):\n",
      "“liczba pozycji do zastąpienia nie jest wielokrotnością długości zamiany”"
     ]
    },
    {
     "name": "stdout",
     "output_type": "stream",
     "text": [
      "[1] 73\n"
     ]
    },
    {
     "name": "stderr",
     "output_type": "stream",
     "text": [
      "Warning message in forecasts[i] <- round(fc$mean):\n",
      "“liczba pozycji do zastąpienia nie jest wielokrotnością długości zamiany”"
     ]
    },
    {
     "name": "stdout",
     "output_type": "stream",
     "text": [
      "[1] 78\n"
     ]
    },
    {
     "name": "stderr",
     "output_type": "stream",
     "text": [
      "Warning message in forecasts[i] <- round(fc$mean):\n",
      "“liczba pozycji do zastąpienia nie jest wielokrotnością długości zamiany”"
     ]
    },
    {
     "name": "stdout",
     "output_type": "stream",
     "text": [
      "[1] 81\n"
     ]
    },
    {
     "name": "stderr",
     "output_type": "stream",
     "text": [
      "Warning message in forecasts[i] <- round(fc$mean):\n",
      "“liczba pozycji do zastąpienia nie jest wielokrotnością długości zamiany”"
     ]
    },
    {
     "name": "stdout",
     "output_type": "stream",
     "text": [
      "[1] 86\n"
     ]
    },
    {
     "name": "stderr",
     "output_type": "stream",
     "text": [
      "Warning message in forecasts[i] <- round(fc$mean):\n",
      "“liczba pozycji do zastąpienia nie jest wielokrotnością długości zamiany”"
     ]
    },
    {
     "name": "stdout",
     "output_type": "stream",
     "text": [
      "[1] 90\n"
     ]
    },
    {
     "name": "stderr",
     "output_type": "stream",
     "text": [
      "Warning message in forecasts[i] <- round(fc$mean):\n",
      "“liczba pozycji do zastąpienia nie jest wielokrotnością długości zamiany”"
     ]
    },
    {
     "name": "stdout",
     "output_type": "stream",
     "text": [
      "[1] 94\n"
     ]
    },
    {
     "name": "stderr",
     "output_type": "stream",
     "text": [
      "Warning message in forecasts[i] <- round(fc$mean):\n",
      "“liczba pozycji do zastąpienia nie jest wielokrotnością długości zamiany”"
     ]
    },
    {
     "name": "stdout",
     "output_type": "stream",
     "text": [
      "[1] 99\n"
     ]
    },
    {
     "name": "stderr",
     "output_type": "stream",
     "text": [
      "Warning message in forecasts[i] <- round(fc$mean):\n",
      "“liczba pozycji do zastąpienia nie jest wielokrotnością długości zamiany”"
     ]
    },
    {
     "name": "stdout",
     "output_type": "stream",
     "text": [
      "[1] 104\n"
     ]
    },
    {
     "name": "stderr",
     "output_type": "stream",
     "text": [
      "Warning message in forecasts[i] <- round(fc$mean):\n",
      "“liczba pozycji do zastąpienia nie jest wielokrotnością długości zamiany”"
     ]
    },
    {
     "name": "stdout",
     "output_type": "stream",
     "text": [
      "[1] 110\n"
     ]
    },
    {
     "name": "stderr",
     "output_type": "stream",
     "text": [
      "Warning message in forecasts[i] <- round(fc$mean):\n",
      "“liczba pozycji do zastąpienia nie jest wielokrotnością długości zamiany”"
     ]
    },
    {
     "name": "stdout",
     "output_type": "stream",
     "text": [
      "[1] 115\n"
     ]
    },
    {
     "name": "stderr",
     "output_type": "stream",
     "text": [
      "Warning message in forecasts[i] <- round(fc$mean):\n",
      "“liczba pozycji do zastąpienia nie jest wielokrotnością długości zamiany”"
     ]
    },
    {
     "name": "stdout",
     "output_type": "stream",
     "text": [
      "[1] 116\n"
     ]
    },
    {
     "name": "stderr",
     "output_type": "stream",
     "text": [
      "Warning message in forecasts[i] <- round(fc$mean):\n",
      "“liczba pozycji do zastąpienia nie jest wielokrotnością długości zamiany”"
     ]
    },
    {
     "name": "stdout",
     "output_type": "stream",
     "text": [
      "[1] 120\n"
     ]
    },
    {
     "name": "stderr",
     "output_type": "stream",
     "text": [
      "Warning message in forecasts[i] <- round(fc$mean):\n",
      "“liczba pozycji do zastąpienia nie jest wielokrotnością długości zamiany”"
     ]
    },
    {
     "name": "stdout",
     "output_type": "stream",
     "text": [
      "[1] 124\n"
     ]
    },
    {
     "name": "stderr",
     "output_type": "stream",
     "text": [
      "Warning message in forecasts[i] <- round(fc$mean):\n",
      "“liczba pozycji do zastąpienia nie jest wielokrotnością długości zamiany”"
     ]
    },
    {
     "name": "stdout",
     "output_type": "stream",
     "text": [
      "[1] 131\n"
     ]
    },
    {
     "name": "stderr",
     "output_type": "stream",
     "text": [
      "Warning message in forecasts[i] <- round(fc$mean):\n",
      "“liczba pozycji do zastąpienia nie jest wielokrotnością długości zamiany”"
     ]
    },
    {
     "name": "stdout",
     "output_type": "stream",
     "text": [
      "[1] 136\n"
     ]
    },
    {
     "name": "stderr",
     "output_type": "stream",
     "text": [
      "Warning message in forecasts[i] <- round(fc$mean):\n",
      "“liczba pozycji do zastąpienia nie jest wielokrotnością długości zamiany”"
     ]
    },
    {
     "name": "stdout",
     "output_type": "stream",
     "text": [
      "[1] 139\n"
     ]
    },
    {
     "name": "stderr",
     "output_type": "stream",
     "text": [
      "Warning message in forecasts[i] <- round(fc$mean):\n",
      "“liczba pozycji do zastąpienia nie jest wielokrotnością długości zamiany”"
     ]
    },
    {
     "name": "stdout",
     "output_type": "stream",
     "text": [
      "[1] 144\n"
     ]
    },
    {
     "name": "stderr",
     "output_type": "stream",
     "text": [
      "Warning message in forecasts[i] <- round(fc$mean):\n",
      "“liczba pozycji do zastąpienia nie jest wielokrotnością długości zamiany”"
     ]
    },
    {
     "name": "stdout",
     "output_type": "stream",
     "text": [
      "[1] 147\n"
     ]
    },
    {
     "name": "stderr",
     "output_type": "stream",
     "text": [
      "Warning message in forecasts[i] <- round(fc$mean):\n",
      "“liczba pozycji do zastąpienia nie jest wielokrotnością długości zamiany”"
     ]
    },
    {
     "name": "stdout",
     "output_type": "stream",
     "text": [
      "[1] 153\n"
     ]
    },
    {
     "name": "stderr",
     "output_type": "stream",
     "text": [
      "Warning message in forecasts[i] <- round(fc$mean):\n",
      "“liczba pozycji do zastąpienia nie jest wielokrotnością długości zamiany”"
     ]
    },
    {
     "name": "stdout",
     "output_type": "stream",
     "text": [
      "[1] 157\n"
     ]
    },
    {
     "name": "stderr",
     "output_type": "stream",
     "text": [
      "Warning message in forecasts[i] <- round(fc$mean):\n",
      "“liczba pozycji do zastąpienia nie jest wielokrotnością długości zamiany”"
     ]
    },
    {
     "name": "stdout",
     "output_type": "stream",
     "text": [
      "[1] 161\n"
     ]
    },
    {
     "name": "stderr",
     "output_type": "stream",
     "text": [
      "Warning message in forecasts[i] <- round(fc$mean):\n",
      "“liczba pozycji do zastąpienia nie jest wielokrotnością długości zamiany”"
     ]
    },
    {
     "name": "stdout",
     "output_type": "stream",
     "text": [
      "[1] 164\n"
     ]
    },
    {
     "name": "stderr",
     "output_type": "stream",
     "text": [
      "Warning message in forecasts[i] <- round(fc$mean):\n",
      "“liczba pozycji do zastąpienia nie jest wielokrotnością długości zamiany”"
     ]
    },
    {
     "name": "stdout",
     "output_type": "stream",
     "text": [
      "[1] 168\n"
     ]
    },
    {
     "name": "stderr",
     "output_type": "stream",
     "text": [
      "Warning message in forecasts[i] <- round(fc$mean):\n",
      "“liczba pozycji do zastąpienia nie jest wielokrotnością długości zamiany”"
     ]
    },
    {
     "name": "stdout",
     "output_type": "stream",
     "text": [
      "[1] 174\n"
     ]
    },
    {
     "name": "stderr",
     "output_type": "stream",
     "text": [
      "Warning message in forecasts[i] <- round(fc$mean):\n",
      "“liczba pozycji do zastąpienia nie jest wielokrotnością długości zamiany”"
     ]
    },
    {
     "name": "stdout",
     "output_type": "stream",
     "text": [
      "[1] 178\n"
     ]
    },
    {
     "name": "stderr",
     "output_type": "stream",
     "text": [
      "Warning message in forecasts[i] <- round(fc$mean):\n",
      "“liczba pozycji do zastąpienia nie jest wielokrotnością długości zamiany”"
     ]
    },
    {
     "name": "stdout",
     "output_type": "stream",
     "text": [
      "[1] 180\n"
     ]
    },
    {
     "name": "stderr",
     "output_type": "stream",
     "text": [
      "Warning message in forecasts[i] <- round(fc$mean):\n",
      "“liczba pozycji do zastąpienia nie jest wielokrotnością długości zamiany”"
     ]
    },
    {
     "name": "stdout",
     "output_type": "stream",
     "text": [
      "[1] 185\n"
     ]
    },
    {
     "name": "stderr",
     "output_type": "stream",
     "text": [
      "Warning message in forecasts[i] <- round(fc$mean):\n",
      "“liczba pozycji do zastąpienia nie jest wielokrotnością długości zamiany”"
     ]
    },
    {
     "name": "stdout",
     "output_type": "stream",
     "text": [
      "[1] 189\n"
     ]
    },
    {
     "name": "stderr",
     "output_type": "stream",
     "text": [
      "Warning message in forecasts[i] <- round(fc$mean):\n",
      "“liczba pozycji do zastąpienia nie jest wielokrotnością długości zamiany”"
     ]
    },
    {
     "name": "stdout",
     "output_type": "stream",
     "text": [
      "[1] 194\n"
     ]
    },
    {
     "name": "stderr",
     "output_type": "stream",
     "text": [
      "Warning message in forecasts[i] <- round(fc$mean):\n",
      "“liczba pozycji do zastąpienia nie jest wielokrotnością długości zamiany”"
     ]
    },
    {
     "name": "stdout",
     "output_type": "stream",
     "text": [
      "[1] 199\n"
     ]
    },
    {
     "name": "stderr",
     "output_type": "stream",
     "text": [
      "Warning message in forecasts[i] <- round(fc$mean):\n",
      "“liczba pozycji do zastąpienia nie jest wielokrotnością długości zamiany”"
     ]
    },
    {
     "name": "stdout",
     "output_type": "stream",
     "text": [
      "[1] 205\n"
     ]
    },
    {
     "name": "stderr",
     "output_type": "stream",
     "text": [
      "Warning message in forecasts[i] <- round(fc$mean):\n",
      "“liczba pozycji do zastąpienia nie jest wielokrotnością długości zamiany”"
     ]
    },
    {
     "name": "stdout",
     "output_type": "stream",
     "text": [
      "[1] 207\n"
     ]
    },
    {
     "name": "stderr",
     "output_type": "stream",
     "text": [
      "Warning message in forecasts[i] <- round(fc$mean):\n",
      "“liczba pozycji do zastąpienia nie jest wielokrotnością długości zamiany”"
     ]
    },
    {
     "name": "stdout",
     "output_type": "stream",
     "text": [
      "[1] 212\n"
     ]
    },
    {
     "name": "stderr",
     "output_type": "stream",
     "text": [
      "Warning message in forecasts[i] <- round(fc$mean):\n",
      "“liczba pozycji do zastąpienia nie jest wielokrotnością długości zamiany”"
     ]
    },
    {
     "name": "stdout",
     "output_type": "stream",
     "text": [
      "[1] 215\n"
     ]
    },
    {
     "name": "stderr",
     "output_type": "stream",
     "text": [
      "Warning message in forecasts[i] <- round(fc$mean):\n",
      "“liczba pozycji do zastąpienia nie jest wielokrotnością długości zamiany”"
     ]
    },
    {
     "name": "stdout",
     "output_type": "stream",
     "text": [
      "[1] 220\n"
     ]
    },
    {
     "name": "stderr",
     "output_type": "stream",
     "text": [
      "Warning message in forecasts[i] <- round(fc$mean):\n",
      "“liczba pozycji do zastąpienia nie jest wielokrotnością długości zamiany”"
     ]
    },
    {
     "name": "stdout",
     "output_type": "stream",
     "text": [
      "[1] 226\n"
     ]
    },
    {
     "name": "stderr",
     "output_type": "stream",
     "text": [
      "Warning message in forecasts[i] <- round(fc$mean):\n",
      "“liczba pozycji do zastąpienia nie jest wielokrotnością długości zamiany”"
     ]
    },
    {
     "name": "stdout",
     "output_type": "stream",
     "text": [
      "[1] 228\n"
     ]
    },
    {
     "name": "stderr",
     "output_type": "stream",
     "text": [
      "Warning message in forecasts[i] <- round(fc$mean):\n",
      "“liczba pozycji do zastąpienia nie jest wielokrotnością długości zamiany”"
     ]
    },
    {
     "name": "stdout",
     "output_type": "stream",
     "text": [
      "[1] 236\n"
     ]
    },
    {
     "name": "stderr",
     "output_type": "stream",
     "text": [
      "Warning message in forecasts[i] <- round(fc$mean):\n",
      "“liczba pozycji do zastąpienia nie jest wielokrotnością długości zamiany”"
     ]
    },
    {
     "name": "stdout",
     "output_type": "stream",
     "text": [
      "[1] 238\n"
     ]
    },
    {
     "name": "stderr",
     "output_type": "stream",
     "text": [
      "Warning message in forecasts[i] <- round(fc$mean):\n",
      "“liczba pozycji do zastąpienia nie jest wielokrotnością długości zamiany”"
     ]
    },
    {
     "name": "stdout",
     "output_type": "stream",
     "text": [
      "[1] 245\n"
     ]
    },
    {
     "name": "stderr",
     "output_type": "stream",
     "text": [
      "Warning message in forecasts[i] <- round(fc$mean):\n",
      "“liczba pozycji do zastąpienia nie jest wielokrotnością długości zamiany”"
     ]
    },
    {
     "name": "stdout",
     "output_type": "stream",
     "text": [
      "[1] 248\n"
     ]
    },
    {
     "name": "stderr",
     "output_type": "stream",
     "text": [
      "Warning message in forecasts[i] <- round(fc$mean):\n",
      "“liczba pozycji do zastąpienia nie jest wielokrotnością długości zamiany”"
     ]
    },
    {
     "name": "stdout",
     "output_type": "stream",
     "text": [
      "[1] 252\n"
     ]
    },
    {
     "name": "stderr",
     "output_type": "stream",
     "text": [
      "Warning message in forecasts[i] <- round(fc$mean):\n",
      "“liczba pozycji do zastąpienia nie jest wielokrotnością długości zamiany”"
     ]
    },
    {
     "name": "stdout",
     "output_type": "stream",
     "text": [
      "[1] 255\n"
     ]
    },
    {
     "name": "stderr",
     "output_type": "stream",
     "text": [
      "Warning message in forecasts[i] <- round(fc$mean):\n",
      "“liczba pozycji do zastąpienia nie jest wielokrotnością długości zamiany”"
     ]
    },
    {
     "name": "stdout",
     "output_type": "stream",
     "text": [
      "[1] 259\n"
     ]
    },
    {
     "name": "stderr",
     "output_type": "stream",
     "text": [
      "Warning message in forecasts[i] <- round(fc$mean):\n",
      "“liczba pozycji do zastąpienia nie jest wielokrotnością długości zamiany”"
     ]
    },
    {
     "name": "stdout",
     "output_type": "stream",
     "text": [
      "[1] 264\n"
     ]
    },
    {
     "name": "stderr",
     "output_type": "stream",
     "text": [
      "Warning message in forecasts[i] <- round(fc$mean):\n",
      "“liczba pozycji do zastąpienia nie jest wielokrotnością długości zamiany”"
     ]
    },
    {
     "name": "stdout",
     "output_type": "stream",
     "text": [
      "[1] 269\n"
     ]
    },
    {
     "name": "stderr",
     "output_type": "stream",
     "text": [
      "Warning message in forecasts[i] <- round(fc$mean):\n",
      "“liczba pozycji do zastąpienia nie jest wielokrotnością długości zamiany”"
     ]
    },
    {
     "name": "stdout",
     "output_type": "stream",
     "text": [
      "[1] 273\n"
     ]
    },
    {
     "name": "stderr",
     "output_type": "stream",
     "text": [
      "Warning message in forecasts[i] <- round(fc$mean):\n",
      "“liczba pozycji do zastąpienia nie jest wielokrotnością długości zamiany”"
     ]
    },
    {
     "name": "stdout",
     "output_type": "stream",
     "text": [
      "[1] 279\n"
     ]
    },
    {
     "name": "stderr",
     "output_type": "stream",
     "text": [
      "Warning message in forecasts[i] <- round(fc$mean):\n",
      "“liczba pozycji do zastąpienia nie jest wielokrotnością długości zamiany”"
     ]
    },
    {
     "name": "stdout",
     "output_type": "stream",
     "text": [
      "[1] 283\n"
     ]
    },
    {
     "name": "stderr",
     "output_type": "stream",
     "text": [
      "Warning message in forecasts[i] <- round(fc$mean):\n",
      "“liczba pozycji do zastąpienia nie jest wielokrotnością długości zamiany”"
     ]
    },
    {
     "name": "stdout",
     "output_type": "stream",
     "text": [
      "[1] 287\n"
     ]
    },
    {
     "name": "stderr",
     "output_type": "stream",
     "text": [
      "Warning message in forecasts[i] <- round(fc$mean):\n",
      "“liczba pozycji do zastąpienia nie jest wielokrotnością długości zamiany”"
     ]
    },
    {
     "name": "stdout",
     "output_type": "stream",
     "text": [
      "[1] 289\n"
     ]
    },
    {
     "name": "stderr",
     "output_type": "stream",
     "text": [
      "Warning message in forecasts[i] <- round(fc$mean):\n",
      "“liczba pozycji do zastąpienia nie jest wielokrotnością długości zamiany”"
     ]
    },
    {
     "name": "stdout",
     "output_type": "stream",
     "text": [
      "[1] 297\n"
     ]
    },
    {
     "name": "stderr",
     "output_type": "stream",
     "text": [
      "Warning message in forecasts[i] <- round(fc$mean):\n",
      "“liczba pozycji do zastąpienia nie jest wielokrotnością długości zamiany”"
     ]
    },
    {
     "name": "stdout",
     "output_type": "stream",
     "text": [
      "[1] 301\n"
     ]
    },
    {
     "name": "stderr",
     "output_type": "stream",
     "text": [
      "Warning message in forecasts[i] <- round(fc$mean):\n",
      "“liczba pozycji do zastąpienia nie jest wielokrotnością długości zamiany”"
     ]
    },
    {
     "name": "stdout",
     "output_type": "stream",
     "text": [
      "[1] 304\n"
     ]
    },
    {
     "name": "stderr",
     "output_type": "stream",
     "text": [
      "Warning message in forecasts[i] <- round(fc$mean):\n",
      "“liczba pozycji do zastąpienia nie jest wielokrotnością długości zamiany”"
     ]
    },
    {
     "name": "stdout",
     "output_type": "stream",
     "text": [
      "[1] 307\n"
     ]
    },
    {
     "name": "stderr",
     "output_type": "stream",
     "text": [
      "Warning message in forecasts[i] <- round(fc$mean):\n",
      "“liczba pozycji do zastąpienia nie jest wielokrotnością długości zamiany”"
     ]
    },
    {
     "name": "stdout",
     "output_type": "stream",
     "text": [
      "[1] 311\n"
     ]
    },
    {
     "name": "stderr",
     "output_type": "stream",
     "text": [
      "Warning message in forecasts[i] <- round(fc$mean):\n",
      "“liczba pozycji do zastąpienia nie jest wielokrotnością długości zamiany”"
     ]
    },
    {
     "name": "stdout",
     "output_type": "stream",
     "text": [
      "[1] 317\n"
     ]
    },
    {
     "name": "stderr",
     "output_type": "stream",
     "text": [
      "Warning message in forecasts[i] <- round(fc$mean):\n",
      "“liczba pozycji do zastąpienia nie jest wielokrotnością długości zamiany”"
     ]
    },
    {
     "name": "stdout",
     "output_type": "stream",
     "text": [
      "[1] 320\n"
     ]
    },
    {
     "name": "stderr",
     "output_type": "stream",
     "text": [
      "Warning message in forecasts[i] <- round(fc$mean):\n",
      "“liczba pozycji do zastąpienia nie jest wielokrotnością długości zamiany”"
     ]
    },
    {
     "name": "stdout",
     "output_type": "stream",
     "text": [
      "[1] 326\n"
     ]
    },
    {
     "name": "stderr",
     "output_type": "stream",
     "text": [
      "Warning message in forecasts[i] <- round(fc$mean):\n",
      "“liczba pozycji do zastąpienia nie jest wielokrotnością długości zamiany”"
     ]
    },
    {
     "name": "stdout",
     "output_type": "stream",
     "text": [
      "[1] 329\n"
     ]
    },
    {
     "name": "stderr",
     "output_type": "stream",
     "text": [
      "Warning message in forecasts[i] <- round(fc$mean):\n",
      "“liczba pozycji do zastąpienia nie jest wielokrotnością długości zamiany”"
     ]
    },
    {
     "name": "stdout",
     "output_type": "stream",
     "text": [
      "[1] 334\n"
     ]
    },
    {
     "name": "stderr",
     "output_type": "stream",
     "text": [
      "Warning message in forecasts[i] <- round(fc$mean):\n",
      "“liczba pozycji do zastąpienia nie jest wielokrotnością długości zamiany”"
     ]
    },
    {
     "name": "stdout",
     "output_type": "stream",
     "text": [
      "[1] 337\n"
     ]
    },
    {
     "name": "stderr",
     "output_type": "stream",
     "text": [
      "Warning message in forecasts[i] <- round(fc$mean):\n",
      "“liczba pozycji do zastąpienia nie jest wielokrotnością długości zamiany”"
     ]
    },
    {
     "name": "stdout",
     "output_type": "stream",
     "text": [
      "[1] 345\n"
     ]
    },
    {
     "name": "stderr",
     "output_type": "stream",
     "text": [
      "Warning message in forecasts[i] <- round(fc$mean):\n",
      "“liczba pozycji do zastąpienia nie jest wielokrotnością długości zamiany”"
     ]
    },
    {
     "name": "stdout",
     "output_type": "stream",
     "text": [
      "[1] 347\n"
     ]
    },
    {
     "name": "stderr",
     "output_type": "stream",
     "text": [
      "Warning message in forecasts[i] <- round(fc$mean):\n",
      "“liczba pozycji do zastąpienia nie jest wielokrotnością długości zamiany”"
     ]
    },
    {
     "name": "stdout",
     "output_type": "stream",
     "text": [
      "[1] 351\n"
     ]
    },
    {
     "name": "stderr",
     "output_type": "stream",
     "text": [
      "Warning message in forecasts[i] <- round(fc$mean):\n",
      "“liczba pozycji do zastąpienia nie jest wielokrotnością długości zamiany”"
     ]
    },
    {
     "name": "stdout",
     "output_type": "stream",
     "text": [
      "[1] 355\n"
     ]
    },
    {
     "name": "stderr",
     "output_type": "stream",
     "text": [
      "Warning message in forecasts[i] <- round(fc$mean):\n",
      "“liczba pozycji do zastąpienia nie jest wielokrotnością długości zamiany”"
     ]
    },
    {
     "name": "stdout",
     "output_type": "stream",
     "text": [
      "[1] 360\n"
     ]
    },
    {
     "name": "stderr",
     "output_type": "stream",
     "text": [
      "Warning message in forecasts[i] <- round(fc$mean):\n",
      "“liczba pozycji do zastąpienia nie jest wielokrotnością długości zamiany”"
     ]
    },
    {
     "name": "stdout",
     "output_type": "stream",
     "text": [
      "[1] 367\n"
     ]
    },
    {
     "name": "stderr",
     "output_type": "stream",
     "text": [
      "Warning message in forecasts[i] <- round(fc$mean):\n",
      "“liczba pozycji do zastąpienia nie jest wielokrotnością długości zamiany”"
     ]
    },
    {
     "name": "stdout",
     "output_type": "stream",
     "text": [
      "[1] 369\n"
     ]
    },
    {
     "name": "stderr",
     "output_type": "stream",
     "text": [
      "Warning message in forecasts[i] <- round(fc$mean):\n",
      "“liczba pozycji do zastąpienia nie jest wielokrotnością długości zamiany”"
     ]
    },
    {
     "name": "stdout",
     "output_type": "stream",
     "text": [
      "[1] 375\n"
     ]
    },
    {
     "name": "stderr",
     "output_type": "stream",
     "text": [
      "Warning message in forecasts[i] <- round(fc$mean):\n",
      "“liczba pozycji do zastąpienia nie jest wielokrotnością długości zamiany”"
     ]
    },
    {
     "name": "stdout",
     "output_type": "stream",
     "text": [
      "[1] 378\n"
     ]
    },
    {
     "name": "stderr",
     "output_type": "stream",
     "text": [
      "Warning message in forecasts[i] <- round(fc$mean):\n",
      "“liczba pozycji do zastąpienia nie jest wielokrotnością długości zamiany”"
     ]
    },
    {
     "name": "stdout",
     "output_type": "stream",
     "text": [
      "[1] 381\n"
     ]
    },
    {
     "name": "stderr",
     "output_type": "stream",
     "text": [
      "Warning message in forecasts[i] <- round(fc$mean):\n",
      "“liczba pozycji do zastąpienia nie jest wielokrotnością długości zamiany”"
     ]
    },
    {
     "name": "stdout",
     "output_type": "stream",
     "text": [
      "[1] 385\n"
     ]
    },
    {
     "name": "stderr",
     "output_type": "stream",
     "text": [
      "Warning message in forecasts[i] <- round(fc$mean):\n",
      "“liczba pozycji do zastąpienia nie jest wielokrotnością długości zamiany”"
     ]
    },
    {
     "name": "stdout",
     "output_type": "stream",
     "text": [
      "[1] 392\n"
     ]
    },
    {
     "name": "stderr",
     "output_type": "stream",
     "text": [
      "Warning message in forecasts[i] <- round(fc$mean):\n",
      "“liczba pozycji do zastąpienia nie jest wielokrotnością długości zamiany”"
     ]
    },
    {
     "name": "stdout",
     "output_type": "stream",
     "text": [
      "[1] 394\n"
     ]
    },
    {
     "name": "stderr",
     "output_type": "stream",
     "text": [
      "Warning message in forecasts[i] <- round(fc$mean):\n",
      "“liczba pozycji do zastąpienia nie jest wielokrotnością długości zamiany”"
     ]
    },
    {
     "name": "stdout",
     "output_type": "stream",
     "text": [
      "[1] 399\n"
     ]
    },
    {
     "name": "stderr",
     "output_type": "stream",
     "text": [
      "Warning message in forecasts[i] <- round(fc$mean):\n",
      "“liczba pozycji do zastąpienia nie jest wielokrotnością długości zamiany”"
     ]
    },
    {
     "name": "stdout",
     "output_type": "stream",
     "text": [
      "[1] 405\n"
     ]
    },
    {
     "name": "stderr",
     "output_type": "stream",
     "text": [
      "Warning message in forecasts[i] <- round(fc$mean):\n",
      "“liczba pozycji do zastąpienia nie jest wielokrotnością długości zamiany”"
     ]
    },
    {
     "name": "stdout",
     "output_type": "stream",
     "text": [
      "[1] 408\n"
     ]
    },
    {
     "name": "stderr",
     "output_type": "stream",
     "text": [
      "Warning message in forecasts[i] <- round(fc$mean):\n",
      "“liczba pozycji do zastąpienia nie jest wielokrotnością długości zamiany”"
     ]
    },
    {
     "name": "stdout",
     "output_type": "stream",
     "text": [
      "[1] 412\n"
     ]
    },
    {
     "name": "stderr",
     "output_type": "stream",
     "text": [
      "Warning message in forecasts[i] <- round(fc$mean):\n",
      "“liczba pozycji do zastąpienia nie jest wielokrotnością długości zamiany”"
     ]
    },
    {
     "name": "stdout",
     "output_type": "stream",
     "text": [
      "[1] 415\n"
     ]
    },
    {
     "name": "stderr",
     "output_type": "stream",
     "text": [
      "Warning message in forecasts[i] <- round(fc$mean):\n",
      "“liczba pozycji do zastąpienia nie jest wielokrotnością długości zamiany”"
     ]
    },
    {
     "name": "stdout",
     "output_type": "stream",
     "text": [
      "[1] 423\n"
     ]
    },
    {
     "name": "stderr",
     "output_type": "stream",
     "text": [
      "Warning message in forecasts[i] <- round(fc$mean):\n",
      "“liczba pozycji do zastąpienia nie jest wielokrotnością długości zamiany”"
     ]
    },
    {
     "name": "stdout",
     "output_type": "stream",
     "text": [
      "[1] 424\n"
     ]
    },
    {
     "name": "stderr",
     "output_type": "stream",
     "text": [
      "Warning message in forecasts[i] <- round(fc$mean):\n",
      "“liczba pozycji do zastąpienia nie jest wielokrotnością długości zamiany”"
     ]
    },
    {
     "name": "stdout",
     "output_type": "stream",
     "text": [
      "[1] 432\n"
     ]
    },
    {
     "name": "stderr",
     "output_type": "stream",
     "text": [
      "Warning message in forecasts[i] <- round(fc$mean):\n",
      "“liczba pozycji do zastąpienia nie jest wielokrotnością długości zamiany”"
     ]
    },
    {
     "name": "stdout",
     "output_type": "stream",
     "text": [
      "[1] 434\n"
     ]
    },
    {
     "name": "stderr",
     "output_type": "stream",
     "text": [
      "Warning message in forecasts[i] <- round(fc$mean):\n",
      "“liczba pozycji do zastąpienia nie jest wielokrotnością długości zamiany”"
     ]
    },
    {
     "name": "stdout",
     "output_type": "stream",
     "text": [
      "[1] 440\n"
     ]
    },
    {
     "name": "stderr",
     "output_type": "stream",
     "text": [
      "Warning message in forecasts[i] <- round(fc$mean):\n",
      "“liczba pozycji do zastąpienia nie jest wielokrotnością długości zamiany”"
     ]
    },
    {
     "name": "stdout",
     "output_type": "stream",
     "text": [
      "[1] 443\n"
     ]
    },
    {
     "name": "stderr",
     "output_type": "stream",
     "text": [
      "Warning message in forecasts[i] <- round(fc$mean):\n",
      "“liczba pozycji do zastąpienia nie jest wielokrotnością długości zamiany”"
     ]
    },
    {
     "name": "stdout",
     "output_type": "stream",
     "text": [
      "[1] 449\n"
     ]
    },
    {
     "name": "stderr",
     "output_type": "stream",
     "text": [
      "Warning message in forecasts[i] <- round(fc$mean):\n",
      "“liczba pozycji do zastąpienia nie jest wielokrotnością długości zamiany”"
     ]
    },
    {
     "name": "stdout",
     "output_type": "stream",
     "text": [
      "[1] 452\n"
     ]
    },
    {
     "name": "stderr",
     "output_type": "stream",
     "text": [
      "Warning message in forecasts[i] <- round(fc$mean):\n",
      "“liczba pozycji do zastąpienia nie jest wielokrotnością długości zamiany”"
     ]
    },
    {
     "name": "stdout",
     "output_type": "stream",
     "text": [
      "[1] 458\n"
     ]
    },
    {
     "name": "stderr",
     "output_type": "stream",
     "text": [
      "Warning message in forecasts[i] <- round(fc$mean):\n",
      "“liczba pozycji do zastąpienia nie jest wielokrotnością długości zamiany”"
     ]
    },
    {
     "name": "stdout",
     "output_type": "stream",
     "text": [
      "[1] 459\n"
     ]
    },
    {
     "name": "stderr",
     "output_type": "stream",
     "text": [
      "Warning message in forecasts[i] <- round(fc$mean):\n",
      "“liczba pozycji do zastąpienia nie jest wielokrotnością długości zamiany”"
     ]
    },
    {
     "name": "stdout",
     "output_type": "stream",
     "text": [
      "[1] 464\n"
     ]
    },
    {
     "name": "stderr",
     "output_type": "stream",
     "text": [
      "Warning message in forecasts[i] <- round(fc$mean):\n",
      "“liczba pozycji do zastąpienia nie jest wielokrotnością długości zamiany”"
     ]
    },
    {
     "name": "stdout",
     "output_type": "stream",
     "text": [
      "[1] 471\n"
     ]
    },
    {
     "name": "stderr",
     "output_type": "stream",
     "text": [
      "Warning message in forecasts[i] <- round(fc$mean):\n",
      "“liczba pozycji do zastąpienia nie jest wielokrotnością długości zamiany”"
     ]
    },
    {
     "name": "stdout",
     "output_type": "stream",
     "text": [
      "[1] 473\n"
     ]
    },
    {
     "name": "stderr",
     "output_type": "stream",
     "text": [
      "Warning message in forecasts[i] <- round(fc$mean):\n",
      "“liczba pozycji do zastąpienia nie jest wielokrotnością długości zamiany”"
     ]
    },
    {
     "name": "stdout",
     "output_type": "stream",
     "text": [
      "[1] 476\n"
     ]
    },
    {
     "name": "stderr",
     "output_type": "stream",
     "text": [
      "Warning message in forecasts[i] <- round(fc$mean):\n",
      "“liczba pozycji do zastąpienia nie jest wielokrotnością długości zamiany”"
     ]
    },
    {
     "name": "stdout",
     "output_type": "stream",
     "text": [
      "[1] 484\n"
     ]
    },
    {
     "name": "stderr",
     "output_type": "stream",
     "text": [
      "Warning message in forecasts[i] <- round(fc$mean):\n",
      "“liczba pozycji do zastąpienia nie jest wielokrotnością długości zamiany”"
     ]
    },
    {
     "name": "stdout",
     "output_type": "stream",
     "text": [
      "[1] 485\n"
     ]
    },
    {
     "name": "stderr",
     "output_type": "stream",
     "text": [
      "Warning message in forecasts[i] <- round(fc$mean):\n",
      "“liczba pozycji do zastąpienia nie jest wielokrotnością długości zamiany”"
     ]
    },
    {
     "name": "stdout",
     "output_type": "stream",
     "text": [
      "[1] 492\n"
     ]
    },
    {
     "name": "stderr",
     "output_type": "stream",
     "text": [
      "Warning message in forecasts[i] <- round(fc$mean):\n",
      "“liczba pozycji do zastąpienia nie jest wielokrotnością długości zamiany”"
     ]
    },
    {
     "name": "stdout",
     "output_type": "stream",
     "text": [
      "[1] 496\n"
     ]
    },
    {
     "name": "stderr",
     "output_type": "stream",
     "text": [
      "Warning message in forecasts[i] <- round(fc$mean):\n",
      "“liczba pozycji do zastąpienia nie jest wielokrotnością długości zamiany”"
     ]
    },
    {
     "name": "stdout",
     "output_type": "stream",
     "text": [
      "[1] 501\n"
     ]
    },
    {
     "name": "stderr",
     "output_type": "stream",
     "text": [
      "Warning message in forecasts[i] <- round(fc$mean):\n",
      "“liczba pozycji do zastąpienia nie jest wielokrotnością długości zamiany”"
     ]
    },
    {
     "name": "stdout",
     "output_type": "stream",
     "text": [
      "[1] 504\n"
     ]
    },
    {
     "name": "stderr",
     "output_type": "stream",
     "text": [
      "Warning message in forecasts[i] <- round(fc$mean):\n",
      "“liczba pozycji do zastąpienia nie jest wielokrotnością długości zamiany”"
     ]
    },
    {
     "name": "stdout",
     "output_type": "stream",
     "text": [
      "[1] 507\n"
     ]
    },
    {
     "name": "stderr",
     "output_type": "stream",
     "text": [
      "Warning message in forecasts[i] <- round(fc$mean):\n",
      "“liczba pozycji do zastąpienia nie jest wielokrotnością długości zamiany”"
     ]
    },
    {
     "name": "stdout",
     "output_type": "stream",
     "text": [
      "[1] 511\n"
     ]
    },
    {
     "name": "stderr",
     "output_type": "stream",
     "text": [
      "Warning message in forecasts[i] <- round(fc$mean):\n",
      "“liczba pozycji do zastąpienia nie jest wielokrotnością długości zamiany”"
     ]
    },
    {
     "name": "stdout",
     "output_type": "stream",
     "text": [
      "[1] 516\n"
     ]
    },
    {
     "name": "stderr",
     "output_type": "stream",
     "text": [
      "Warning message in forecasts[i] <- round(fc$mean):\n",
      "“liczba pozycji do zastąpienia nie jest wielokrotnością długości zamiany”"
     ]
    },
    {
     "name": "stdout",
     "output_type": "stream",
     "text": [
      "[1] 522\n"
     ]
    },
    {
     "name": "stderr",
     "output_type": "stream",
     "text": [
      "Warning message in forecasts[i] <- round(fc$mean):\n",
      "“liczba pozycji do zastąpienia nie jest wielokrotnością długości zamiany”"
     ]
    },
    {
     "name": "stdout",
     "output_type": "stream",
     "text": [
      "[1] 527\n"
     ]
    },
    {
     "name": "stderr",
     "output_type": "stream",
     "text": [
      "Warning message in forecasts[i] <- round(fc$mean):\n",
      "“liczba pozycji do zastąpienia nie jest wielokrotnością długości zamiany”"
     ]
    },
    {
     "name": "stdout",
     "output_type": "stream",
     "text": [
      "[1] 530\n"
     ]
    },
    {
     "name": "stderr",
     "output_type": "stream",
     "text": [
      "Warning message in forecasts[i] <- round(fc$mean):\n",
      "“liczba pozycji do zastąpienia nie jest wielokrotnością długości zamiany”"
     ]
    },
    {
     "name": "stdout",
     "output_type": "stream",
     "text": [
      "[1] 536\n"
     ]
    },
    {
     "name": "stderr",
     "output_type": "stream",
     "text": [
      "Warning message in forecasts[i] <- round(fc$mean):\n",
      "“liczba pozycji do zastąpienia nie jest wielokrotnością długości zamiany”"
     ]
    },
    {
     "name": "stdout",
     "output_type": "stream",
     "text": [
      "[1] 540\n"
     ]
    },
    {
     "name": "stderr",
     "output_type": "stream",
     "text": [
      "Warning message in forecasts[i] <- round(fc$mean):\n",
      "“liczba pozycji do zastąpienia nie jest wielokrotnością długości zamiany”"
     ]
    },
    {
     "name": "stdout",
     "output_type": "stream",
     "text": [
      "[1] 544\n"
     ]
    },
    {
     "name": "stderr",
     "output_type": "stream",
     "text": [
      "Warning message in forecasts[i] <- round(fc$mean):\n",
      "“liczba pozycji do zastąpienia nie jest wielokrotnością długości zamiany”"
     ]
    },
    {
     "name": "stdout",
     "output_type": "stream",
     "text": [
      "[1] 549\n"
     ]
    },
    {
     "name": "stderr",
     "output_type": "stream",
     "text": [
      "Warning message in forecasts[i] <- round(fc$mean):\n",
      "“liczba pozycji do zastąpienia nie jest wielokrotnością długości zamiany”"
     ]
    },
    {
     "name": "stdout",
     "output_type": "stream",
     "text": [
      "[1] 553\n"
     ]
    },
    {
     "name": "stderr",
     "output_type": "stream",
     "text": [
      "Warning message in forecasts[i] <- round(fc$mean):\n",
      "“liczba pozycji do zastąpienia nie jest wielokrotnością długości zamiany”"
     ]
    },
    {
     "name": "stdout",
     "output_type": "stream",
     "text": [
      "[1] 558\n"
     ]
    },
    {
     "name": "stderr",
     "output_type": "stream",
     "text": [
      "Warning message in forecasts[i] <- round(fc$mean):\n",
      "“liczba pozycji do zastąpienia nie jest wielokrotnością długości zamiany”"
     ]
    },
    {
     "name": "stdout",
     "output_type": "stream",
     "text": [
      "[1] 561\n"
     ]
    },
    {
     "name": "stderr",
     "output_type": "stream",
     "text": [
      "Warning message in forecasts[i] <- round(fc$mean):\n",
      "“liczba pozycji do zastąpienia nie jest wielokrotnością długości zamiany”"
     ]
    },
    {
     "name": "stdout",
     "output_type": "stream",
     "text": [
      "[1] 567\n"
     ]
    },
    {
     "name": "stderr",
     "output_type": "stream",
     "text": [
      "Warning message in forecasts[i] <- round(fc$mean):\n",
      "“liczba pozycji do zastąpienia nie jest wielokrotnością długości zamiany”"
     ]
    },
    {
     "name": "stdout",
     "output_type": "stream",
     "text": [
      "[1] 571\n"
     ]
    },
    {
     "name": "stderr",
     "output_type": "stream",
     "text": [
      "Warning message in forecasts[i] <- round(fc$mean):\n",
      "“liczba pozycji do zastąpienia nie jest wielokrotnością długości zamiany”"
     ]
    },
    {
     "name": "stdout",
     "output_type": "stream",
     "text": [
      "[1] 575\n"
     ]
    },
    {
     "name": "stderr",
     "output_type": "stream",
     "text": [
      "Warning message in forecasts[i] <- round(fc$mean):\n",
      "“liczba pozycji do zastąpienia nie jest wielokrotnością długości zamiany”"
     ]
    },
    {
     "name": "stdout",
     "output_type": "stream",
     "text": [
      "[1] 579\n"
     ]
    },
    {
     "name": "stderr",
     "output_type": "stream",
     "text": [
      "Warning message in forecasts[i] <- round(fc$mean):\n",
      "“liczba pozycji do zastąpienia nie jest wielokrotnością długości zamiany”"
     ]
    },
    {
     "name": "stdout",
     "output_type": "stream",
     "text": [
      "[1] 584\n"
     ]
    },
    {
     "name": "stderr",
     "output_type": "stream",
     "text": [
      "Warning message in forecasts[i] <- round(fc$mean):\n",
      "“liczba pozycji do zastąpienia nie jest wielokrotnością długości zamiany”"
     ]
    },
    {
     "name": "stdout",
     "output_type": "stream",
     "text": [
      "[1] 586\n"
     ]
    },
    {
     "name": "stderr",
     "output_type": "stream",
     "text": [
      "Warning message in forecasts[i] <- round(fc$mean):\n",
      "“liczba pozycji do zastąpienia nie jest wielokrotnością długości zamiany”"
     ]
    },
    {
     "name": "stdout",
     "output_type": "stream",
     "text": [
      "[1] 592\n"
     ]
    },
    {
     "name": "stderr",
     "output_type": "stream",
     "text": [
      "Warning message in forecasts[i] <- round(fc$mean):\n",
      "“liczba pozycji do zastąpienia nie jest wielokrotnością długości zamiany”"
     ]
    },
    {
     "name": "stdout",
     "output_type": "stream",
     "text": [
      "[1] 594\n"
     ]
    },
    {
     "name": "stderr",
     "output_type": "stream",
     "text": [
      "Warning message in forecasts[i] <- round(fc$mean):\n",
      "“liczba pozycji do zastąpienia nie jest wielokrotnością długości zamiany”"
     ]
    },
    {
     "name": "stdout",
     "output_type": "stream",
     "text": [
      "[1] 601\n"
     ]
    },
    {
     "name": "stderr",
     "output_type": "stream",
     "text": [
      "Warning message in forecasts[i] <- round(fc$mean):\n",
      "“liczba pozycji do zastąpienia nie jest wielokrotnością długości zamiany”"
     ]
    },
    {
     "name": "stdout",
     "output_type": "stream",
     "text": [
      "[1] 602\n"
     ]
    },
    {
     "name": "stderr",
     "output_type": "stream",
     "text": [
      "Warning message in forecasts[i] <- round(fc$mean):\n",
      "“liczba pozycji do zastąpienia nie jest wielokrotnością długości zamiany”"
     ]
    },
    {
     "name": "stdout",
     "output_type": "stream",
     "text": [
      "[1] 609\n"
     ]
    },
    {
     "name": "stderr",
     "output_type": "stream",
     "text": [
      "Warning message in forecasts[i] <- round(fc$mean):\n",
      "“liczba pozycji do zastąpienia nie jest wielokrotnością długości zamiany”"
     ]
    },
    {
     "name": "stdout",
     "output_type": "stream",
     "text": [
      "[1] 614\n"
     ]
    },
    {
     "name": "stderr",
     "output_type": "stream",
     "text": [
      "Warning message in forecasts[i] <- round(fc$mean):\n",
      "“liczba pozycji do zastąpienia nie jest wielokrotnością długości zamiany”"
     ]
    },
    {
     "name": "stdout",
     "output_type": "stream",
     "text": [
      "[1] 616\n"
     ]
    },
    {
     "name": "stderr",
     "output_type": "stream",
     "text": [
      "Warning message in forecasts[i] <- round(fc$mean):\n",
      "“liczba pozycji do zastąpienia nie jest wielokrotnością długości zamiany”"
     ]
    },
    {
     "name": "stdout",
     "output_type": "stream",
     "text": [
      "[1] 622\n"
     ]
    },
    {
     "name": "stderr",
     "output_type": "stream",
     "text": [
      "Warning message in forecasts[i] <- round(fc$mean):\n",
      "“liczba pozycji do zastąpienia nie jest wielokrotnością długości zamiany”"
     ]
    },
    {
     "name": "stdout",
     "output_type": "stream",
     "text": [
      "[1] 624\n"
     ]
    },
    {
     "name": "stderr",
     "output_type": "stream",
     "text": [
      "Warning message in forecasts[i] <- round(fc$mean):\n",
      "“liczba pozycji do zastąpienia nie jest wielokrotnością długości zamiany”"
     ]
    },
    {
     "name": "stdout",
     "output_type": "stream",
     "text": [
      "[1] 630\n"
     ]
    },
    {
     "name": "stderr",
     "output_type": "stream",
     "text": [
      "Warning message in forecasts[i] <- round(fc$mean):\n",
      "“liczba pozycji do zastąpienia nie jest wielokrotnością długości zamiany”"
     ]
    },
    {
     "name": "stdout",
     "output_type": "stream",
     "text": [
      "[1] 636\n"
     ]
    },
    {
     "name": "stderr",
     "output_type": "stream",
     "text": [
      "Warning message in forecasts[i] <- round(fc$mean):\n",
      "“liczba pozycji do zastąpienia nie jest wielokrotnością długości zamiany”"
     ]
    },
    {
     "name": "stdout",
     "output_type": "stream",
     "text": [
      "[1] 637\n"
     ]
    },
    {
     "name": "stderr",
     "output_type": "stream",
     "text": [
      "Warning message in forecasts[i] <- round(fc$mean):\n",
      "“liczba pozycji do zastąpienia nie jest wielokrotnością długości zamiany”"
     ]
    },
    {
     "name": "stdout",
     "output_type": "stream",
     "text": [
      "[1] 645\n"
     ]
    },
    {
     "name": "stderr",
     "output_type": "stream",
     "text": [
      "Warning message in forecasts[i] <- round(fc$mean):\n",
      "“liczba pozycji do zastąpienia nie jest wielokrotnością długości zamiany”"
     ]
    },
    {
     "name": "stdout",
     "output_type": "stream",
     "text": [
      "[1] 647\n"
     ]
    },
    {
     "name": "stderr",
     "output_type": "stream",
     "text": [
      "Warning message in forecasts[i] <- round(fc$mean):\n",
      "“liczba pozycji do zastąpienia nie jest wielokrotnością długości zamiany”"
     ]
    },
    {
     "name": "stdout",
     "output_type": "stream",
     "text": [
      "[1] 651\n"
     ]
    },
    {
     "name": "stderr",
     "output_type": "stream",
     "text": [
      "Warning message in forecasts[i] <- round(fc$mean):\n",
      "“liczba pozycji do zastąpienia nie jest wielokrotnością długości zamiany”"
     ]
    },
    {
     "name": "stdout",
     "output_type": "stream",
     "text": [
      "[1] 657\n"
     ]
    },
    {
     "name": "stderr",
     "output_type": "stream",
     "text": [
      "Warning message in forecasts[i] <- round(fc$mean):\n",
      "“liczba pozycji do zastąpienia nie jest wielokrotnością długości zamiany”"
     ]
    },
    {
     "name": "stdout",
     "output_type": "stream",
     "text": [
      "[1] 662\n"
     ]
    },
    {
     "name": "stderr",
     "output_type": "stream",
     "text": [
      "Warning message in forecasts[i] <- round(fc$mean):\n",
      "“liczba pozycji do zastąpienia nie jest wielokrotnością długości zamiany”"
     ]
    },
    {
     "name": "stdout",
     "output_type": "stream",
     "text": [
      "[1] 667\n"
     ]
    },
    {
     "name": "stderr",
     "output_type": "stream",
     "text": [
      "Warning message in forecasts[i] <- round(fc$mean):\n",
      "“liczba pozycji do zastąpienia nie jest wielokrotnością długości zamiany”"
     ]
    },
    {
     "name": "stdout",
     "output_type": "stream",
     "text": [
      "[1] 668\n"
     ]
    },
    {
     "name": "stderr",
     "output_type": "stream",
     "text": [
      "Warning message in forecasts[i] <- round(fc$mean):\n",
      "“liczba pozycji do zastąpienia nie jest wielokrotnością długości zamiany”"
     ]
    },
    {
     "name": "stdout",
     "output_type": "stream",
     "text": [
      "[1] 675\n"
     ]
    },
    {
     "name": "stderr",
     "output_type": "stream",
     "text": [
      "Warning message in forecasts[i] <- round(fc$mean):\n",
      "“liczba pozycji do zastąpienia nie jest wielokrotnością długości zamiany”"
     ]
    },
    {
     "name": "stdout",
     "output_type": "stream",
     "text": [
      "[1] 677\n"
     ]
    },
    {
     "name": "stderr",
     "output_type": "stream",
     "text": [
      "Warning message in forecasts[i] <- round(fc$mean):\n",
      "“liczba pozycji do zastąpienia nie jest wielokrotnością długości zamiany”"
     ]
    },
    {
     "name": "stdout",
     "output_type": "stream",
     "text": [
      "[1] 682\n"
     ]
    },
    {
     "name": "stderr",
     "output_type": "stream",
     "text": [
      "Warning message in forecasts[i] <- round(fc$mean):\n",
      "“liczba pozycji do zastąpienia nie jest wielokrotnością długości zamiany”"
     ]
    },
    {
     "name": "stdout",
     "output_type": "stream",
     "text": [
      "[1] 688\n"
     ]
    },
    {
     "name": "stderr",
     "output_type": "stream",
     "text": [
      "Warning message in forecasts[i] <- round(fc$mean):\n",
      "“liczba pozycji do zastąpienia nie jest wielokrotnością długości zamiany”"
     ]
    },
    {
     "name": "stdout",
     "output_type": "stream",
     "text": [
      "[1] 690\n"
     ]
    },
    {
     "name": "stderr",
     "output_type": "stream",
     "text": [
      "Warning message in forecasts[i] <- round(fc$mean):\n",
      "“liczba pozycji do zastąpienia nie jest wielokrotnością długości zamiany”"
     ]
    },
    {
     "name": "stdout",
     "output_type": "stream",
     "text": [
      "[1] 697\n"
     ]
    },
    {
     "name": "stderr",
     "output_type": "stream",
     "text": [
      "Warning message in forecasts[i] <- round(fc$mean):\n",
      "“liczba pozycji do zastąpienia nie jest wielokrotnością długości zamiany”"
     ]
    },
    {
     "name": "stdout",
     "output_type": "stream",
     "text": [
      "[1] 698\n"
     ]
    },
    {
     "name": "stderr",
     "output_type": "stream",
     "text": [
      "Warning message in forecasts[i] <- round(fc$mean):\n",
      "“liczba pozycji do zastąpienia nie jest wielokrotnością długości zamiany”"
     ]
    },
    {
     "name": "stdout",
     "output_type": "stream",
     "text": [
      "[1] 703\n"
     ]
    },
    {
     "name": "stderr",
     "output_type": "stream",
     "text": [
      "Warning message in forecasts[i] <- round(fc$mean):\n",
      "“liczba pozycji do zastąpienia nie jest wielokrotnością długości zamiany”"
     ]
    },
    {
     "name": "stdout",
     "output_type": "stream",
     "text": [
      "[1] 709\n"
     ]
    },
    {
     "name": "stderr",
     "output_type": "stream",
     "text": [
      "Warning message in forecasts[i] <- round(fc$mean):\n",
      "“liczba pozycji do zastąpienia nie jest wielokrotnością długości zamiany”"
     ]
    },
    {
     "name": "stdout",
     "output_type": "stream",
     "text": [
      "[1] 711\n"
     ]
    },
    {
     "name": "stderr",
     "output_type": "stream",
     "text": [
      "Warning message in forecasts[i] <- round(fc$mean):\n",
      "“liczba pozycji do zastąpienia nie jest wielokrotnością długości zamiany”"
     ]
    },
    {
     "name": "stdout",
     "output_type": "stream",
     "text": [
      "[1] 719\n"
     ]
    },
    {
     "name": "stderr",
     "output_type": "stream",
     "text": [
      "Warning message in forecasts[i] <- round(fc$mean):\n",
      "“liczba pozycji do zastąpienia nie jest wielokrotnością długości zamiany”"
     ]
    },
    {
     "name": "stdout",
     "output_type": "stream",
     "text": [
      "[1] 721\n"
     ]
    },
    {
     "name": "stderr",
     "output_type": "stream",
     "text": [
      "Warning message in forecasts[i] <- round(fc$mean):\n",
      "“liczba pozycji do zastąpienia nie jest wielokrotnością długości zamiany”"
     ]
    },
    {
     "name": "stdout",
     "output_type": "stream",
     "text": [
      "[1] 724\n"
     ]
    },
    {
     "name": "stderr",
     "output_type": "stream",
     "text": [
      "Warning message in forecasts[i] <- round(fc$mean):\n",
      "“liczba pozycji do zastąpienia nie jest wielokrotnością długości zamiany”"
     ]
    },
    {
     "name": "stdout",
     "output_type": "stream",
     "text": [
      "[1] 731\n"
     ]
    },
    {
     "name": "stderr",
     "output_type": "stream",
     "text": [
      "Warning message in forecasts[i] <- round(fc$mean):\n",
      "“liczba pozycji do zastąpienia nie jest wielokrotnością długości zamiany”"
     ]
    },
    {
     "name": "stdout",
     "output_type": "stream",
     "text": [
      "[1] 734\n"
     ]
    },
    {
     "name": "stderr",
     "output_type": "stream",
     "text": [
      "Warning message in forecasts[i] <- round(fc$mean):\n",
      "“liczba pozycji do zastąpienia nie jest wielokrotnością długości zamiany”"
     ]
    },
    {
     "name": "stdout",
     "output_type": "stream",
     "text": [
      "[1] 738\n"
     ]
    },
    {
     "name": "stderr",
     "output_type": "stream",
     "text": [
      "Warning message in forecasts[i] <- round(fc$mean):\n",
      "“liczba pozycji do zastąpienia nie jest wielokrotnością długości zamiany”"
     ]
    },
    {
     "name": "stdout",
     "output_type": "stream",
     "text": [
      "[1] 744\n"
     ]
    },
    {
     "name": "stderr",
     "output_type": "stream",
     "text": [
      "Warning message in forecasts[i] <- round(fc$mean):\n",
      "“liczba pozycji do zastąpienia nie jest wielokrotnością długości zamiany”"
     ]
    },
    {
     "name": "stdout",
     "output_type": "stream",
     "text": [
      "[1] 747\n"
     ]
    },
    {
     "name": "stderr",
     "output_type": "stream",
     "text": [
      "Warning message in forecasts[i] <- round(fc$mean):\n",
      "“liczba pozycji do zastąpienia nie jest wielokrotnością długości zamiany”"
     ]
    },
    {
     "name": "stdout",
     "output_type": "stream",
     "text": [
      "[1] 752\n"
     ]
    },
    {
     "name": "stderr",
     "output_type": "stream",
     "text": [
      "Warning message in forecasts[i] <- round(fc$mean):\n",
      "“liczba pozycji do zastąpienia nie jest wielokrotnością długości zamiany”"
     ]
    },
    {
     "name": "stdout",
     "output_type": "stream",
     "text": [
      "[1] 758\n"
     ]
    },
    {
     "name": "stderr",
     "output_type": "stream",
     "text": [
      "Warning message in forecasts[i] <- round(fc$mean):\n",
      "“liczba pozycji do zastąpienia nie jest wielokrotnością długości zamiany”"
     ]
    },
    {
     "name": "stdout",
     "output_type": "stream",
     "text": [
      "[1] 761\n"
     ]
    },
    {
     "name": "stderr",
     "output_type": "stream",
     "text": [
      "Warning message in forecasts[i] <- round(fc$mean):\n",
      "“liczba pozycji do zastąpienia nie jest wielokrotnością długości zamiany”"
     ]
    },
    {
     "name": "stdout",
     "output_type": "stream",
     "text": [
      "[1] 763\n"
     ]
    },
    {
     "name": "stderr",
     "output_type": "stream",
     "text": [
      "Warning message in forecasts[i] <- round(fc$mean):\n",
      "“liczba pozycji do zastąpienia nie jest wielokrotnością długości zamiany”"
     ]
    },
    {
     "name": "stdout",
     "output_type": "stream",
     "text": [
      "[1] 769\n"
     ]
    },
    {
     "name": "stderr",
     "output_type": "stream",
     "text": [
      "Warning message in forecasts[i] <- round(fc$mean):\n",
      "“liczba pozycji do zastąpienia nie jest wielokrotnością długości zamiany”"
     ]
    },
    {
     "name": "stdout",
     "output_type": "stream",
     "text": [
      "[1] 773\n"
     ]
    },
    {
     "name": "stderr",
     "output_type": "stream",
     "text": [
      "Warning message in forecasts[i] <- round(fc$mean):\n",
      "“liczba pozycji do zastąpienia nie jest wielokrotnością długości zamiany”"
     ]
    },
    {
     "name": "stdout",
     "output_type": "stream",
     "text": [
      "[1] 778\n"
     ]
    },
    {
     "name": "stderr",
     "output_type": "stream",
     "text": [
      "Warning message in forecasts[i] <- round(fc$mean):\n",
      "“liczba pozycji do zastąpienia nie jest wielokrotnością długości zamiany”"
     ]
    },
    {
     "name": "stdout",
     "output_type": "stream",
     "text": [
      "[1] 783\n"
     ]
    },
    {
     "name": "stderr",
     "output_type": "stream",
     "text": [
      "Warning message in forecasts[i] <- round(fc$mean):\n",
      "“liczba pozycji do zastąpienia nie jest wielokrotnością długości zamiany”"
     ]
    },
    {
     "name": "stdout",
     "output_type": "stream",
     "text": [
      "[1] 786\n"
     ]
    },
    {
     "name": "stderr",
     "output_type": "stream",
     "text": [
      "Warning message in forecasts[i] <- round(fc$mean):\n",
      "“liczba pozycji do zastąpienia nie jest wielokrotnością długości zamiany”"
     ]
    },
    {
     "name": "stdout",
     "output_type": "stream",
     "text": [
      "[1] 793\n"
     ]
    },
    {
     "name": "stderr",
     "output_type": "stream",
     "text": [
      "Warning message in forecasts[i] <- round(fc$mean):\n",
      "“liczba pozycji do zastąpienia nie jest wielokrotnością długości zamiany”"
     ]
    },
    {
     "name": "stdout",
     "output_type": "stream",
     "text": [
      "[1] 796\n"
     ]
    },
    {
     "name": "stderr",
     "output_type": "stream",
     "text": [
      "Warning message in forecasts[i] <- round(fc$mean):\n",
      "“liczba pozycji do zastąpienia nie jest wielokrotnością długości zamiany”"
     ]
    },
    {
     "name": "stdout",
     "output_type": "stream",
     "text": [
      "[1] 801\n"
     ]
    },
    {
     "name": "stderr",
     "output_type": "stream",
     "text": [
      "Warning message in forecasts[i] <- round(fc$mean):\n",
      "“liczba pozycji do zastąpienia nie jest wielokrotnością długości zamiany”"
     ]
    },
    {
     "name": "stdout",
     "output_type": "stream",
     "text": [
      "[1] 805\n"
     ]
    },
    {
     "name": "stderr",
     "output_type": "stream",
     "text": [
      "Warning message in forecasts[i] <- round(fc$mean):\n",
      "“liczba pozycji do zastąpienia nie jest wielokrotnością długości zamiany”"
     ]
    },
    {
     "name": "stdout",
     "output_type": "stream",
     "text": [
      "[1] 808\n"
     ]
    },
    {
     "name": "stderr",
     "output_type": "stream",
     "text": [
      "Warning message in forecasts[i] <- round(fc$mean):\n",
      "“liczba pozycji do zastąpienia nie jest wielokrotnością długości zamiany”"
     ]
    },
    {
     "name": "stdout",
     "output_type": "stream",
     "text": [
      "[1] 814\n"
     ]
    },
    {
     "name": "stderr",
     "output_type": "stream",
     "text": [
      "Warning message in forecasts[i] <- round(fc$mean):\n",
      "“liczba pozycji do zastąpienia nie jest wielokrotnością długości zamiany”"
     ]
    },
    {
     "name": "stdout",
     "output_type": "stream",
     "text": [
      "[1] 817\n"
     ]
    },
    {
     "name": "stderr",
     "output_type": "stream",
     "text": [
      "Warning message in forecasts[i] <- round(fc$mean):\n",
      "“liczba pozycji do zastąpienia nie jest wielokrotnością długości zamiany”"
     ]
    },
    {
     "name": "stdout",
     "output_type": "stream",
     "text": [
      "[1] 823\n"
     ]
    },
    {
     "name": "stderr",
     "output_type": "stream",
     "text": [
      "Warning message in forecasts[i] <- round(fc$mean):\n",
      "“liczba pozycji do zastąpienia nie jest wielokrotnością długości zamiany”"
     ]
    },
    {
     "name": "stdout",
     "output_type": "stream",
     "text": [
      "[1] 827\n"
     ]
    },
    {
     "name": "stderr",
     "output_type": "stream",
     "text": [
      "Warning message in forecasts[i] <- round(fc$mean):\n",
      "“liczba pozycji do zastąpienia nie jest wielokrotnością długości zamiany”"
     ]
    },
    {
     "name": "stdout",
     "output_type": "stream",
     "text": [
      "[1] 829\n"
     ]
    },
    {
     "name": "stderr",
     "output_type": "stream",
     "text": [
      "Warning message in forecasts[i] <- round(fc$mean):\n",
      "“liczba pozycji do zastąpienia nie jest wielokrotnością długości zamiany”"
     ]
    },
    {
     "name": "stdout",
     "output_type": "stream",
     "text": [
      "[1] 834\n"
     ]
    },
    {
     "name": "stderr",
     "output_type": "stream",
     "text": [
      "Warning message in forecasts[i] <- round(fc$mean):\n",
      "“liczba pozycji do zastąpienia nie jest wielokrotnością długości zamiany”"
     ]
    },
    {
     "name": "stdout",
     "output_type": "stream",
     "text": [
      "[1] 837\n"
     ]
    },
    {
     "name": "stderr",
     "output_type": "stream",
     "text": [
      "Warning message in forecasts[i] <- round(fc$mean):\n",
      "“liczba pozycji do zastąpienia nie jest wielokrotnością długości zamiany”"
     ]
    },
    {
     "name": "stdout",
     "output_type": "stream",
     "text": [
      "[1] 0\n",
      "[1] 4\n",
      "[1] 7\n",
      "[1] 14\n",
      "[1] 16\n",
      "[1] 23\n",
      "[1] 25\n",
      "[1] 32\n",
      "[1] 36\n",
      "[1] 37\n",
      "[1] 44\n",
      "[1] 46\n",
      "[1] 53\n",
      "[1] 55\n",
      "[1] 59\n",
      "[1] 63\n",
      "[1] 71\n",
      "[1] 73\n",
      "[1] 78\n",
      "[1] 81\n",
      "[1] 86\n",
      "[1] 90\n",
      "[1] 94\n",
      "[1] 99\n",
      "[1] 104\n",
      "[1] 110\n",
      "[1] 115\n",
      "[1] 116\n",
      "[1] 120\n",
      "[1] 124\n",
      "[1] 131\n",
      "[1] 136\n",
      "[1] 139\n",
      "[1] 144\n",
      "[1] 147\n",
      "[1] 153\n",
      "[1] 157\n",
      "[1] 161\n",
      "[1] 164\n",
      "[1] 168\n",
      "[1] 174\n",
      "[1] 178\n",
      "[1] 180\n",
      "[1] 185\n",
      "[1] 189\n",
      "[1] 194\n",
      "[1] 199\n",
      "[1] 205\n",
      "[1] 207\n",
      "[1] 212\n",
      "[1] 215\n",
      "[1] 220\n",
      "[1] 226\n",
      "[1] 228\n",
      "[1] 236\n",
      "[1] 238\n",
      "[1] 245\n",
      "[1] 248\n",
      "[1] 252\n",
      "[1] 255\n",
      "[1] 259\n",
      "[1] 264\n",
      "[1] 269\n",
      "[1] 273\n",
      "[1] 279\n",
      "[1] 283\n",
      "[1] 287\n",
      "[1] 289\n",
      "[1] 297\n",
      "[1] 301\n",
      "[1] 304\n",
      "[1] 307\n",
      "[1] 311\n",
      "[1] 317\n",
      "[1] 320\n",
      "[1] 326\n",
      "[1] 329\n",
      "[1] 334\n",
      "[1] 337\n",
      "[1] 345\n",
      "[1] 347\n",
      "[1] 351\n",
      "[1] 355\n",
      "[1] 360\n",
      "[1] 367\n",
      "[1] 369\n",
      "[1] 375\n",
      "[1] 378\n",
      "[1] 381\n",
      "[1] 385\n",
      "[1] 392\n",
      "[1] 394\n",
      "[1] 399\n",
      "[1] 405\n",
      "[1] 408\n",
      "[1] 412\n",
      "[1] 415\n",
      "[1] 423\n",
      "[1] 424\n",
      "[1] 432\n",
      "[1] 434\n",
      "[1] 440\n",
      "[1] 443\n",
      "[1] 449\n",
      "[1] 452\n",
      "[1] 458\n",
      "[1] 459\n",
      "[1] 464\n",
      "[1] 471\n",
      "[1] 473\n",
      "[1] 476\n",
      "[1] 484\n",
      "[1] 485\n",
      "[1] 492\n",
      "[1] 496\n",
      "[1] 501\n",
      "[1] 504\n",
      "[1] 507\n",
      "[1] 511\n",
      "[1] 516\n",
      "[1] 522\n",
      "[1] 527\n",
      "[1] 530\n",
      "[1] 536\n",
      "[1] 540\n",
      "[1] 544\n",
      "[1] 549\n",
      "[1] 553\n",
      "[1] 558\n",
      "[1] 561\n",
      "[1] 567\n",
      "[1] 571\n",
      "[1] 575\n",
      "[1] 579\n",
      "[1] 584\n",
      "[1] 586\n",
      "[1] 592\n",
      "[1] 594\n",
      "[1] 601\n",
      "[1] 602\n",
      "[1] 609\n",
      "[1] 614\n",
      "[1] 616\n",
      "[1] 622\n",
      "[1] 624\n",
      "[1] 630\n",
      "[1] 636\n",
      "[1] 637\n",
      "[1] 645\n",
      "[1] 647\n",
      "[1] 651\n",
      "[1] 657\n",
      "[1] 662\n",
      "[1] 667\n",
      "[1] 668\n",
      "[1] 675\n",
      "[1] 677\n",
      "[1] 682\n",
      "[1] 688\n",
      "[1] 690\n",
      "[1] 697\n",
      "[1] 698\n",
      "[1] 703\n",
      "[1] 709\n",
      "[1] 711\n",
      "[1] 719\n",
      "[1] 721\n",
      "[1] 724\n",
      "[1] 731\n",
      "[1] 734\n",
      "[1] 738\n",
      "[1] 744\n",
      "[1] 747\n",
      "[1] 752\n",
      "[1] 758\n",
      "[1] 761\n",
      "[1] 763\n",
      "[1] 769\n",
      "[1] 773\n",
      "[1] 778\n",
      "[1] 783\n",
      "[1] 786\n",
      "[1] 793\n",
      "[1] 796\n",
      "[1] 801\n",
      "[1] 805\n",
      "[1] 808\n",
      "[1] 814\n",
      "[1] 817\n",
      "[1] 823\n",
      "[1] 827\n",
      "[1] 829\n",
      "[1] 834\n",
      "[1] 837\n"
     ]
    }
   ],
   "source": [
    "training_history = c(1, 2)\n",
    "methods = c(\"ets\", \"arima\", \"naive\", \"ericsson\")\n",
    "io_storage = c(\"kernel\", \"IO_Storage\")\n",
    "networking = c(\"kernel\", \"networking\")\n",
    "calendar = c(\"mozilla\", \"calendar\")\n",
    "products = rbind(calendar, io_storage, networking)\n",
    "\n",
    "for(i in 1:nrow(products)){\n",
    "    for(j in 1:length(methods)){\n",
    "        if(methods[j] == \"arima\") {\n",
    "            for(k in 1:length(training_history)){\n",
    "                arima_prediction(training_history[k], products[i,])\n",
    "            }\n",
    "        } else if(methods[j] == \"ets\") {\n",
    "            for(k in 1:length(training_history)){\n",
    "                ets_prediction(training_history[k], products[i,])\n",
    "            }\n",
    "        } else if (methods[j] == \"naive\"){\n",
    "            naive_prediction(products[i,])\n",
    "        } else if (methods[j] == \"ericsson\"){\n",
    "            ericsson_prediction(products[i,])\n",
    "        }\n",
    "    }\n",
    "}\n"
   ]
  },
  {
   "cell_type": "code",
   "execution_count": 220,
   "metadata": {},
   "outputs": [
    {
     "data": {
      "text/html": [
       "<table>\n",
       "<thead><tr><th scope=col>Week</th><th scope=col>Actual</th><th scope=col>Forecast</th><th scope=col>Absolute_Error</th></tr></thead>\n",
       "<tbody>\n",
       "\t<tr><td>  1</td><td>  1</td><td> NA</td><td>NA </td></tr>\n",
       "\t<tr><td>  4</td><td>  1</td><td>  1</td><td> 0 </td></tr>\n",
       "\t<tr><td>  9</td><td>  1</td><td>  1</td><td> 0 </td></tr>\n",
       "\t<tr><td> 15</td><td>  1</td><td>  1</td><td> 0 </td></tr>\n",
       "\t<tr><td> 17</td><td>  1</td><td>  1</td><td> 0 </td></tr>\n",
       "\t<tr><td> 22</td><td>  1</td><td>  1</td><td> 0 </td></tr>\n",
       "\t<tr><td> 27</td><td>  1</td><td>  1</td><td> 0 </td></tr>\n",
       "\t<tr><td> 33</td><td>  1</td><td>  1</td><td> 0 </td></tr>\n",
       "\t<tr><td> 34</td><td>  1</td><td>  1</td><td> 0 </td></tr>\n",
       "\t<tr><td> 41</td><td>  1</td><td>  1</td><td> 0 </td></tr>\n",
       "\t<tr><td> 44</td><td>  1</td><td>  1</td><td> 0 </td></tr>\n",
       "\t<tr><td> 47</td><td>  1</td><td>  1</td><td> 0 </td></tr>\n",
       "\t<tr><td> 52</td><td>  8</td><td>  1</td><td> 7 </td></tr>\n",
       "\t<tr><td> 59</td><td> 48</td><td> 46</td><td> 2 </td></tr>\n",
       "\t<tr><td> 63</td><td> 85</td><td> 65</td><td>20 </td></tr>\n",
       "\t<tr><td> 65</td><td> 95</td><td>105</td><td>10 </td></tr>\n",
       "\t<tr><td> 72</td><td>175</td><td>162</td><td>13 </td></tr>\n",
       "\t<tr><td> 75</td><td>213</td><td>226</td><td>13 </td></tr>\n",
       "\t<tr><td> 78</td><td>237</td><td>238</td><td> 1 </td></tr>\n",
       "\t<tr><td> 85</td><td>305</td><td>296</td><td> 9 </td></tr>\n",
       "\t<tr><td> 89</td><td>356</td><td>353</td><td> 3 </td></tr>\n",
       "\t<tr><td> 94</td><td>479</td><td>467</td><td>12 </td></tr>\n",
       "\t<tr><td> 96</td><td>555</td><td>550</td><td> 5 </td></tr>\n",
       "\t<tr><td>102</td><td>628</td><td>616</td><td>12 </td></tr>\n",
       "\t<tr><td>107</td><td>698</td><td>698</td><td> 0 </td></tr>\n",
       "\t<tr><td>110</td><td>722</td><td>732</td><td>10 </td></tr>\n",
       "\t<tr><td>116</td><td>805</td><td>819</td><td>14 </td></tr>\n",
       "\t<tr><td>120</td><td>860</td><td>860</td><td> 0 </td></tr>\n",
       "\t<tr><td>123</td><td>915</td><td>899</td><td>16 </td></tr>\n",
       "\t<tr><td>125</td><td>950</td><td>953</td><td> 3 </td></tr>\n",
       "\t<tr><td>⋮</td><td>⋮</td><td>⋮</td><td>⋮</td></tr>\n",
       "\t<tr><td>817</td><td>638</td><td>632</td><td> 6 </td></tr>\n",
       "\t<tr><td>824</td><td>654</td><td>667</td><td>13 </td></tr>\n",
       "\t<tr><td>826</td><td>655</td><td>657</td><td> 2 </td></tr>\n",
       "\t<tr><td>831</td><td>664</td><td>663</td><td> 1 </td></tr>\n",
       "\t<tr><td>834</td><td>617</td><td>611</td><td> 6 </td></tr>\n",
       "\t<tr><td>841</td><td>611</td><td>612</td><td> 1 </td></tr>\n",
       "\t<tr><td>844</td><td>617</td><td>623</td><td> 6 </td></tr>\n",
       "\t<tr><td>849</td><td>613</td><td>614</td><td> 1 </td></tr>\n",
       "\t<tr><td>853</td><td>617</td><td>624</td><td> 7 </td></tr>\n",
       "\t<tr><td>859</td><td>515</td><td>542</td><td>27 </td></tr>\n",
       "\t<tr><td>863</td><td>500</td><td>508</td><td> 8 </td></tr>\n",
       "\t<tr><td>865</td><td>491</td><td>490</td><td> 1 </td></tr>\n",
       "\t<tr><td>869</td><td>475</td><td>474</td><td> 1 </td></tr>\n",
       "\t<tr><td>874</td><td>458</td><td>463</td><td> 5 </td></tr>\n",
       "\t<tr><td>878</td><td>446</td><td>441</td><td> 5 </td></tr>\n",
       "\t<tr><td>885</td><td>422</td><td>424</td><td> 2 </td></tr>\n",
       "\t<tr><td>888</td><td>415</td><td>411</td><td> 4 </td></tr>\n",
       "\t<tr><td>893</td><td>387</td><td>372</td><td>15 </td></tr>\n",
       "\t<tr><td>896</td><td>355</td><td>359</td><td> 4 </td></tr>\n",
       "\t<tr><td>901</td><td>352</td><td>358</td><td> 6 </td></tr>\n",
       "\t<tr><td>903</td><td>349</td><td>343</td><td> 6 </td></tr>\n",
       "\t<tr><td>909</td><td>336</td><td>339</td><td> 3 </td></tr>\n",
       "\t<tr><td>914</td><td>328</td><td>321</td><td> 7 </td></tr>\n",
       "\t<tr><td>918</td><td>335</td><td>337</td><td> 2 </td></tr>\n",
       "\t<tr><td>921</td><td>332</td><td>323</td><td> 9 </td></tr>\n",
       "\t<tr><td>925</td><td>317</td><td>321</td><td> 4 </td></tr>\n",
       "\t<tr><td>932</td><td>224</td><td>223</td><td> 1 </td></tr>\n",
       "\t<tr><td>937</td><td>185</td><td>183</td><td> 2 </td></tr>\n",
       "\t<tr><td>942</td><td>136</td><td>126</td><td>10 </td></tr>\n",
       "\t<tr><td>943</td><td>145</td><td>127</td><td>18 </td></tr>\n",
       "</tbody>\n",
       "</table>\n"
      ],
      "text/latex": [
       "\\begin{tabular}{r|llll}\n",
       " Week & Actual & Forecast & Absolute\\_Error\\\\\n",
       "\\hline\n",
       "\t   1 &   1 &  NA & NA \\\\\n",
       "\t   4 &   1 &   1 &  0 \\\\\n",
       "\t   9 &   1 &   1 &  0 \\\\\n",
       "\t  15 &   1 &   1 &  0 \\\\\n",
       "\t  17 &   1 &   1 &  0 \\\\\n",
       "\t  22 &   1 &   1 &  0 \\\\\n",
       "\t  27 &   1 &   1 &  0 \\\\\n",
       "\t  33 &   1 &   1 &  0 \\\\\n",
       "\t  34 &   1 &   1 &  0 \\\\\n",
       "\t  41 &   1 &   1 &  0 \\\\\n",
       "\t  44 &   1 &   1 &  0 \\\\\n",
       "\t  47 &   1 &   1 &  0 \\\\\n",
       "\t  52 &   8 &   1 &  7 \\\\\n",
       "\t  59 &  48 &  46 &  2 \\\\\n",
       "\t  63 &  85 &  65 & 20 \\\\\n",
       "\t  65 &  95 & 105 & 10 \\\\\n",
       "\t  72 & 175 & 162 & 13 \\\\\n",
       "\t  75 & 213 & 226 & 13 \\\\\n",
       "\t  78 & 237 & 238 &  1 \\\\\n",
       "\t  85 & 305 & 296 &  9 \\\\\n",
       "\t  89 & 356 & 353 &  3 \\\\\n",
       "\t  94 & 479 & 467 & 12 \\\\\n",
       "\t  96 & 555 & 550 &  5 \\\\\n",
       "\t 102 & 628 & 616 & 12 \\\\\n",
       "\t 107 & 698 & 698 &  0 \\\\\n",
       "\t 110 & 722 & 732 & 10 \\\\\n",
       "\t 116 & 805 & 819 & 14 \\\\\n",
       "\t 120 & 860 & 860 &  0 \\\\\n",
       "\t 123 & 915 & 899 & 16 \\\\\n",
       "\t 125 & 950 & 953 &  3 \\\\\n",
       "\t ⋮ & ⋮ & ⋮ & ⋮\\\\\n",
       "\t 817 & 638 & 632 &  6 \\\\\n",
       "\t 824 & 654 & 667 & 13 \\\\\n",
       "\t 826 & 655 & 657 &  2 \\\\\n",
       "\t 831 & 664 & 663 &  1 \\\\\n",
       "\t 834 & 617 & 611 &  6 \\\\\n",
       "\t 841 & 611 & 612 &  1 \\\\\n",
       "\t 844 & 617 & 623 &  6 \\\\\n",
       "\t 849 & 613 & 614 &  1 \\\\\n",
       "\t 853 & 617 & 624 &  7 \\\\\n",
       "\t 859 & 515 & 542 & 27 \\\\\n",
       "\t 863 & 500 & 508 &  8 \\\\\n",
       "\t 865 & 491 & 490 &  1 \\\\\n",
       "\t 869 & 475 & 474 &  1 \\\\\n",
       "\t 874 & 458 & 463 &  5 \\\\\n",
       "\t 878 & 446 & 441 &  5 \\\\\n",
       "\t 885 & 422 & 424 &  2 \\\\\n",
       "\t 888 & 415 & 411 &  4 \\\\\n",
       "\t 893 & 387 & 372 & 15 \\\\\n",
       "\t 896 & 355 & 359 &  4 \\\\\n",
       "\t 901 & 352 & 358 &  6 \\\\\n",
       "\t 903 & 349 & 343 &  6 \\\\\n",
       "\t 909 & 336 & 339 &  3 \\\\\n",
       "\t 914 & 328 & 321 &  7 \\\\\n",
       "\t 918 & 335 & 337 &  2 \\\\\n",
       "\t 921 & 332 & 323 &  9 \\\\\n",
       "\t 925 & 317 & 321 &  4 \\\\\n",
       "\t 932 & 224 & 223 &  1 \\\\\n",
       "\t 937 & 185 & 183 &  2 \\\\\n",
       "\t 942 & 136 & 126 & 10 \\\\\n",
       "\t 943 & 145 & 127 & 18 \\\\\n",
       "\\end{tabular}\n"
      ],
      "text/markdown": [
       "\n",
       "Week | Actual | Forecast | Absolute_Error | \n",
       "|---|---|---|---|---|---|---|---|---|---|---|---|---|---|---|---|---|---|---|---|---|---|---|---|---|---|---|---|---|---|---|---|---|---|---|---|---|---|---|---|---|---|---|---|---|---|---|---|---|---|---|---|---|---|---|---|---|---|---|---|---|\n",
       "|   1 |   1 |  NA | NA  | \n",
       "|   4 |   1 |   1 |  0  | \n",
       "|   9 |   1 |   1 |  0  | \n",
       "|  15 |   1 |   1 |  0  | \n",
       "|  17 |   1 |   1 |  0  | \n",
       "|  22 |   1 |   1 |  0  | \n",
       "|  27 |   1 |   1 |  0  | \n",
       "|  33 |   1 |   1 |  0  | \n",
       "|  34 |   1 |   1 |  0  | \n",
       "|  41 |   1 |   1 |  0  | \n",
       "|  44 |   1 |   1 |  0  | \n",
       "|  47 |   1 |   1 |  0  | \n",
       "|  52 |   8 |   1 |  7  | \n",
       "|  59 |  48 |  46 |  2  | \n",
       "|  63 |  85 |  65 | 20  | \n",
       "|  65 |  95 | 105 | 10  | \n",
       "|  72 | 175 | 162 | 13  | \n",
       "|  75 | 213 | 226 | 13  | \n",
       "|  78 | 237 | 238 |  1  | \n",
       "|  85 | 305 | 296 |  9  | \n",
       "|  89 | 356 | 353 |  3  | \n",
       "|  94 | 479 | 467 | 12  | \n",
       "|  96 | 555 | 550 |  5  | \n",
       "| 102 | 628 | 616 | 12  | \n",
       "| 107 | 698 | 698 |  0  | \n",
       "| 110 | 722 | 732 | 10  | \n",
       "| 116 | 805 | 819 | 14  | \n",
       "| 120 | 860 | 860 |  0  | \n",
       "| 123 | 915 | 899 | 16  | \n",
       "| 125 | 950 | 953 |  3  | \n",
       "| ⋮ | ⋮ | ⋮ | ⋮ | \n",
       "| 817 | 638 | 632 |  6  | \n",
       "| 824 | 654 | 667 | 13  | \n",
       "| 826 | 655 | 657 |  2  | \n",
       "| 831 | 664 | 663 |  1  | \n",
       "| 834 | 617 | 611 |  6  | \n",
       "| 841 | 611 | 612 |  1  | \n",
       "| 844 | 617 | 623 |  6  | \n",
       "| 849 | 613 | 614 |  1  | \n",
       "| 853 | 617 | 624 |  7  | \n",
       "| 859 | 515 | 542 | 27  | \n",
       "| 863 | 500 | 508 |  8  | \n",
       "| 865 | 491 | 490 |  1  | \n",
       "| 869 | 475 | 474 |  1  | \n",
       "| 874 | 458 | 463 |  5  | \n",
       "| 878 | 446 | 441 |  5  | \n",
       "| 885 | 422 | 424 |  2  | \n",
       "| 888 | 415 | 411 |  4  | \n",
       "| 893 | 387 | 372 | 15  | \n",
       "| 896 | 355 | 359 |  4  | \n",
       "| 901 | 352 | 358 |  6  | \n",
       "| 903 | 349 | 343 |  6  | \n",
       "| 909 | 336 | 339 |  3  | \n",
       "| 914 | 328 | 321 |  7  | \n",
       "| 918 | 335 | 337 |  2  | \n",
       "| 921 | 332 | 323 |  9  | \n",
       "| 925 | 317 | 321 |  4  | \n",
       "| 932 | 224 | 223 |  1  | \n",
       "| 937 | 185 | 183 |  2  | \n",
       "| 942 | 136 | 126 | 10  | \n",
       "| 943 | 145 | 127 | 18  | \n",
       "\n",
       "\n"
      ],
      "text/plain": [
       "    Week Actual Forecast Absolute_Error\n",
       "1     1    1     NA      NA            \n",
       "2     4    1      1       0            \n",
       "3     9    1      1       0            \n",
       "4    15    1      1       0            \n",
       "5    17    1      1       0            \n",
       "6    22    1      1       0            \n",
       "7    27    1      1       0            \n",
       "8    33    1      1       0            \n",
       "9    34    1      1       0            \n",
       "10   41    1      1       0            \n",
       "11   44    1      1       0            \n",
       "12   47    1      1       0            \n",
       "13   52    8      1       7            \n",
       "14   59   48     46       2            \n",
       "15   63   85     65      20            \n",
       "16   65   95    105      10            \n",
       "17   72  175    162      13            \n",
       "18   75  213    226      13            \n",
       "19   78  237    238       1            \n",
       "20   85  305    296       9            \n",
       "21   89  356    353       3            \n",
       "22   94  479    467      12            \n",
       "23   96  555    550       5            \n",
       "24  102  628    616      12            \n",
       "25  107  698    698       0            \n",
       "26  110  722    732      10            \n",
       "27  116  805    819      14            \n",
       "28  120  860    860       0            \n",
       "29  123  915    899      16            \n",
       "30  125  950    953       3            \n",
       "⋮   ⋮    ⋮      ⋮        ⋮             \n",
       "189 817  638    632       6            \n",
       "190 824  654    667      13            \n",
       "191 826  655    657       2            \n",
       "192 831  664    663       1            \n",
       "193 834  617    611       6            \n",
       "194 841  611    612       1            \n",
       "195 844  617    623       6            \n",
       "196 849  613    614       1            \n",
       "197 853  617    624       7            \n",
       "198 859  515    542      27            \n",
       "199 863  500    508       8            \n",
       "200 865  491    490       1            \n",
       "201 869  475    474       1            \n",
       "202 874  458    463       5            \n",
       "203 878  446    441       5            \n",
       "204 885  422    424       2            \n",
       "205 888  415    411       4            \n",
       "206 893  387    372      15            \n",
       "207 896  355    359       4            \n",
       "208 901  352    358       6            \n",
       "209 903  349    343       6            \n",
       "210 909  336    339       3            \n",
       "211 914  328    321       7            \n",
       "212 918  335    337       2            \n",
       "213 921  332    323       9            \n",
       "214 925  317    321       4            \n",
       "215 932  224    223       1            \n",
       "216 937  185    183       2            \n",
       "217 942  136    126      10            \n",
       "218 943  145    127      18            "
      ]
     },
     "metadata": {},
     "output_type": "display_data"
    }
   ],
   "source": [
    "read.csv(file=\"data/mozilla/calendar/predictions/ericsson.csv\", header=TRUE, sep=\",\")"
   ]
  }
 ],
 "metadata": {
  "kernelspec": {
   "display_name": "R 3.3",
   "language": "R",
   "name": "ir33"
  },
  "language_info": {
   "codemirror_mode": "r",
   "file_extension": ".r",
   "mimetype": "text/x-r-source",
   "name": "R",
   "pygments_lexer": "r",
   "version": "3.5.1"
  }
 },
 "nbformat": 4,
 "nbformat_minor": 2
}
