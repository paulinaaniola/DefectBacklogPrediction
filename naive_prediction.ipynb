{
 "cells": [
  {
   "cell_type": "code",
   "execution_count": 1,
   "metadata": {},
   "outputs": [
    {
     "name": "stderr",
     "output_type": "stream",
     "text": [
      "Loading required package: forecast\n",
      "Loading required package: dplyr\n",
      "\n",
      "Attaching package: ‘dplyr’\n",
      "\n",
      "The following objects are masked from ‘package:stats’:\n",
      "\n",
      "    filter, lag\n",
      "\n",
      "The following objects are masked from ‘package:base’:\n",
      "\n",
      "    intersect, setdiff, setequal, union\n",
      "\n"
     ]
    }
   ],
   "source": [
    "if (!require(forecast)){\n",
    "    installed <- T\n",
    "    install.packages(\"forecast\")\n",
    "}\n",
    "if (!require(dplyr)){\n",
    "    install.packages(\"dplyr\")\n",
    "    require(dplyr)\n",
    "}"
   ]
  },
  {
   "cell_type": "code",
   "execution_count": 6,
   "metadata": {},
   "outputs": [],
   "source": [
    "naive_prediction <- function(defect_backlog_path, weeks_to_predict_path, forecast_summary_path){\n",
    "\n",
    "defect_backlog = read.csv(file=defect_backlog_path, header=TRUE, sep=\",\")\n",
    "weeks_to_predict = read.csv(file=weeks_to_predict_path, header=TRUE, sep=\",\")\n",
    "    \n",
    "weekly_inflow_ts = ts(defect_backlog$inflow_all)\n",
    "numbers_of_weeks_to_predict = weeks_to_predict$number\n",
    "\n",
    "forecasts <- c()\n",
    "actuals <- c()\n",
    "errors <- c()\n",
    "method <- \"naive\"\n",
    "    \n",
    "for(i in 1:nrow(weeks_to_predict)){\n",
    "    fc = naive(subset(weekly_inflow_ts, \n",
    "                    start = 1,\n",
    "                    end = numbers_of_weeks_to_predict[i]), h=1)\n",
    "    \n",
    "    forecasts[i] = fc$mean\n",
    "    actuals[i] = defect_backlog %>% filter (number == numbers_of_weeks_to_predict[i]) %>% select (inflow_all)\n",
    "    e <- (1-as.integer(forecasts[i])/as.integer(actuals[i]))*100\n",
    "    errors[i] = round(abs(e),1)\n",
    "}\n",
    "\n",
    "mean_error <- round(mean(errors),2)\n",
    "result <- cbind(Method = method, Week=numbers_of_weeks_to_predict, Actual=actuals, Forecast=forecasts, Error = errors)\n",
    "    \n",
    "write.table(result, file = forecast_summary_path, sep=\",\")\n",
    "}"
   ]
  },
  {
   "cell_type": "code",
   "execution_count": 7,
   "metadata": {},
   "outputs": [],
   "source": [
    "naive_prediction(\"/Users/paulina/magisterka/eclipse/converted_data/platform-backlog_30_12_12-4_1_16.csv\",\n",
    "                 \"/Users/paulina/magisterka/eclipse/samples/samples_30_12_12-4_1_16.csv\",\n",
    "                 \"/Users/paulina/magisterka/eclipse/forecasts/naive_30_12_12-4_1_16.csv\")"
   ]
  },
  {
   "cell_type": "code",
   "execution_count": 8,
   "metadata": {},
   "outputs": [
    {
     "data": {
      "text/html": [
       "<table>\n",
       "<thead><tr><th scope=col>Method</th><th scope=col>Week</th><th scope=col>Actual</th><th scope=col>Forecast</th><th scope=col>Error</th></tr></thead>\n",
       "<tbody>\n",
       "\t<tr><td>naive</td><td> 16  </td><td>74   </td><td> 58  </td><td> 21.6</td></tr>\n",
       "\t<tr><td>naive</td><td> 26  </td><td>54   </td><td> 61  </td><td> 13.0</td></tr>\n",
       "\t<tr><td>naive</td><td> 27  </td><td>59   </td><td> 54  </td><td>  8.5</td></tr>\n",
       "\t<tr><td>naive</td><td> 33  </td><td>58   </td><td> 63  </td><td>  8.6</td></tr>\n",
       "\t<tr><td>naive</td><td> 44  </td><td>66   </td><td> 70  </td><td>  6.1</td></tr>\n",
       "\t<tr><td>naive</td><td> 51  </td><td>23   </td><td> 50  </td><td>117.4</td></tr>\n",
       "\t<tr><td>naive</td><td> 62  </td><td>86   </td><td> 89  </td><td>  3.5</td></tr>\n",
       "\t<tr><td>naive</td><td> 65  </td><td>88   </td><td>102  </td><td> 15.9</td></tr>\n",
       "\t<tr><td>naive</td><td> 70  </td><td>85   </td><td> 81  </td><td>  4.7</td></tr>\n",
       "\t<tr><td>naive</td><td> 83  </td><td>80   </td><td> 82  </td><td>  2.5</td></tr>\n",
       "\t<tr><td>naive</td><td> 86  </td><td>64   </td><td> 59  </td><td>  7.8</td></tr>\n",
       "\t<tr><td>naive</td><td> 87  </td><td>65   </td><td> 64  </td><td>  1.5</td></tr>\n",
       "\t<tr><td>naive</td><td> 95  </td><td>51   </td><td> 67  </td><td> 31.4</td></tr>\n",
       "\t<tr><td>naive</td><td> 98  </td><td>54   </td><td> 70  </td><td> 29.6</td></tr>\n",
       "\t<tr><td>naive</td><td>101  </td><td>86   </td><td> 46  </td><td> 46.5</td></tr>\n",
       "\t<tr><td>naive</td><td>115  </td><td>68   </td><td> 75  </td><td> 10.3</td></tr>\n",
       "\t<tr><td>naive</td><td>122  </td><td>88   </td><td> 92  </td><td>  4.5</td></tr>\n",
       "\t<tr><td>naive</td><td>140  </td><td>44   </td><td> 75  </td><td> 70.5</td></tr>\n",
       "\t<tr><td>naive</td><td>144  </td><td>74   </td><td> 80  </td><td>  8.1</td></tr>\n",
       "\t<tr><td>naive</td><td>148  </td><td>71   </td><td> 68  </td><td>  4.2</td></tr>\n",
       "</tbody>\n",
       "</table>\n"
      ],
      "text/latex": [
       "\\begin{tabular}{r|lllll}\n",
       " Method & Week & Actual & Forecast & Error\\\\\n",
       "\\hline\n",
       "\t naive &  16   & 74    &  58   &  21.6\\\\\n",
       "\t naive &  26   & 54    &  61   &  13.0\\\\\n",
       "\t naive &  27   & 59    &  54   &   8.5\\\\\n",
       "\t naive &  33   & 58    &  63   &   8.6\\\\\n",
       "\t naive &  44   & 66    &  70   &   6.1\\\\\n",
       "\t naive &  51   & 23    &  50   & 117.4\\\\\n",
       "\t naive &  62   & 86    &  89   &   3.5\\\\\n",
       "\t naive &  65   & 88    & 102   &  15.9\\\\\n",
       "\t naive &  70   & 85    &  81   &   4.7\\\\\n",
       "\t naive &  83   & 80    &  82   &   2.5\\\\\n",
       "\t naive &  86   & 64    &  59   &   7.8\\\\\n",
       "\t naive &  87   & 65    &  64   &   1.5\\\\\n",
       "\t naive &  95   & 51    &  67   &  31.4\\\\\n",
       "\t naive &  98   & 54    &  70   &  29.6\\\\\n",
       "\t naive & 101   & 86    &  46   &  46.5\\\\\n",
       "\t naive & 115   & 68    &  75   &  10.3\\\\\n",
       "\t naive & 122   & 88    &  92   &   4.5\\\\\n",
       "\t naive & 140   & 44    &  75   &  70.5\\\\\n",
       "\t naive & 144   & 74    &  80   &   8.1\\\\\n",
       "\t naive & 148   & 71    &  68   &   4.2\\\\\n",
       "\\end{tabular}\n"
      ],
      "text/markdown": [
       "\n",
       "Method | Week | Actual | Forecast | Error | \n",
       "|---|---|---|---|---|---|---|---|---|---|---|---|---|---|---|---|---|---|---|---|\n",
       "| naive |  16   | 74    |  58   |  21.6 | \n",
       "| naive |  26   | 54    |  61   |  13.0 | \n",
       "| naive |  27   | 59    |  54   |   8.5 | \n",
       "| naive |  33   | 58    |  63   |   8.6 | \n",
       "| naive |  44   | 66    |  70   |   6.1 | \n",
       "| naive |  51   | 23    |  50   | 117.4 | \n",
       "| naive |  62   | 86    |  89   |   3.5 | \n",
       "| naive |  65   | 88    | 102   |  15.9 | \n",
       "| naive |  70   | 85    |  81   |   4.7 | \n",
       "| naive |  83   | 80    |  82   |   2.5 | \n",
       "| naive |  86   | 64    |  59   |   7.8 | \n",
       "| naive |  87   | 65    |  64   |   1.5 | \n",
       "| naive |  95   | 51    |  67   |  31.4 | \n",
       "| naive |  98   | 54    |  70   |  29.6 | \n",
       "| naive | 101   | 86    |  46   |  46.5 | \n",
       "| naive | 115   | 68    |  75   |  10.3 | \n",
       "| naive | 122   | 88    |  92   |   4.5 | \n",
       "| naive | 140   | 44    |  75   |  70.5 | \n",
       "| naive | 144   | 74    |  80   |   8.1 | \n",
       "| naive | 148   | 71    |  68   |   4.2 | \n",
       "\n",
       "\n"
      ],
      "text/plain": [
       "   Method Week Actual Forecast Error\n",
       "1  naive   16  74      58       21.6\n",
       "2  naive   26  54      61       13.0\n",
       "3  naive   27  59      54        8.5\n",
       "4  naive   33  58      63        8.6\n",
       "5  naive   44  66      70        6.1\n",
       "6  naive   51  23      50      117.4\n",
       "7  naive   62  86      89        3.5\n",
       "8  naive   65  88     102       15.9\n",
       "9  naive   70  85      81        4.7\n",
       "10 naive   83  80      82        2.5\n",
       "11 naive   86  64      59        7.8\n",
       "12 naive   87  65      64        1.5\n",
       "13 naive   95  51      67       31.4\n",
       "14 naive   98  54      70       29.6\n",
       "15 naive  101  86      46       46.5\n",
       "16 naive  115  68      75       10.3\n",
       "17 naive  122  88      92        4.5\n",
       "18 naive  140  44      75       70.5\n",
       "19 naive  144  74      80        8.1\n",
       "20 naive  148  71      68        4.2"
      ]
     },
     "metadata": {},
     "output_type": "display_data"
    }
   ],
   "source": [
    "read.csv(file=\"/Users/paulina/magisterka/eclipse/forecasts/naive_30_12_12-4_1_16.csv\", header=TRUE, sep=\",\")"
   ]
  }
 ],
 "metadata": {
  "kernelspec": {
   "display_name": "R 3.3",
   "language": "R",
   "name": "ir33"
  },
  "language_info": {
   "codemirror_mode": "r",
   "file_extension": ".r",
   "mimetype": "text/x-r-source",
   "name": "R",
   "pygments_lexer": "r",
   "version": "3.5.1"
  }
 },
 "nbformat": 4,
 "nbformat_minor": 2
}
