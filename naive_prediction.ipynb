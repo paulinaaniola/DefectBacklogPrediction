{
 "cells": [
  {
   "cell_type": "code",
   "execution_count": 1,
   "metadata": {},
   "outputs": [
    {
     "name": "stderr",
     "output_type": "stream",
     "text": [
      "Loading required package: forecast\n",
      "Loading required package: dplyr\n",
      "\n",
      "Attaching package: ‘dplyr’\n",
      "\n",
      "The following objects are masked from ‘package:stats’:\n",
      "\n",
      "    filter, lag\n",
      "\n",
      "The following objects are masked from ‘package:base’:\n",
      "\n",
      "    intersect, setdiff, setequal, union\n",
      "\n"
     ]
    }
   ],
   "source": [
    "if (!require(forecast)){\n",
    "    installed <- T\n",
    "    install.packages(\"forecast\")\n",
    "}\n",
    "if (!require(dplyr)){\n",
    "    install.packages(\"dplyr\")\n",
    "    require(dplyr)\n",
    "}"
   ]
  },
  {
   "cell_type": "code",
   "execution_count": 6,
   "metadata": {},
   "outputs": [],
   "source": [
    "naive_prediction <- function(defect_backlog_path, weeks_to_predict_path, forecast_summary_path){\n",
    "\n",
    "defect_backlog = read.csv(file=defect_backlog_path, header=TRUE, sep=\",\")\n",
    "weeks_to_predict = read.csv(file=weeks_to_predict_path, header=TRUE, sep=\",\")\n",
    "    \n",
    "weekly_backlog_ts = ts(defect_backlog$backlog_all)\n",
    "numbers_of_weeks_to_predict = weeks_to_predict$number\n",
    "\n",
    "forecasts <- c()\n",
    "actuals <- c()\n",
    "errors <- c()\n",
    "method <- \"naive\"\n",
    "    \n",
    "for(i in 1:nrow(weeks_to_predict)){\n",
    "    fc = naive(subset(weekly_backlog_ts, \n",
    "                    start = 1,\n",
    "                    end = numbers_of_weeks_to_predict[i]), h=1)\n",
    "    \n",
    "    forecasts[i] = fc$mean\n",
    "    actuals[i] = defect_backlog %>% filter (number == numbers_of_weeks_to_predict[i]) %>% select (backlog_all)\n",
    "    ae <- as.integer(forecasts[i]) - as.integer(actuals[i])\n",
    "    errors[i] = abs(ae)\n",
    "}\n",
    "\n",
    "result <- cbind(Method = method, Week=numbers_of_weeks_to_predict, Actual=actuals, Forecast=forecasts, Absolute_Error = errors)\n",
    "    \n",
    "write.table(result, file = forecast_summary_path, sep=\",\")\n",
    "}"
   ]
  },
  {
   "cell_type": "code",
   "execution_count": 7,
   "metadata": {},
   "outputs": [],
   "source": [
    "naive_prediction(\"/Users/paulina/magisterka/eclipse/converted_data/platform-backlog_30_12_12-4_1_16.csv\",\n",
    "                 \"/Users/paulina/magisterka/eclipse/samples/samples_30_12_12-4_1_16.csv\",\n",
    "                 \"/Users/paulina/magisterka/eclipse/forecasts/naive_30_12_12-4_1_16.csv\")"
   ]
  },
  {
   "cell_type": "code",
   "execution_count": 16,
   "metadata": {},
   "outputs": [
    {
     "data": {
      "text/html": [
       "<table>\n",
       "<thead><tr><th scope=col>Method</th><th scope=col>Week</th><th scope=col>Actual</th><th scope=col>Forecast</th><th scope=col>Absolute_Error</th></tr></thead>\n",
       "<tbody>\n",
       "\t<tr><td>naive</td><td> 16  </td><td> 625 </td><td> 586 </td><td>39   </td></tr>\n",
       "\t<tr><td>naive</td><td> 26  </td><td> 721 </td><td> 692 </td><td>29   </td></tr>\n",
       "\t<tr><td>naive</td><td> 27  </td><td> 738 </td><td> 721 </td><td>17   </td></tr>\n",
       "\t<tr><td>naive</td><td> 33  </td><td> 878 </td><td> 863 </td><td>15   </td></tr>\n",
       "\t<tr><td>naive</td><td> 44  </td><td> 983 </td><td> 965 </td><td>18   </td></tr>\n",
       "\t<tr><td>naive</td><td> 51  </td><td>1092 </td><td>1078 </td><td>14   </td></tr>\n",
       "\t<tr><td>naive</td><td> 62  </td><td>1250 </td><td>1200 </td><td>50   </td></tr>\n",
       "\t<tr><td>naive</td><td> 65  </td><td>1309 </td><td>1293 </td><td>16   </td></tr>\n",
       "\t<tr><td>naive</td><td> 70  </td><td>1285 </td><td>1277 </td><td> 8   </td></tr>\n",
       "\t<tr><td>naive</td><td> 83  </td><td>1380 </td><td>1376 </td><td> 4   </td></tr>\n",
       "\t<tr><td>naive</td><td> 86  </td><td>1412 </td><td>1406 </td><td> 6   </td></tr>\n",
       "\t<tr><td>naive</td><td> 87  </td><td>1427 </td><td>1412 </td><td>15   </td></tr>\n",
       "\t<tr><td>naive</td><td> 95  </td><td>1443 </td><td>1428 </td><td>15   </td></tr>\n",
       "\t<tr><td>naive</td><td> 98  </td><td>1466 </td><td>1469 </td><td> 3   </td></tr>\n",
       "\t<tr><td>naive</td><td>101  </td><td>1507 </td><td>1484 </td><td>23   </td></tr>\n",
       "\t<tr><td>naive</td><td>115  </td><td>1582 </td><td>1620 </td><td>38   </td></tr>\n",
       "\t<tr><td>naive</td><td>122  </td><td>1621 </td><td>1607 </td><td>14   </td></tr>\n",
       "\t<tr><td>naive</td><td>140  </td><td>1729 </td><td>1728 </td><td> 1   </td></tr>\n",
       "\t<tr><td>naive</td><td>144  </td><td>1826 </td><td>1812 </td><td>14   </td></tr>\n",
       "\t<tr><td>naive</td><td>148  </td><td>1861 </td><td>1856 </td><td> 5   </td></tr>\n",
       "</tbody>\n",
       "</table>\n"
      ],
      "text/latex": [
       "\\begin{tabular}{r|lllll}\n",
       " Method & Week & Actual & Forecast & Absolute\\_Error\\\\\n",
       "\\hline\n",
       "\t naive &  16   &  625  &  586  & 39   \\\\\n",
       "\t naive &  26   &  721  &  692  & 29   \\\\\n",
       "\t naive &  27   &  738  &  721  & 17   \\\\\n",
       "\t naive &  33   &  878  &  863  & 15   \\\\\n",
       "\t naive &  44   &  983  &  965  & 18   \\\\\n",
       "\t naive &  51   & 1092  & 1078  & 14   \\\\\n",
       "\t naive &  62   & 1250  & 1200  & 50   \\\\\n",
       "\t naive &  65   & 1309  & 1293  & 16   \\\\\n",
       "\t naive &  70   & 1285  & 1277  &  8   \\\\\n",
       "\t naive &  83   & 1380  & 1376  &  4   \\\\\n",
       "\t naive &  86   & 1412  & 1406  &  6   \\\\\n",
       "\t naive &  87   & 1427  & 1412  & 15   \\\\\n",
       "\t naive &  95   & 1443  & 1428  & 15   \\\\\n",
       "\t naive &  98   & 1466  & 1469  &  3   \\\\\n",
       "\t naive & 101   & 1507  & 1484  & 23   \\\\\n",
       "\t naive & 115   & 1582  & 1620  & 38   \\\\\n",
       "\t naive & 122   & 1621  & 1607  & 14   \\\\\n",
       "\t naive & 140   & 1729  & 1728  &  1   \\\\\n",
       "\t naive & 144   & 1826  & 1812  & 14   \\\\\n",
       "\t naive & 148   & 1861  & 1856  &  5   \\\\\n",
       "\\end{tabular}\n"
      ],
      "text/markdown": [
       "\n",
       "Method | Week | Actual | Forecast | Absolute_Error | \n",
       "|---|---|---|---|---|---|---|---|---|---|---|---|---|---|---|---|---|---|---|---|\n",
       "| naive |  16   |  625  |  586  | 39    | \n",
       "| naive |  26   |  721  |  692  | 29    | \n",
       "| naive |  27   |  738  |  721  | 17    | \n",
       "| naive |  33   |  878  |  863  | 15    | \n",
       "| naive |  44   |  983  |  965  | 18    | \n",
       "| naive |  51   | 1092  | 1078  | 14    | \n",
       "| naive |  62   | 1250  | 1200  | 50    | \n",
       "| naive |  65   | 1309  | 1293  | 16    | \n",
       "| naive |  70   | 1285  | 1277  |  8    | \n",
       "| naive |  83   | 1380  | 1376  |  4    | \n",
       "| naive |  86   | 1412  | 1406  |  6    | \n",
       "| naive |  87   | 1427  | 1412  | 15    | \n",
       "| naive |  95   | 1443  | 1428  | 15    | \n",
       "| naive |  98   | 1466  | 1469  |  3    | \n",
       "| naive | 101   | 1507  | 1484  | 23    | \n",
       "| naive | 115   | 1582  | 1620  | 38    | \n",
       "| naive | 122   | 1621  | 1607  | 14    | \n",
       "| naive | 140   | 1729  | 1728  |  1    | \n",
       "| naive | 144   | 1826  | 1812  | 14    | \n",
       "| naive | 148   | 1861  | 1856  |  5    | \n",
       "\n",
       "\n"
      ],
      "text/plain": [
       "   Method Week Actual Forecast Absolute_Error\n",
       "1  naive   16   625    586     39            \n",
       "2  naive   26   721    692     29            \n",
       "3  naive   27   738    721     17            \n",
       "4  naive   33   878    863     15            \n",
       "5  naive   44   983    965     18            \n",
       "6  naive   51  1092   1078     14            \n",
       "7  naive   62  1250   1200     50            \n",
       "8  naive   65  1309   1293     16            \n",
       "9  naive   70  1285   1277      8            \n",
       "10 naive   83  1380   1376      4            \n",
       "11 naive   86  1412   1406      6            \n",
       "12 naive   87  1427   1412     15            \n",
       "13 naive   95  1443   1428     15            \n",
       "14 naive   98  1466   1469      3            \n",
       "15 naive  101  1507   1484     23            \n",
       "16 naive  115  1582   1620     38            \n",
       "17 naive  122  1621   1607     14            \n",
       "18 naive  140  1729   1728      1            \n",
       "19 naive  144  1826   1812     14            \n",
       "20 naive  148  1861   1856      5            "
      ]
     },
     "metadata": {},
     "output_type": "display_data"
    }
   ],
   "source": [
    "read.csv(file=\"/Users/paulina/magisterka/eclipse/forecasts/naive_30_12_12-4_1_16.csv\", header=TRUE, sep=\",\")"
   ]
  }
 ],
 "metadata": {
  "kernelspec": {
   "display_name": "R 3.3",
   "language": "R",
   "name": "ir33"
  },
  "language_info": {
   "codemirror_mode": "r",
   "file_extension": ".r",
   "mimetype": "text/x-r-source",
   "name": "R",
   "pygments_lexer": "r",
   "version": "3.5.1"
  }
 },
 "nbformat": 4,
 "nbformat_minor": 2
}
