{
 "cells": [
  {
   "cell_type": "code",
   "execution_count": 57,
   "metadata": {},
   "outputs": [],
   "source": [
    "evaluate_forecasts <- function(base_error_path, errors_paths, raport_drop_path){\n",
    "    base <- read.csv(file=base_error_path, header=TRUE, sep=\",\")\n",
    "    base_mean_error <- mean(base$Absolute_Error)\n",
    "    summary <- data.frame()\n",
    "    ae <- c()\n",
    "    improvement <- c()\n",
    "    method_name <- c()\n",
    "    for(i in 1:length(errors_paths)){\n",
    "        forecasts <- read.csv(file=errors_paths[i], header=TRUE, sep=\",\")\n",
    "        method_name[i] = as.character(forecasts$Method[1])\n",
    "        ae[i] = mean(forecasts$Absolute_Error)\n",
    "        improvement[i] = (1 - as.integer(ae[i])/as.integer(base_mean_error))*100\n",
    "        improvement[i] = round(improvement[i], 1)\n",
    "    }\n",
    "summary = cbind(method_name, ae, improvement)\n",
    "colnames(summary) <- c(\"Method\", \"AE\", \"Improvement\")\n",
    "write.table(summary, file = raport_drop_path, sep=\",\")\n",
    "}"
   ]
  },
  {
   "cell_type": "code",
   "execution_count": 58,
   "metadata": {},
   "outputs": [],
   "source": [
    "evaluate_forecasts(\"/Users/paulina/magisterka/eclipse/forecasts/naive_30_12_12-4_1_16.csv\",\n",
    "                    c(\"/Users/paulina/magisterka/eclipse/forecasts/naive_30_12_12-4_1_16.csv\",\n",
    "                    \"/Users/paulina/magisterka/eclipse/forecasts/ericsson_30_12_12-4_1_16.csv\",\n",
    "                    \"/Users/paulina/magisterka/eclipse/forecasts/auto_arima_30_12_12-4_1_16.csv\"),\n",
    "                    \"/Users/paulina/magisterka/eclipse/forecasts_evaluations/evaluation_30_12_12-4_1_16.csv\"\n",
    "                    )"
   ]
  },
  {
   "cell_type": "code",
   "execution_count": 59,
   "metadata": {},
   "outputs": [
    {
     "data": {
      "text/html": [
       "<table>\n",
       "<thead><tr><th scope=col>Method</th><th scope=col>AE</th><th scope=col>Improvement</th></tr></thead>\n",
       "<tbody>\n",
       "\t<tr><td>naive     </td><td>17.2      </td><td> 0.0      </td></tr>\n",
       "\t<tr><td>ericsson  </td><td>14.4      </td><td>17.6      </td></tr>\n",
       "\t<tr><td>auto_arima</td><td>10.3      </td><td>41.2      </td></tr>\n",
       "</tbody>\n",
       "</table>\n"
      ],
      "text/latex": [
       "\\begin{tabular}{r|lll}\n",
       " Method & AE & Improvement\\\\\n",
       "\\hline\n",
       "\t naive      & 17.2       &  0.0      \\\\\n",
       "\t ericsson   & 14.4       & 17.6      \\\\\n",
       "\t auto\\_arima & 10.3         & 41.2        \\\\\n",
       "\\end{tabular}\n"
      ],
      "text/markdown": [
       "\n",
       "Method | AE | Improvement | \n",
       "|---|---|---|\n",
       "| naive      | 17.2       |  0.0       | \n",
       "| ericsson   | 14.4       | 17.6       | \n",
       "| auto_arima | 10.3       | 41.2       | \n",
       "\n",
       "\n"
      ],
      "text/plain": [
       "  Method     AE   Improvement\n",
       "1 naive      17.2  0.0       \n",
       "2 ericsson   14.4 17.6       \n",
       "3 auto_arima 10.3 41.2       "
      ]
     },
     "metadata": {},
     "output_type": "display_data"
    }
   ],
   "source": [
    "read.csv(file=\"/Users/paulina/magisterka/eclipse/forecasts_evaluations/evaluation_30_12_12-4_1_16.csv\", header=TRUE, sep=\",\")"
   ]
  }
 ],
 "metadata": {
  "kernelspec": {
   "display_name": "R 3.3",
   "language": "R",
   "name": "ir33"
  },
  "language_info": {
   "codemirror_mode": "r",
   "file_extension": ".r",
   "mimetype": "text/x-r-source",
   "name": "R",
   "pygments_lexer": "r",
   "version": "3.5.1"
  }
 },
 "nbformat": 4,
 "nbformat_minor": 2
}
