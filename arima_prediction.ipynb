{
 "cells": [
  {
   "cell_type": "code",
   "execution_count": 1,
   "metadata": {},
   "outputs": [
    {
     "name": "stderr",
     "output_type": "stream",
     "text": [
      "Loading required package: forecast\n",
      "Loading required package: dplyr\n",
      "\n",
      "Attaching package: ‘dplyr’\n",
      "\n",
      "The following objects are masked from ‘package:stats’:\n",
      "\n",
      "    filter, lag\n",
      "\n",
      "The following objects are masked from ‘package:base’:\n",
      "\n",
      "    intersect, setdiff, setequal, union\n",
      "\n"
     ]
    }
   ],
   "source": [
    "if (!require(forecast)){\n",
    "    installed <- T\n",
    "    install.packages(\"forecast\")\n",
    "}\n",
    "if (!require(dplyr)){\n",
    "    install.packages(\"dplyr\")\n",
    "    require(dplyr)\n",
    "}"
   ]
  },
  {
   "cell_type": "code",
   "execution_count": 2,
   "metadata": {},
   "outputs": [],
   "source": [
    "arima_prediction <- function(defect_backlog_path, weeks_to_predict_path, forecast_summary_path){\n",
    "\n",
    "defect_backlog = read.csv(file=defect_backlog_path, header=TRUE, sep=\",\")\n",
    "weeks_to_predict = read.csv(file=weeks_to_predict_path, header=TRUE, sep=\",\")\n",
    "    \n",
    "weekly_inflow_ts = ts(defect_backlog$inflow_all)\n",
    "numbers_of_weeks_to_predict = weeks_to_predict$number\n",
    "\n",
    "forecasts <- c()\n",
    "actuals <- c()\n",
    "errors <- c()\n",
    "method <- \"auto_arima\"\n",
    "    \n",
    "for(i in 1:nrow(weeks_to_predict)){\n",
    "    model = auto.arima(subset(weekly_inflow_ts, \n",
    "                       start = 1,\n",
    "                       end = numbers_of_weeks_to_predict[i]))\n",
    "    \n",
    "    fc = forecast(model,1)\n",
    "    forecasts[i] = round(fc$mean)\n",
    "    actuals[i] = defect_backlog %>% filter (number == numbers_of_weeks_to_predict[i]) %>% select (inflow_all)\n",
    "    e <- (1-as.integer(forecasts[i])/as.integer(actuals[i]))*100\n",
    "    errors[i] = round(abs(e),1)\n",
    "}\n",
    "\n",
    "mean_error <- round(mean(errors),2)\n",
    "result <- cbind(Method = method, Week=numbers_of_weeks_to_predict, Actual=actuals, Forecast=forecasts, Error = errors)\n",
    "\n",
    "write.table(result, file = forecast_summary_path, sep=\",\")\n",
    "}"
   ]
  },
  {
   "cell_type": "code",
   "execution_count": 3,
   "metadata": {},
   "outputs": [],
   "source": [
    "arima_prediction(\"/Users/paulina/magisterka/eclipse/converted_data/platform-backlog_30_12_12-4_1_16.csv\",\n",
    "                 \"/Users/paulina/magisterka/eclipse/samples/samples_30_12_12-4_1_16.csv\",\n",
    "                 \"/Users/paulina/magisterka/eclipse/forecasts/auto_arima_30_12_12-4_1_16.csv\")"
   ]
  },
  {
   "cell_type": "code",
   "execution_count": 4,
   "metadata": {},
   "outputs": [
    {
     "data": {
      "text/html": [
       "<table>\n",
       "<thead><tr><th scope=col>Method</th><th scope=col>Week</th><th scope=col>Actual</th><th scope=col>Forecast</th><th scope=col>Error</th></tr></thead>\n",
       "<tbody>\n",
       "\t<tr><td>auto_arima</td><td> 16       </td><td>74        </td><td>71        </td><td>  4.1     </td></tr>\n",
       "\t<tr><td>auto_arima</td><td> 26       </td><td>54        </td><td>72        </td><td> 33.3     </td></tr>\n",
       "\t<tr><td>auto_arima</td><td> 27       </td><td>59        </td><td>71        </td><td> 20.3     </td></tr>\n",
       "\t<tr><td>auto_arima</td><td> 33       </td><td>58        </td><td>71        </td><td> 22.4     </td></tr>\n",
       "\t<tr><td>auto_arima</td><td> 44       </td><td>66        </td><td>66        </td><td>  0.0     </td></tr>\n",
       "\t<tr><td>auto_arima</td><td> 51       </td><td>23        </td><td>58        </td><td>152.2     </td></tr>\n",
       "\t<tr><td>auto_arima</td><td> 62       </td><td>86        </td><td>86        </td><td>  0.0     </td></tr>\n",
       "\t<tr><td>auto_arima</td><td> 65       </td><td>88        </td><td>86        </td><td>  2.3     </td></tr>\n",
       "\t<tr><td>auto_arima</td><td> 70       </td><td>85        </td><td>74        </td><td> 12.9     </td></tr>\n",
       "\t<tr><td>auto_arima</td><td> 83       </td><td>80        </td><td>74        </td><td>  7.5     </td></tr>\n",
       "\t<tr><td>auto_arima</td><td> 86       </td><td>64        </td><td>63        </td><td>  1.6     </td></tr>\n",
       "\t<tr><td>auto_arima</td><td> 87       </td><td>65        </td><td>65        </td><td>  0.0     </td></tr>\n",
       "\t<tr><td>auto_arima</td><td> 95       </td><td>51        </td><td>66        </td><td> 29.4     </td></tr>\n",
       "\t<tr><td>auto_arima</td><td> 98       </td><td>54        </td><td>67        </td><td> 24.1     </td></tr>\n",
       "\t<tr><td>auto_arima</td><td>101       </td><td>86        </td><td>56        </td><td> 34.9     </td></tr>\n",
       "\t<tr><td>auto_arima</td><td>115       </td><td>68        </td><td>69        </td><td>  1.5     </td></tr>\n",
       "\t<tr><td>auto_arima</td><td>122       </td><td>88        </td><td>77        </td><td> 12.5     </td></tr>\n",
       "\t<tr><td>auto_arima</td><td>140       </td><td>44        </td><td>69        </td><td> 56.8     </td></tr>\n",
       "\t<tr><td>auto_arima</td><td>144       </td><td>74        </td><td>71        </td><td>  4.1     </td></tr>\n",
       "\t<tr><td>auto_arima</td><td>148       </td><td>71        </td><td>66        </td><td>  7.0     </td></tr>\n",
       "</tbody>\n",
       "</table>\n"
      ],
      "text/latex": [
       "\\begin{tabular}{r|lllll}\n",
       " Method & Week & Actual & Forecast & Error\\\\\n",
       "\\hline\n",
       "\t auto\\_arima &  16          & 74           & 71           &   4.1       \\\\\n",
       "\t auto\\_arima &  26          & 54           & 72           &  33.3       \\\\\n",
       "\t auto\\_arima &  27          & 59           & 71           &  20.3       \\\\\n",
       "\t auto\\_arima &  33          & 58           & 71           &  22.4       \\\\\n",
       "\t auto\\_arima &  44          & 66           & 66           &   0.0       \\\\\n",
       "\t auto\\_arima &  51          & 23           & 58           & 152.2       \\\\\n",
       "\t auto\\_arima &  62          & 86           & 86           &   0.0       \\\\\n",
       "\t auto\\_arima &  65          & 88           & 86           &   2.3       \\\\\n",
       "\t auto\\_arima &  70          & 85           & 74           &  12.9       \\\\\n",
       "\t auto\\_arima &  83          & 80           & 74           &   7.5       \\\\\n",
       "\t auto\\_arima &  86          & 64           & 63           &   1.6       \\\\\n",
       "\t auto\\_arima &  87          & 65           & 65           &   0.0       \\\\\n",
       "\t auto\\_arima &  95          & 51           & 66           &  29.4       \\\\\n",
       "\t auto\\_arima &  98          & 54           & 67           &  24.1       \\\\\n",
       "\t auto\\_arima & 101          & 86           & 56           &  34.9       \\\\\n",
       "\t auto\\_arima & 115          & 68           & 69           &   1.5       \\\\\n",
       "\t auto\\_arima & 122          & 88           & 77           &  12.5       \\\\\n",
       "\t auto\\_arima & 140          & 44           & 69           &  56.8       \\\\\n",
       "\t auto\\_arima & 144          & 74           & 71           &   4.1       \\\\\n",
       "\t auto\\_arima & 148          & 71           & 66           &   7.0       \\\\\n",
       "\\end{tabular}\n"
      ],
      "text/markdown": [
       "\n",
       "Method | Week | Actual | Forecast | Error | \n",
       "|---|---|---|---|---|---|---|---|---|---|---|---|---|---|---|---|---|---|---|---|\n",
       "| auto_arima |  16        | 74         | 71         |   4.1      | \n",
       "| auto_arima |  26        | 54         | 72         |  33.3      | \n",
       "| auto_arima |  27        | 59         | 71         |  20.3      | \n",
       "| auto_arima |  33        | 58         | 71         |  22.4      | \n",
       "| auto_arima |  44        | 66         | 66         |   0.0      | \n",
       "| auto_arima |  51        | 23         | 58         | 152.2      | \n",
       "| auto_arima |  62        | 86         | 86         |   0.0      | \n",
       "| auto_arima |  65        | 88         | 86         |   2.3      | \n",
       "| auto_arima |  70        | 85         | 74         |  12.9      | \n",
       "| auto_arima |  83        | 80         | 74         |   7.5      | \n",
       "| auto_arima |  86        | 64         | 63         |   1.6      | \n",
       "| auto_arima |  87        | 65         | 65         |   0.0      | \n",
       "| auto_arima |  95        | 51         | 66         |  29.4      | \n",
       "| auto_arima |  98        | 54         | 67         |  24.1      | \n",
       "| auto_arima | 101        | 86         | 56         |  34.9      | \n",
       "| auto_arima | 115        | 68         | 69         |   1.5      | \n",
       "| auto_arima | 122        | 88         | 77         |  12.5      | \n",
       "| auto_arima | 140        | 44         | 69         |  56.8      | \n",
       "| auto_arima | 144        | 74         | 71         |   4.1      | \n",
       "| auto_arima | 148        | 71         | 66         |   7.0      | \n",
       "\n",
       "\n"
      ],
      "text/plain": [
       "   Method     Week Actual Forecast Error\n",
       "1  auto_arima  16  74     71         4.1\n",
       "2  auto_arima  26  54     72        33.3\n",
       "3  auto_arima  27  59     71        20.3\n",
       "4  auto_arima  33  58     71        22.4\n",
       "5  auto_arima  44  66     66         0.0\n",
       "6  auto_arima  51  23     58       152.2\n",
       "7  auto_arima  62  86     86         0.0\n",
       "8  auto_arima  65  88     86         2.3\n",
       "9  auto_arima  70  85     74        12.9\n",
       "10 auto_arima  83  80     74         7.5\n",
       "11 auto_arima  86  64     63         1.6\n",
       "12 auto_arima  87  65     65         0.0\n",
       "13 auto_arima  95  51     66        29.4\n",
       "14 auto_arima  98  54     67        24.1\n",
       "15 auto_arima 101  86     56        34.9\n",
       "16 auto_arima 115  68     69         1.5\n",
       "17 auto_arima 122  88     77        12.5\n",
       "18 auto_arima 140  44     69        56.8\n",
       "19 auto_arima 144  74     71         4.1\n",
       "20 auto_arima 148  71     66         7.0"
      ]
     },
     "metadata": {},
     "output_type": "display_data"
    }
   ],
   "source": [
    "read.csv(file=\"/Users/paulina/magisterka/eclipse/forecasts/auto_arima_30_12_12-4_1_16.csv\", header=TRUE, sep=\",\")"
   ]
  }
 ],
 "metadata": {
  "kernelspec": {
   "display_name": "R 3.3",
   "language": "R",
   "name": "ir33"
  },
  "language_info": {
   "codemirror_mode": "r",
   "file_extension": ".r",
   "mimetype": "text/x-r-source",
   "name": "R",
   "pygments_lexer": "r",
   "version": "3.5.1"
  }
 },
 "nbformat": 4,
 "nbformat_minor": 2
}
