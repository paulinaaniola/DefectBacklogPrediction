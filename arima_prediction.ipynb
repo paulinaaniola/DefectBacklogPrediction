{
 "cells": [
  {
   "cell_type": "code",
   "execution_count": 1,
   "metadata": {},
   "outputs": [
    {
     "name": "stderr",
     "output_type": "stream",
     "text": [
      "Loading required package: forecast\n",
      "Loading required package: dplyr\n",
      "\n",
      "Attaching package: ‘dplyr’\n",
      "\n",
      "The following objects are masked from ‘package:stats’:\n",
      "\n",
      "    filter, lag\n",
      "\n",
      "The following objects are masked from ‘package:base’:\n",
      "\n",
      "    intersect, setdiff, setequal, union\n",
      "\n"
     ]
    }
   ],
   "source": [
    "if (!require(forecast)){\n",
    "    installed <- T\n",
    "    install.packages(\"forecast\")\n",
    "}\n",
    "if (!require(dplyr)){\n",
    "    install.packages(\"dplyr\")\n",
    "    require(dplyr)\n",
    "}"
   ]
  },
  {
   "cell_type": "code",
   "execution_count": 2,
   "metadata": {},
   "outputs": [],
   "source": [
    "arima_prediction <- function(defect_backlog_path, weeks_to_predict_path, forecast_summary_path){\n",
    "\n",
    "defect_backlog = read.csv(file=defect_backlog_path, header=TRUE, sep=\",\")\n",
    "weeks_to_predict = read.csv(file=weeks_to_predict_path, header=TRUE, sep=\",\")\n",
    "    \n",
    "weekly_backlog_ts = ts(defect_backlog$backlog_all)\n",
    "numbers_of_weeks_to_predict = weeks_to_predict$number\n",
    "\n",
    "forecasts <- c()\n",
    "actuals <- c()\n",
    "errors <- c()\n",
    "method <- \"auto_arima\"\n",
    "    \n",
    "for(i in 1:nrow(weeks_to_predict)){\n",
    "    model = auto.arima(subset(weekly_backlog_ts, \n",
    "                       start = 1,\n",
    "                       end = numbers_of_weeks_to_predict[i]))\n",
    "    \n",
    "    fc = forecast(model,1)\n",
    "    forecasts[i] = round(fc$mean)\n",
    "    actuals[i] = defect_backlog %>% filter (number == numbers_of_weeks_to_predict[i]) %>% select (backlog_all)\n",
    "    ae <- as.integer(forecasts[i]) - as.integer(actuals[i])\n",
    "    errors[i] = abs(ae)\n",
    "}\n",
    "\n",
    "result <- cbind(Method = method, Week=numbers_of_weeks_to_predict, Actual=actuals, Forecast=forecasts, Absolute_Error = errors)\n",
    "\n",
    "write.table(result, file = forecast_summary_path, sep=\",\")\n",
    "}"
   ]
  },
  {
   "cell_type": "code",
   "execution_count": 3,
   "metadata": {},
   "outputs": [],
   "source": [
    "arima_prediction(\"/Users/paulina/magisterka/eclipse/converted_data/platform-backlog_30_12_12-4_1_16.csv\",\n",
    "                 \"/Users/paulina/magisterka/eclipse/samples/samples_30_12_12-4_1_16.csv\",\n",
    "                 \"/Users/paulina/magisterka/eclipse/forecasts/auto_arima_30_12_12-4_1_16.csv\")"
   ]
  },
  {
   "cell_type": "code",
   "execution_count": 20,
   "metadata": {},
   "outputs": [
    {
     "data": {
      "text/html": [
       "<table>\n",
       "<thead><tr><th scope=col>Method</th><th scope=col>Week</th><th scope=col>Actual</th><th scope=col>Forecast</th><th scope=col>Absolute_Error</th></tr></thead>\n",
       "<tbody>\n",
       "\t<tr><td>auto_arima</td><td> 16       </td><td> 625      </td><td> 623      </td><td> 2        </td></tr>\n",
       "\t<tr><td>auto_arima</td><td> 26       </td><td> 721      </td><td> 706      </td><td>15        </td></tr>\n",
       "\t<tr><td>auto_arima</td><td> 27       </td><td> 738      </td><td> 739      </td><td> 1        </td></tr>\n",
       "\t<tr><td>auto_arima</td><td> 33       </td><td> 878      </td><td> 889      </td><td>11        </td></tr>\n",
       "\t<tr><td>auto_arima</td><td> 44       </td><td> 983      </td><td> 975      </td><td> 8        </td></tr>\n",
       "\t<tr><td>auto_arima</td><td> 51       </td><td>1092      </td><td>1092      </td><td> 0        </td></tr>\n",
       "\t<tr><td>auto_arima</td><td> 62       </td><td>1250      </td><td>1212      </td><td>38        </td></tr>\n",
       "\t<tr><td>auto_arima</td><td> 65       </td><td>1309      </td><td>1313      </td><td> 4        </td></tr>\n",
       "\t<tr><td>auto_arima</td><td> 70       </td><td>1285      </td><td>1282      </td><td> 3        </td></tr>\n",
       "\t<tr><td>auto_arima</td><td> 83       </td><td>1380      </td><td>1385      </td><td> 5        </td></tr>\n",
       "\t<tr><td>auto_arima</td><td> 86       </td><td>1412      </td><td>1416      </td><td> 4        </td></tr>\n",
       "\t<tr><td>auto_arima</td><td> 87       </td><td>1427      </td><td>1421      </td><td> 6        </td></tr>\n",
       "\t<tr><td>auto_arima</td><td> 95       </td><td>1443      </td><td>1432      </td><td>11        </td></tr>\n",
       "\t<tr><td>auto_arima</td><td> 98       </td><td>1466      </td><td>1476      </td><td>10        </td></tr>\n",
       "\t<tr><td>auto_arima</td><td>101       </td><td>1507      </td><td>1491      </td><td>16        </td></tr>\n",
       "\t<tr><td>auto_arima</td><td>115       </td><td>1582      </td><td>1631      </td><td>49        </td></tr>\n",
       "\t<tr><td>auto_arima</td><td>122       </td><td>1621      </td><td>1612      </td><td> 9        </td></tr>\n",
       "\t<tr><td>auto_arima</td><td>140       </td><td>1729      </td><td>1735      </td><td> 6        </td></tr>\n",
       "\t<tr><td>auto_arima</td><td>144       </td><td>1826      </td><td>1824      </td><td> 2        </td></tr>\n",
       "\t<tr><td>auto_arima</td><td>148       </td><td>1861      </td><td>1867      </td><td> 6        </td></tr>\n",
       "</tbody>\n",
       "</table>\n"
      ],
      "text/latex": [
       "\\begin{tabular}{r|lllll}\n",
       " Method & Week & Actual & Forecast & Absolute\\_Error\\\\\n",
       "\\hline\n",
       "\t auto\\_arima &  16          &  625         &  623         &  2          \\\\\n",
       "\t auto\\_arima &  26          &  721         &  706         & 15          \\\\\n",
       "\t auto\\_arima &  27          &  738         &  739         &  1          \\\\\n",
       "\t auto\\_arima &  33          &  878         &  889         & 11          \\\\\n",
       "\t auto\\_arima &  44          &  983         &  975         &  8          \\\\\n",
       "\t auto\\_arima &  51          & 1092         & 1092         &  0          \\\\\n",
       "\t auto\\_arima &  62          & 1250         & 1212         & 38          \\\\\n",
       "\t auto\\_arima &  65          & 1309         & 1313         &  4          \\\\\n",
       "\t auto\\_arima &  70          & 1285         & 1282         &  3          \\\\\n",
       "\t auto\\_arima &  83          & 1380         & 1385         &  5          \\\\\n",
       "\t auto\\_arima &  86          & 1412         & 1416         &  4          \\\\\n",
       "\t auto\\_arima &  87          & 1427         & 1421         &  6          \\\\\n",
       "\t auto\\_arima &  95          & 1443         & 1432         & 11          \\\\\n",
       "\t auto\\_arima &  98          & 1466         & 1476         & 10          \\\\\n",
       "\t auto\\_arima & 101          & 1507         & 1491         & 16          \\\\\n",
       "\t auto\\_arima & 115          & 1582         & 1631         & 49          \\\\\n",
       "\t auto\\_arima & 122          & 1621         & 1612         &  9          \\\\\n",
       "\t auto\\_arima & 140          & 1729         & 1735         &  6          \\\\\n",
       "\t auto\\_arima & 144          & 1826         & 1824         &  2          \\\\\n",
       "\t auto\\_arima & 148          & 1861         & 1867         &  6          \\\\\n",
       "\\end{tabular}\n"
      ],
      "text/markdown": [
       "\n",
       "Method | Week | Actual | Forecast | Absolute_Error | \n",
       "|---|---|---|---|---|---|---|---|---|---|---|---|---|---|---|---|---|---|---|---|\n",
       "| auto_arima |  16        |  625       |  623       |  2         | \n",
       "| auto_arima |  26        |  721       |  706       | 15         | \n",
       "| auto_arima |  27        |  738       |  739       |  1         | \n",
       "| auto_arima |  33        |  878       |  889       | 11         | \n",
       "| auto_arima |  44        |  983       |  975       |  8         | \n",
       "| auto_arima |  51        | 1092       | 1092       |  0         | \n",
       "| auto_arima |  62        | 1250       | 1212       | 38         | \n",
       "| auto_arima |  65        | 1309       | 1313       |  4         | \n",
       "| auto_arima |  70        | 1285       | 1282       |  3         | \n",
       "| auto_arima |  83        | 1380       | 1385       |  5         | \n",
       "| auto_arima |  86        | 1412       | 1416       |  4         | \n",
       "| auto_arima |  87        | 1427       | 1421       |  6         | \n",
       "| auto_arima |  95        | 1443       | 1432       | 11         | \n",
       "| auto_arima |  98        | 1466       | 1476       | 10         | \n",
       "| auto_arima | 101        | 1507       | 1491       | 16         | \n",
       "| auto_arima | 115        | 1582       | 1631       | 49         | \n",
       "| auto_arima | 122        | 1621       | 1612       |  9         | \n",
       "| auto_arima | 140        | 1729       | 1735       |  6         | \n",
       "| auto_arima | 144        | 1826       | 1824       |  2         | \n",
       "| auto_arima | 148        | 1861       | 1867       |  6         | \n",
       "\n",
       "\n"
      ],
      "text/plain": [
       "   Method     Week Actual Forecast Absolute_Error\n",
       "1  auto_arima  16   625    623      2            \n",
       "2  auto_arima  26   721    706     15            \n",
       "3  auto_arima  27   738    739      1            \n",
       "4  auto_arima  33   878    889     11            \n",
       "5  auto_arima  44   983    975      8            \n",
       "6  auto_arima  51  1092   1092      0            \n",
       "7  auto_arima  62  1250   1212     38            \n",
       "8  auto_arima  65  1309   1313      4            \n",
       "9  auto_arima  70  1285   1282      3            \n",
       "10 auto_arima  83  1380   1385      5            \n",
       "11 auto_arima  86  1412   1416      4            \n",
       "12 auto_arima  87  1427   1421      6            \n",
       "13 auto_arima  95  1443   1432     11            \n",
       "14 auto_arima  98  1466   1476     10            \n",
       "15 auto_arima 101  1507   1491     16            \n",
       "16 auto_arima 115  1582   1631     49            \n",
       "17 auto_arima 122  1621   1612      9            \n",
       "18 auto_arima 140  1729   1735      6            \n",
       "19 auto_arima 144  1826   1824      2            \n",
       "20 auto_arima 148  1861   1867      6            "
      ]
     },
     "metadata": {},
     "output_type": "display_data"
    }
   ],
   "source": [
    "read.csv(file=\"/Users/paulina/magisterka/eclipse/forecasts/auto_arima_30_12_12-4_1_16.csv\", header=TRUE, sep=\",\")"
   ]
  }
 ],
 "metadata": {
  "kernelspec": {
   "display_name": "R 3.3",
   "language": "R",
   "name": "ir33"
  },
  "language_info": {
   "codemirror_mode": "r",
   "file_extension": ".r",
   "mimetype": "text/x-r-source",
   "name": "R",
   "pygments_lexer": "r",
   "version": "3.5.1"
  }
 },
 "nbformat": 4,
 "nbformat_minor": 2
}
