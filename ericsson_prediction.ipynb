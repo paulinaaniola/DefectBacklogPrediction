{
 "cells": [
  {
   "cell_type": "code",
   "execution_count": 1,
   "metadata": {},
   "outputs": [
    {
     "name": "stderr",
     "output_type": "stream",
     "text": [
      "Loading required package: forecast\n",
      "Loading required package: dplyr\n",
      "\n",
      "Attaching package: ‘dplyr’\n",
      "\n",
      "The following objects are masked from ‘package:stats’:\n",
      "\n",
      "    filter, lag\n",
      "\n",
      "The following objects are masked from ‘package:base’:\n",
      "\n",
      "    intersect, setdiff, setequal, union\n",
      "\n"
     ]
    }
   ],
   "source": [
    "if (!require(forecast)){\n",
    "    installed <- T\n",
    "    install.packages(\"forecast\")\n",
    "}\n",
    "if (!require(dplyr)){\n",
    "    install.packages(\"dplyr\")\n",
    "    require(dplyr)\n",
    "}"
   ]
  },
  {
   "cell_type": "code",
   "execution_count": 3,
   "metadata": {},
   "outputs": [],
   "source": [
    "ericsson_prediction <- function(defect_backlog_path, weeks_to_predict_path, forecast_summary_path){\n",
    "\n",
    "defect_backlog = read.csv(file=defect_backlog_path, header=TRUE, sep=\",\")\n",
    "weeks_to_predict = read.csv(file=weeks_to_predict_path, header=TRUE, sep=\",\")\n",
    "    \n",
    "weekly_inflow_ts = ts(defect_backlog$inflow_all)\n",
    "numbers_of_weeks_to_predict = weeks_to_predict$number\n",
    "\n",
    "forecasts <- c()\n",
    "actuals <- c()\n",
    "errors <- c()\n",
    "method <- \"ericsson\"\n",
    "    \n",
    "for(i in 1:nrow(weeks_to_predict)){\n",
    "    db_1 <- defect_backlog %>% filter (number == numbers_of_weeks_to_predict[i]-1) %>% select (backlog_all)\n",
    "    di_1 <- defect_backlog %>% filter (number == numbers_of_weeks_to_predict[i]-1) %>% select (inflow_all)\n",
    "    di_2 <- defect_backlog %>% filter (number == numbers_of_weeks_to_predict[i]-2) %>% select (inflow_all)\n",
    "    di_3 <- defect_backlog %>% filter (number == numbers_of_weeks_to_predict[i]-3) %>% select (inflow_all)\n",
    "    do_1 <- defect_backlog %>% filter (number == numbers_of_weeks_to_predict[i]-1) %>% select (outflow_all)\n",
    "    do_2 <- defect_backlog %>% filter (number == numbers_of_weeks_to_predict[i]-2) %>% select (outflow_all)\n",
    "    do_3 <- defect_backlog %>% filter (number == numbers_of_weeks_to_predict[i]-3) %>% select (outflow_all)\n",
    "   \n",
    "    di <- (di_1 + di_2 + di_3)/3\n",
    "    do <- (do_1 + do_2 + do_3)/3\n",
    "    db <- db_1 + di - do\n",
    "\n",
    "    forecasts[i] = round(db)\n",
    "    actuals[i] = defect_backlog %>% filter (number == numbers_of_weeks_to_predict[i]) %>% select (backlog_all)\n",
    "    ae <- as.integer(forecasts[i]) - as.integer(actuals[i])\n",
    "    errors[i] = abs(ae)\n",
    "}\n",
    "\n",
    "result <- cbind(Method = method, Week=numbers_of_weeks_to_predict, Actual=actuals, Forecast=forecasts, Absolute_Error = errors)\n",
    "write.table(result, file = forecast_summary_path, sep=\",\")\n",
    "}"
   ]
  },
  {
   "cell_type": "code",
   "execution_count": 8,
   "metadata": {},
   "outputs": [],
   "source": [
    "ericsson_prediction(\"/Users/paulina/magisterka/eclipse/converted_data/platform-backlog_30_12_12-4_1_16.csv\",\n",
    "                 \"/Users/paulina/magisterka/eclipse/samples/samples_30_12_12-4_1_16.csv\",\n",
    "                 \"/Users/paulina/magisterka/eclipse/forecasts/ericsson_30_12_12-4_1_16.csv\")"
   ]
  },
  {
   "cell_type": "code",
   "execution_count": 9,
   "metadata": {},
   "outputs": [
    {
     "data": {
      "text/html": [
       "<table>\n",
       "<thead><tr><th scope=col>Method</th><th scope=col>Week</th><th scope=col>Actual</th><th scope=col>Forecast</th><th scope=col>Absolute_Error</th></tr></thead>\n",
       "<tbody>\n",
       "\t<tr><td>ericsson</td><td> 16     </td><td> 625    </td><td> 614    </td><td>11      </td></tr>\n",
       "\t<tr><td>ericsson</td><td> 26     </td><td> 721    </td><td> 722    </td><td> 1      </td></tr>\n",
       "\t<tr><td>ericsson</td><td> 27     </td><td> 738    </td><td> 748    </td><td>10      </td></tr>\n",
       "\t<tr><td>ericsson</td><td> 33     </td><td> 878    </td><td> 887    </td><td> 9      </td></tr>\n",
       "\t<tr><td>ericsson</td><td> 44     </td><td> 983    </td><td> 971    </td><td>12      </td></tr>\n",
       "\t<tr><td>ericsson</td><td> 51     </td><td>1092    </td><td>1093    </td><td> 1      </td></tr>\n",
       "\t<tr><td>ericsson</td><td> 62     </td><td>1250    </td><td>1213    </td><td>37      </td></tr>\n",
       "\t<tr><td>ericsson</td><td> 65     </td><td>1309    </td><td>1324    </td><td>15      </td></tr>\n",
       "\t<tr><td>ericsson</td><td> 70     </td><td>1285    </td><td>1270    </td><td>15      </td></tr>\n",
       "\t<tr><td>ericsson</td><td> 83     </td><td>1380    </td><td>1393    </td><td>13      </td></tr>\n",
       "\t<tr><td>ericsson</td><td> 86     </td><td>1412    </td><td>1416    </td><td> 4      </td></tr>\n",
       "\t<tr><td>ericsson</td><td> 87     </td><td>1427    </td><td>1423    </td><td> 4      </td></tr>\n",
       "\t<tr><td>ericsson</td><td> 95     </td><td>1443    </td><td>1431    </td><td>12      </td></tr>\n",
       "\t<tr><td>ericsson</td><td> 98     </td><td>1466    </td><td>1483    </td><td>17      </td></tr>\n",
       "\t<tr><td>ericsson</td><td>101     </td><td>1507    </td><td>1489    </td><td>18      </td></tr>\n",
       "\t<tr><td>ericsson</td><td>115     </td><td>1582    </td><td>1645    </td><td>63      </td></tr>\n",
       "\t<tr><td>ericsson</td><td>122     </td><td>1621    </td><td>1608    </td><td>13      </td></tr>\n",
       "\t<tr><td>ericsson</td><td>140     </td><td>1729    </td><td>1743    </td><td>14      </td></tr>\n",
       "\t<tr><td>ericsson</td><td>144     </td><td>1826    </td><td>1840    </td><td>14      </td></tr>\n",
       "\t<tr><td>ericsson</td><td>148     </td><td>1861    </td><td>1866    </td><td> 5      </td></tr>\n",
       "</tbody>\n",
       "</table>\n"
      ],
      "text/latex": [
       "\\begin{tabular}{r|lllll}\n",
       " Method & Week & Actual & Forecast & Absolute\\_Error\\\\\n",
       "\\hline\n",
       "\t ericsson &  16      &  625     &  614     & 11      \\\\\n",
       "\t ericsson &  26      &  721     &  722     &  1      \\\\\n",
       "\t ericsson &  27      &  738     &  748     & 10      \\\\\n",
       "\t ericsson &  33      &  878     &  887     &  9      \\\\\n",
       "\t ericsson &  44      &  983     &  971     & 12      \\\\\n",
       "\t ericsson &  51      & 1092     & 1093     &  1      \\\\\n",
       "\t ericsson &  62      & 1250     & 1213     & 37      \\\\\n",
       "\t ericsson &  65      & 1309     & 1324     & 15      \\\\\n",
       "\t ericsson &  70      & 1285     & 1270     & 15      \\\\\n",
       "\t ericsson &  83      & 1380     & 1393     & 13      \\\\\n",
       "\t ericsson &  86      & 1412     & 1416     &  4      \\\\\n",
       "\t ericsson &  87      & 1427     & 1423     &  4      \\\\\n",
       "\t ericsson &  95      & 1443     & 1431     & 12      \\\\\n",
       "\t ericsson &  98      & 1466     & 1483     & 17      \\\\\n",
       "\t ericsson & 101      & 1507     & 1489     & 18      \\\\\n",
       "\t ericsson & 115      & 1582     & 1645     & 63      \\\\\n",
       "\t ericsson & 122      & 1621     & 1608     & 13      \\\\\n",
       "\t ericsson & 140      & 1729     & 1743     & 14      \\\\\n",
       "\t ericsson & 144      & 1826     & 1840     & 14      \\\\\n",
       "\t ericsson & 148      & 1861     & 1866     &  5      \\\\\n",
       "\\end{tabular}\n"
      ],
      "text/markdown": [
       "\n",
       "Method | Week | Actual | Forecast | Absolute_Error | \n",
       "|---|---|---|---|---|---|---|---|---|---|---|---|---|---|---|---|---|---|---|---|\n",
       "| ericsson |  16      |  625     |  614     | 11       | \n",
       "| ericsson |  26      |  721     |  722     |  1       | \n",
       "| ericsson |  27      |  738     |  748     | 10       | \n",
       "| ericsson |  33      |  878     |  887     |  9       | \n",
       "| ericsson |  44      |  983     |  971     | 12       | \n",
       "| ericsson |  51      | 1092     | 1093     |  1       | \n",
       "| ericsson |  62      | 1250     | 1213     | 37       | \n",
       "| ericsson |  65      | 1309     | 1324     | 15       | \n",
       "| ericsson |  70      | 1285     | 1270     | 15       | \n",
       "| ericsson |  83      | 1380     | 1393     | 13       | \n",
       "| ericsson |  86      | 1412     | 1416     |  4       | \n",
       "| ericsson |  87      | 1427     | 1423     |  4       | \n",
       "| ericsson |  95      | 1443     | 1431     | 12       | \n",
       "| ericsson |  98      | 1466     | 1483     | 17       | \n",
       "| ericsson | 101      | 1507     | 1489     | 18       | \n",
       "| ericsson | 115      | 1582     | 1645     | 63       | \n",
       "| ericsson | 122      | 1621     | 1608     | 13       | \n",
       "| ericsson | 140      | 1729     | 1743     | 14       | \n",
       "| ericsson | 144      | 1826     | 1840     | 14       | \n",
       "| ericsson | 148      | 1861     | 1866     |  5       | \n",
       "\n",
       "\n"
      ],
      "text/plain": [
       "   Method   Week Actual Forecast Absolute_Error\n",
       "1  ericsson  16   625    614     11            \n",
       "2  ericsson  26   721    722      1            \n",
       "3  ericsson  27   738    748     10            \n",
       "4  ericsson  33   878    887      9            \n",
       "5  ericsson  44   983    971     12            \n",
       "6  ericsson  51  1092   1093      1            \n",
       "7  ericsson  62  1250   1213     37            \n",
       "8  ericsson  65  1309   1324     15            \n",
       "9  ericsson  70  1285   1270     15            \n",
       "10 ericsson  83  1380   1393     13            \n",
       "11 ericsson  86  1412   1416      4            \n",
       "12 ericsson  87  1427   1423      4            \n",
       "13 ericsson  95  1443   1431     12            \n",
       "14 ericsson  98  1466   1483     17            \n",
       "15 ericsson 101  1507   1489     18            \n",
       "16 ericsson 115  1582   1645     63            \n",
       "17 ericsson 122  1621   1608     13            \n",
       "18 ericsson 140  1729   1743     14            \n",
       "19 ericsson 144  1826   1840     14            \n",
       "20 ericsson 148  1861   1866      5            "
      ]
     },
     "metadata": {},
     "output_type": "display_data"
    }
   ],
   "source": [
    "read.csv(file=\"/Users/paulina/magisterka/eclipse/forecasts/ericsson_30_12_12-4_1_16.csv\", header=TRUE, sep=\",\")"
   ]
  }
 ],
 "metadata": {
  "kernelspec": {
   "display_name": "R 3.3",
   "language": "R",
   "name": "ir33"
  },
  "language_info": {
   "codemirror_mode": "r",
   "file_extension": ".r",
   "mimetype": "text/x-r-source",
   "name": "R",
   "pygments_lexer": "r",
   "version": "3.5.1"
  }
 },
 "nbformat": 4,
 "nbformat_minor": 2
}
