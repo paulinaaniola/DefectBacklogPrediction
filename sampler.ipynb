{
 "cells": [
  {
   "cell_type": "code",
   "execution_count": 6,
   "metadata": {},
   "outputs": [],
   "source": [
    "import pandas as pd\n",
    "import random"
   ]
  },
  {
   "cell_type": "code",
   "execution_count": 2,
   "metadata": {},
   "outputs": [],
   "source": [
    "def sample_defect_backlog(defect_backlog_path, drop_path):\n",
    "    loaded_defects = pd.read_csv(defect_backlog_path, parse_dates=['from_date', 'to_date'], index_col=0)\n",
    "    random_weeks = []\n",
    "    first_week = loaded_defects[0:1]\n",
    "    months = []\n",
    "    grouped_weeks = []\n",
    "    last_month_number = pd.to_datetime(first_week.from_date).dt.month.item()\n",
    "    grouped_weeks.append(first_week.number.item())\n",
    "\n",
    "    for i in range(1, len(loaded_defects)):\n",
    "        week = loaded_defects[i:i+1]\n",
    "        month_number = pd.to_datetime(week.from_date).dt.month.item()\n",
    "        if(month_number != last_month_number):\n",
    "            months.append(grouped_weeks)\n",
    "            grouped_weeks = []\n",
    "        grouped_weeks.append(week.number.item())\n",
    "        last_month_number = month_number\n",
    "\n",
    "    months.append(grouped_weeks)\n",
    "    months\n",
    "\n",
    "    for i in range(len(months)):\n",
    "        random_weeks.append(random.choice(months[i]))\n",
    "    \n",
    "    pd.DataFrame(random_weeks).to_csv(drop_path, header=None, index=None)"
   ]
  },
  {
   "cell_type": "code",
   "execution_count": 7,
   "metadata": {},
   "outputs": [],
   "source": [
    "sample_defect_backlog('/Users/paulina/magisterka/mozilla/Calendar/mozilla_calendar_backlog.csv',\n",
    "                        '/Users/paulina/magisterka/mozilla/Calendar/mozilla_calendar_samples.csv')"
   ]
  }
 ],
 "metadata": {
  "kernelspec": {
   "display_name": "Python 3",
   "language": "python",
   "name": "python3"
  },
  "language_info": {
   "codemirror_mode": {
    "name": "ipython",
    "version": 3
   },
   "file_extension": ".py",
   "mimetype": "text/x-python",
   "name": "python",
   "nbconvert_exporter": "python",
   "pygments_lexer": "ipython3",
   "version": "3.6.6"
  }
 },
 "nbformat": 4,
 "nbformat_minor": 2
}
